{
 "cells": [
  {
   "cell_type": "code",
   "execution_count": 1,
   "id": "82e57a82-5081-4e56-9352-6f9a2b4e7e8f",
   "metadata": {},
   "outputs": [],
   "source": [
    "import scanpy as sc\n",
    "import numpy as np\n",
    "import matplotlib.pyplot as plt\n",
    "import matplotlib as mpl\n",
    "\n",
    "import cell2location\n",
    "from matplotlib import rcParams\n",
    "from cell2location.utils.filtering import filter_genes\n",
    "\n",
    "from cell2location.models import RegressionModel\n",
    "\n",
    "rcParams['pdf.fonttype'] = 42 # enables correct plotting of text for PDFs\n",
    "\n",
    "results_folder = 'cell2location/results/lymph_nodes_analysis/'\n",
    "\n",
    "# create paths and names to results folders for reference regression and cell2location models\n",
    "ref_run_name = f'{results_folder}/reference_signatures'\n",
    "run_name = f'{results_folder}/cell2location_map'"
   ]
  },
  {
   "cell_type": "code",
   "execution_count": 3,
   "id": "c8f4c866-bd4f-4109-ab65-56e6070680c0",
   "metadata": {},
   "outputs": [
    {
     "name": "stdout",
     "output_type": "stream",
     "text": [
      "None\n"
     ]
    }
   ],
   "source": [
    "import os\n",
    "print(os.environ.get(\"CUDA_VISIBLE_DEVICES\"))"
   ]
  },
  {
   "cell_type": "code",
   "execution_count": 4,
   "id": "c1051cda-0420-4c4b-86f0-e5521224e346",
   "metadata": {},
   "outputs": [],
   "source": [
    "os.environ[\"CUDA_VISIBLE_DEVICES\"] = \"0\"\n",
    "\n",
    "import torch\n",
    "torch.set_float32_matmul_precision('high')  # Ou 'high' se quiser mais desempenho"
   ]
  },
  {
   "cell_type": "code",
   "execution_count": 5,
   "id": "70433042-f2ef-4bfb-905a-513ae0324848",
   "metadata": {},
   "outputs": [
    {
     "name": "stdout",
     "output_type": "stream",
     "text": [
      "False\n",
      "0\n"
     ]
    },
    {
     "data": {
      "text/html": [
       "<pre style=\"white-space:pre;overflow-x:auto;line-height:normal;font-family:Menlo,'DejaVu Sans Mono',consolas,'Courier New',monospace\"><span style=\"color: #800000; text-decoration-color: #800000\">╭─────────────────────────────── </span><span style=\"color: #800000; text-decoration-color: #800000; font-weight: bold\">Traceback </span><span style=\"color: #bf7f7f; text-decoration-color: #bf7f7f; font-weight: bold\">(most recent call last)</span><span style=\"color: #800000; text-decoration-color: #800000\"> ────────────────────────────────╮</span>\n",
       "<span style=\"color: #800000; text-decoration-color: #800000\">│</span> in <span style=\"color: #00ff00; text-decoration-color: #00ff00\">&lt;module&gt;</span>:<span style=\"color: #0000ff; text-decoration-color: #0000ff\">4</span>                                                                                    <span style=\"color: #800000; text-decoration-color: #800000\">│</span>\n",
       "<span style=\"color: #800000; text-decoration-color: #800000\">│</span>                                                                                                  <span style=\"color: #800000; text-decoration-color: #800000\">│</span>\n",
       "<span style=\"color: #800000; text-decoration-color: #800000\">│</span>   <span style=\"color: #7f7f7f; text-decoration-color: #7f7f7f\">1 </span><span style=\"color: #0000ff; text-decoration-color: #0000ff\">import</span><span style=\"color: #808080; text-decoration-color: #808080\"> </span><span style=\"color: #00ffff; text-decoration-color: #00ffff; text-decoration: underline\">torch</span>                                                                                 <span style=\"color: #800000; text-decoration-color: #800000\">│</span>\n",
       "<span style=\"color: #800000; text-decoration-color: #800000\">│</span>   <span style=\"color: #7f7f7f; text-decoration-color: #7f7f7f\">2 </span><span style=\"color: #00ffff; text-decoration-color: #00ffff\">print</span>(torch.cuda.is_available())  <span style=\"color: #7f7f7f; text-decoration-color: #7f7f7f\"># Deve retornar True</span>                                       <span style=\"color: #800000; text-decoration-color: #800000\">│</span>\n",
       "<span style=\"color: #800000; text-decoration-color: #800000\">│</span>   <span style=\"color: #7f7f7f; text-decoration-color: #7f7f7f\">3 </span><span style=\"color: #00ffff; text-decoration-color: #00ffff\">print</span>(torch.cuda.device_count())  <span style=\"color: #7f7f7f; text-decoration-color: #7f7f7f\"># Número de GPUs disponíveis</span>                               <span style=\"color: #800000; text-decoration-color: #800000\">│</span>\n",
       "<span style=\"color: #800000; text-decoration-color: #800000\">│</span> <span style=\"color: #800000; text-decoration-color: #800000\">❱ </span>4 <span style=\"color: #00ffff; text-decoration-color: #00ffff\">print</span>(<span style=\"font-weight: bold; text-decoration: underline\">torch.cuda.get_device_name(</span><span style=\"color: #0000ff; text-decoration-color: #0000ff; font-weight: bold; text-decoration: underline\">0</span><span style=\"font-weight: bold; text-decoration: underline\">)</span>)  <span style=\"color: #7f7f7f; text-decoration-color: #7f7f7f\"># Nome da GPU em uso</span>                                   <span style=\"color: #800000; text-decoration-color: #800000\">│</span>\n",
       "<span style=\"color: #800000; text-decoration-color: #800000\">│</span>   <span style=\"color: #7f7f7f; text-decoration-color: #7f7f7f\">5 </span><span style=\"color: #00ffff; text-decoration-color: #00ffff\">print</span>(torch.cuda.current_device())  <span style=\"color: #7f7f7f; text-decoration-color: #7f7f7f\"># ID da GPU atual</span>                                        <span style=\"color: #800000; text-decoration-color: #800000\">│</span>\n",
       "<span style=\"color: #800000; text-decoration-color: #800000\">│</span>   <span style=\"color: #7f7f7f; text-decoration-color: #7f7f7f\">6 </span>                                                                                             <span style=\"color: #800000; text-decoration-color: #800000\">│</span>\n",
       "<span style=\"color: #800000; text-decoration-color: #800000\">│</span>                                                                                                  <span style=\"color: #800000; text-decoration-color: #800000\">│</span>\n",
       "<span style=\"color: #800000; text-decoration-color: #800000\">│</span> <span style=\"color: #bfbf7f; text-decoration-color: #bfbf7f\">/Users/victor.apolonio/Library/Caches/pypoetry/virtualenvs/hexcore-project-McUDH8AL-py3.13/lib/p</span> <span style=\"color: #800000; text-decoration-color: #800000\">│</span>\n",
       "<span style=\"color: #800000; text-decoration-color: #800000\">│</span> <span style=\"color: #bfbf7f; text-decoration-color: #bfbf7f\">ython3.13/site-packages/torch/cuda/</span><span style=\"color: #808000; text-decoration-color: #808000; font-weight: bold\">__init__.py</span>:<span style=\"color: #0000ff; text-decoration-color: #0000ff\">491</span> in <span style=\"color: #00ff00; text-decoration-color: #00ff00\">get_device_name</span>                            <span style=\"color: #800000; text-decoration-color: #800000\">│</span>\n",
       "<span style=\"color: #800000; text-decoration-color: #800000\">│</span>                                                                                                  <span style=\"color: #800000; text-decoration-color: #800000\">│</span>\n",
       "<span style=\"color: #800000; text-decoration-color: #800000\">│</span>   <span style=\"color: #7f7f7f; text-decoration-color: #7f7f7f\"> 488 </span><span style=\"color: #bfbf7f; text-decoration-color: #bfbf7f\">│   </span><span style=\"color: #808000; text-decoration-color: #808000\">Returns:</span>                                                                              <span style=\"color: #800000; text-decoration-color: #800000\">│</span>\n",
       "<span style=\"color: #800000; text-decoration-color: #800000\">│</span>   <span style=\"color: #7f7f7f; text-decoration-color: #7f7f7f\"> 489 </span><span style=\"color: #bfbf7f; text-decoration-color: #bfbf7f\">│   │   </span><span style=\"color: #808000; text-decoration-color: #808000\">str: the name of the device</span>                                                       <span style=\"color: #800000; text-decoration-color: #800000\">│</span>\n",
       "<span style=\"color: #800000; text-decoration-color: #800000\">│</span>   <span style=\"color: #7f7f7f; text-decoration-color: #7f7f7f\"> 490 </span><span style=\"color: #bfbf7f; text-decoration-color: #bfbf7f\">│   </span><span style=\"color: #808000; text-decoration-color: #808000\">\"\"\"</span>                                                                                   <span style=\"color: #800000; text-decoration-color: #800000\">│</span>\n",
       "<span style=\"color: #800000; text-decoration-color: #800000\">│</span> <span style=\"color: #800000; text-decoration-color: #800000\">❱ </span> 491 <span style=\"color: #7f7f7f; text-decoration-color: #7f7f7f\">│   </span><span style=\"color: #0000ff; text-decoration-color: #0000ff\">return</span> <span style=\"font-weight: bold; text-decoration: underline\">get_device_properties(device)</span>.name                                             <span style=\"color: #800000; text-decoration-color: #800000\">│</span>\n",
       "<span style=\"color: #800000; text-decoration-color: #800000\">│</span>   <span style=\"color: #7f7f7f; text-decoration-color: #7f7f7f\"> 492 </span>                                                                                          <span style=\"color: #800000; text-decoration-color: #800000\">│</span>\n",
       "<span style=\"color: #800000; text-decoration-color: #800000\">│</span>   <span style=\"color: #7f7f7f; text-decoration-color: #7f7f7f\"> 493 </span>                                                                                          <span style=\"color: #800000; text-decoration-color: #800000\">│</span>\n",
       "<span style=\"color: #800000; text-decoration-color: #800000\">│</span>   <span style=\"color: #7f7f7f; text-decoration-color: #7f7f7f\"> 494 </span><span style=\"color: #0000ff; text-decoration-color: #0000ff\">def</span><span style=\"color: #808080; text-decoration-color: #808080\"> </span><span style=\"color: #00ff00; text-decoration-color: #00ff00\">get_device_capability</span>(device: Optional[_device_t] = <span style=\"color: #0000ff; text-decoration-color: #0000ff\">None</span>) -&gt; Tuple[<span style=\"color: #00ffff; text-decoration-color: #00ffff\">int</span>, <span style=\"color: #00ffff; text-decoration-color: #00ffff\">int</span>]:         <span style=\"color: #800000; text-decoration-color: #800000\">│</span>\n",
       "<span style=\"color: #800000; text-decoration-color: #800000\">│</span>                                                                                                  <span style=\"color: #800000; text-decoration-color: #800000\">│</span>\n",
       "<span style=\"color: #800000; text-decoration-color: #800000\">│</span> <span style=\"color: #bfbf7f; text-decoration-color: #bfbf7f\">/Users/victor.apolonio/Library/Caches/pypoetry/virtualenvs/hexcore-project-McUDH8AL-py3.13/lib/p</span> <span style=\"color: #800000; text-decoration-color: #800000\">│</span>\n",
       "<span style=\"color: #800000; text-decoration-color: #800000\">│</span> <span style=\"color: #bfbf7f; text-decoration-color: #bfbf7f\">ython3.13/site-packages/torch/cuda/</span><span style=\"color: #808000; text-decoration-color: #808000; font-weight: bold\">__init__.py</span>:<span style=\"color: #0000ff; text-decoration-color: #0000ff\">523</span> in <span style=\"color: #00ff00; text-decoration-color: #00ff00\">get_device_properties</span>                      <span style=\"color: #800000; text-decoration-color: #800000\">│</span>\n",
       "<span style=\"color: #800000; text-decoration-color: #800000\">│</span>                                                                                                  <span style=\"color: #800000; text-decoration-color: #800000\">│</span>\n",
       "<span style=\"color: #800000; text-decoration-color: #800000\">│</span>   <span style=\"color: #7f7f7f; text-decoration-color: #7f7f7f\"> 520 </span><span style=\"color: #bfbf7f; text-decoration-color: #bfbf7f\">│   </span><span style=\"color: #808000; text-decoration-color: #808000\">Returns:</span>                                                                              <span style=\"color: #800000; text-decoration-color: #800000\">│</span>\n",
       "<span style=\"color: #800000; text-decoration-color: #800000\">│</span>   <span style=\"color: #7f7f7f; text-decoration-color: #7f7f7f\"> 521 </span><span style=\"color: #bfbf7f; text-decoration-color: #bfbf7f\">│   │   </span><span style=\"color: #808000; text-decoration-color: #808000\">_CudaDeviceProperties: the properties of the device</span>                               <span style=\"color: #800000; text-decoration-color: #800000\">│</span>\n",
       "<span style=\"color: #800000; text-decoration-color: #800000\">│</span>   <span style=\"color: #7f7f7f; text-decoration-color: #7f7f7f\"> 522 </span><span style=\"color: #bfbf7f; text-decoration-color: #bfbf7f\">│   </span><span style=\"color: #808000; text-decoration-color: #808000\">\"\"\"</span>                                                                                   <span style=\"color: #800000; text-decoration-color: #800000\">│</span>\n",
       "<span style=\"color: #800000; text-decoration-color: #800000\">│</span> <span style=\"color: #800000; text-decoration-color: #800000\">❱ </span> 523 <span style=\"color: #7f7f7f; text-decoration-color: #7f7f7f\">│   </span><span style=\"font-weight: bold; text-decoration: underline\">_lazy_init()</span>  <span style=\"color: #7f7f7f; text-decoration-color: #7f7f7f\"># will define _get_device_properties</span>                                    <span style=\"color: #800000; text-decoration-color: #800000\">│</span>\n",
       "<span style=\"color: #800000; text-decoration-color: #800000\">│</span>   <span style=\"color: #7f7f7f; text-decoration-color: #7f7f7f\"> 524 </span><span style=\"color: #7f7f7f; text-decoration-color: #7f7f7f\">│   </span>device = _get_device_index(device, optional=<span style=\"color: #0000ff; text-decoration-color: #0000ff\">True</span>)                                     <span style=\"color: #800000; text-decoration-color: #800000\">│</span>\n",
       "<span style=\"color: #800000; text-decoration-color: #800000\">│</span>   <span style=\"color: #7f7f7f; text-decoration-color: #7f7f7f\"> 525 </span><span style=\"color: #7f7f7f; text-decoration-color: #7f7f7f\">│   </span><span style=\"color: #0000ff; text-decoration-color: #0000ff\">if</span> device &lt; <span style=\"color: #0000ff; text-decoration-color: #0000ff\">0</span> <span style=\"color: #ff00ff; text-decoration-color: #ff00ff\">or</span> device &gt;= device_count():                                            <span style=\"color: #800000; text-decoration-color: #800000\">│</span>\n",
       "<span style=\"color: #800000; text-decoration-color: #800000\">│</span>   <span style=\"color: #7f7f7f; text-decoration-color: #7f7f7f\"> 526 </span><span style=\"color: #7f7f7f; text-decoration-color: #7f7f7f\">│   │   </span><span style=\"color: #0000ff; text-decoration-color: #0000ff\">raise</span> <span style=\"color: #00ffff; text-decoration-color: #00ffff\">AssertionError</span>(<span style=\"color: #808000; text-decoration-color: #808000\">\"Invalid device id\"</span>)                                         <span style=\"color: #800000; text-decoration-color: #800000\">│</span>\n",
       "<span style=\"color: #800000; text-decoration-color: #800000\">│</span>                                                                                                  <span style=\"color: #800000; text-decoration-color: #800000\">│</span>\n",
       "<span style=\"color: #800000; text-decoration-color: #800000\">│</span> <span style=\"color: #bfbf7f; text-decoration-color: #bfbf7f\">/Users/victor.apolonio/Library/Caches/pypoetry/virtualenvs/hexcore-project-McUDH8AL-py3.13/lib/p</span> <span style=\"color: #800000; text-decoration-color: #800000\">│</span>\n",
       "<span style=\"color: #800000; text-decoration-color: #800000\">│</span> <span style=\"color: #bfbf7f; text-decoration-color: #bfbf7f\">ython3.13/site-packages/torch/cuda/</span><span style=\"color: #808000; text-decoration-color: #808000; font-weight: bold\">__init__.py</span>:<span style=\"color: #0000ff; text-decoration-color: #0000ff\">310</span> in <span style=\"color: #00ff00; text-decoration-color: #00ff00\">_lazy_init</span>                                 <span style=\"color: #800000; text-decoration-color: #800000\">│</span>\n",
       "<span style=\"color: #800000; text-decoration-color: #800000\">│</span>                                                                                                  <span style=\"color: #800000; text-decoration-color: #800000\">│</span>\n",
       "<span style=\"color: #800000; text-decoration-color: #800000\">│</span>   <span style=\"color: #7f7f7f; text-decoration-color: #7f7f7f\"> 307 </span><span style=\"color: #7f7f7f; text-decoration-color: #7f7f7f\">│   │   │   │   </span><span style=\"color: #808000; text-decoration-color: #808000\">\"multiprocessing, you must use the 'spawn' start method\"</span>                  <span style=\"color: #800000; text-decoration-color: #800000\">│</span>\n",
       "<span style=\"color: #800000; text-decoration-color: #800000\">│</span>   <span style=\"color: #7f7f7f; text-decoration-color: #7f7f7f\"> 308 </span><span style=\"color: #7f7f7f; text-decoration-color: #7f7f7f\">│   │   │   </span>)                                                                             <span style=\"color: #800000; text-decoration-color: #800000\">│</span>\n",
       "<span style=\"color: #800000; text-decoration-color: #800000\">│</span>   <span style=\"color: #7f7f7f; text-decoration-color: #7f7f7f\"> 309 </span><span style=\"color: #7f7f7f; text-decoration-color: #7f7f7f\">│   │   </span><span style=\"color: #0000ff; text-decoration-color: #0000ff\">if</span> <span style=\"color: #ff00ff; text-decoration-color: #ff00ff\">not</span> <span style=\"color: #00ffff; text-decoration-color: #00ffff\">hasattr</span>(torch._C, <span style=\"color: #808000; text-decoration-color: #808000\">\"_cuda_getDeviceCount\"</span>):                                 <span style=\"color: #800000; text-decoration-color: #800000\">│</span>\n",
       "<span style=\"color: #800000; text-decoration-color: #800000\">│</span> <span style=\"color: #800000; text-decoration-color: #800000\">❱ </span> 310 <span style=\"color: #7f7f7f; text-decoration-color: #7f7f7f\">│   │   │   </span><span style=\"color: #0000ff; text-decoration-color: #0000ff; font-weight: bold; text-decoration: underline\">raise</span><span style=\"font-weight: bold; text-decoration: underline\"> </span><span style=\"color: #00ffff; text-decoration-color: #00ffff; font-weight: bold; text-decoration: underline\">AssertionError</span><span style=\"font-weight: bold; text-decoration: underline\">(</span><span style=\"color: #808000; text-decoration-color: #808000; font-weight: bold; text-decoration: underline\">\"Torch not compiled with CUDA enabled\"</span><span style=\"font-weight: bold; text-decoration: underline\">)</span>                  <span style=\"color: #800000; text-decoration-color: #800000\">│</span>\n",
       "<span style=\"color: #800000; text-decoration-color: #800000\">│</span>   <span style=\"color: #7f7f7f; text-decoration-color: #7f7f7f\"> 311 </span><span style=\"color: #7f7f7f; text-decoration-color: #7f7f7f\">│   │   </span><span style=\"color: #0000ff; text-decoration-color: #0000ff\">if</span> _cudart <span style=\"color: #ff00ff; text-decoration-color: #ff00ff\">is</span> <span style=\"color: #0000ff; text-decoration-color: #0000ff\">None</span>:                                                               <span style=\"color: #800000; text-decoration-color: #800000\">│</span>\n",
       "<span style=\"color: #800000; text-decoration-color: #800000\">│</span>   <span style=\"color: #7f7f7f; text-decoration-color: #7f7f7f\"> 312 </span><span style=\"color: #7f7f7f; text-decoration-color: #7f7f7f\">│   │   │   </span><span style=\"color: #0000ff; text-decoration-color: #0000ff\">raise</span> <span style=\"color: #00ffff; text-decoration-color: #00ffff\">AssertionError</span>(                                                         <span style=\"color: #800000; text-decoration-color: #800000\">│</span>\n",
       "<span style=\"color: #800000; text-decoration-color: #800000\">│</span>   <span style=\"color: #7f7f7f; text-decoration-color: #7f7f7f\"> 313 </span><span style=\"color: #7f7f7f; text-decoration-color: #7f7f7f\">│   │   │   │   </span><span style=\"color: #808000; text-decoration-color: #808000\">\"libcudart functions unavailable. It looks like you have a broken build?</span>  <span style=\"color: #800000; text-decoration-color: #800000\">│</span>\n",
       "<span style=\"color: #800000; text-decoration-color: #800000\">╰──────────────────────────────────────────────────────────────────────────────────────────────────╯</span>\n",
       "<span style=\"color: #ff0000; text-decoration-color: #ff0000; font-weight: bold\">AssertionError: </span>Torch not compiled with CUDA enabled\n",
       "</pre>\n"
      ],
      "text/plain": [
       "\u001b[31m╭─\u001b[0m\u001b[31m──────────────────────────────\u001b[0m\u001b[31m \u001b[0m\u001b[1;31mTraceback \u001b[0m\u001b[1;2;31m(most recent call last)\u001b[0m\u001b[31m \u001b[0m\u001b[31m───────────────────────────────\u001b[0m\u001b[31m─╮\u001b[0m\n",
       "\u001b[31m│\u001b[0m in \u001b[92m<module>\u001b[0m:\u001b[94m4\u001b[0m                                                                                    \u001b[31m│\u001b[0m\n",
       "\u001b[31m│\u001b[0m                                                                                                  \u001b[31m│\u001b[0m\n",
       "\u001b[31m│\u001b[0m   \u001b[2m1 \u001b[0m\u001b[94mimport\u001b[0m\u001b[90m \u001b[0m\u001b[4;96mtorch\u001b[0m                                                                                 \u001b[31m│\u001b[0m\n",
       "\u001b[31m│\u001b[0m   \u001b[2m2 \u001b[0m\u001b[96mprint\u001b[0m(torch.cuda.is_available())  \u001b[2m# Deve retornar True\u001b[0m                                       \u001b[31m│\u001b[0m\n",
       "\u001b[31m│\u001b[0m   \u001b[2m3 \u001b[0m\u001b[96mprint\u001b[0m(torch.cuda.device_count())  \u001b[2m# Número de GPUs disponíveis\u001b[0m                               \u001b[31m│\u001b[0m\n",
       "\u001b[31m│\u001b[0m \u001b[31m❱ \u001b[0m4 \u001b[96mprint\u001b[0m(\u001b[1;4mtorch.cuda.get_device_name(\u001b[0m\u001b[1;4;94m0\u001b[0m\u001b[1;4m)\u001b[0m)  \u001b[2m# Nome da GPU em uso\u001b[0m                                   \u001b[31m│\u001b[0m\n",
       "\u001b[31m│\u001b[0m   \u001b[2m5 \u001b[0m\u001b[96mprint\u001b[0m(torch.cuda.current_device())  \u001b[2m# ID da GPU atual\u001b[0m                                        \u001b[31m│\u001b[0m\n",
       "\u001b[31m│\u001b[0m   \u001b[2m6 \u001b[0m                                                                                             \u001b[31m│\u001b[0m\n",
       "\u001b[31m│\u001b[0m                                                                                                  \u001b[31m│\u001b[0m\n",
       "\u001b[31m│\u001b[0m \u001b[2;33m/Users/victor.apolonio/Library/Caches/pypoetry/virtualenvs/hexcore-project-McUDH8AL-py3.13/lib/p\u001b[0m \u001b[31m│\u001b[0m\n",
       "\u001b[31m│\u001b[0m \u001b[2;33mython3.13/site-packages/torch/cuda/\u001b[0m\u001b[1;33m__init__.py\u001b[0m:\u001b[94m491\u001b[0m in \u001b[92mget_device_name\u001b[0m                            \u001b[31m│\u001b[0m\n",
       "\u001b[31m│\u001b[0m                                                                                                  \u001b[31m│\u001b[0m\n",
       "\u001b[31m│\u001b[0m   \u001b[2m 488 \u001b[0m\u001b[2;33m│   \u001b[0m\u001b[33mReturns:\u001b[0m                                                                              \u001b[31m│\u001b[0m\n",
       "\u001b[31m│\u001b[0m   \u001b[2m 489 \u001b[0m\u001b[2;33m│   │   \u001b[0m\u001b[33mstr: the name of the device\u001b[0m                                                       \u001b[31m│\u001b[0m\n",
       "\u001b[31m│\u001b[0m   \u001b[2m 490 \u001b[0m\u001b[2;33m│   \u001b[0m\u001b[33m\"\"\"\u001b[0m                                                                                   \u001b[31m│\u001b[0m\n",
       "\u001b[31m│\u001b[0m \u001b[31m❱ \u001b[0m 491 \u001b[2m│   \u001b[0m\u001b[94mreturn\u001b[0m \u001b[1;4mget_device_properties(device)\u001b[0m.name                                             \u001b[31m│\u001b[0m\n",
       "\u001b[31m│\u001b[0m   \u001b[2m 492 \u001b[0m                                                                                          \u001b[31m│\u001b[0m\n",
       "\u001b[31m│\u001b[0m   \u001b[2m 493 \u001b[0m                                                                                          \u001b[31m│\u001b[0m\n",
       "\u001b[31m│\u001b[0m   \u001b[2m 494 \u001b[0m\u001b[94mdef\u001b[0m\u001b[90m \u001b[0m\u001b[92mget_device_capability\u001b[0m(device: Optional[_device_t] = \u001b[94mNone\u001b[0m) -> Tuple[\u001b[96mint\u001b[0m, \u001b[96mint\u001b[0m]:         \u001b[31m│\u001b[0m\n",
       "\u001b[31m│\u001b[0m                                                                                                  \u001b[31m│\u001b[0m\n",
       "\u001b[31m│\u001b[0m \u001b[2;33m/Users/victor.apolonio/Library/Caches/pypoetry/virtualenvs/hexcore-project-McUDH8AL-py3.13/lib/p\u001b[0m \u001b[31m│\u001b[0m\n",
       "\u001b[31m│\u001b[0m \u001b[2;33mython3.13/site-packages/torch/cuda/\u001b[0m\u001b[1;33m__init__.py\u001b[0m:\u001b[94m523\u001b[0m in \u001b[92mget_device_properties\u001b[0m                      \u001b[31m│\u001b[0m\n",
       "\u001b[31m│\u001b[0m                                                                                                  \u001b[31m│\u001b[0m\n",
       "\u001b[31m│\u001b[0m   \u001b[2m 520 \u001b[0m\u001b[2;33m│   \u001b[0m\u001b[33mReturns:\u001b[0m                                                                              \u001b[31m│\u001b[0m\n",
       "\u001b[31m│\u001b[0m   \u001b[2m 521 \u001b[0m\u001b[2;33m│   │   \u001b[0m\u001b[33m_CudaDeviceProperties: the properties of the device\u001b[0m                               \u001b[31m│\u001b[0m\n",
       "\u001b[31m│\u001b[0m   \u001b[2m 522 \u001b[0m\u001b[2;33m│   \u001b[0m\u001b[33m\"\"\"\u001b[0m                                                                                   \u001b[31m│\u001b[0m\n",
       "\u001b[31m│\u001b[0m \u001b[31m❱ \u001b[0m 523 \u001b[2m│   \u001b[0m\u001b[1;4m_lazy_init()\u001b[0m  \u001b[2m# will define _get_device_properties\u001b[0m                                    \u001b[31m│\u001b[0m\n",
       "\u001b[31m│\u001b[0m   \u001b[2m 524 \u001b[0m\u001b[2m│   \u001b[0mdevice = _get_device_index(device, optional=\u001b[94mTrue\u001b[0m)                                     \u001b[31m│\u001b[0m\n",
       "\u001b[31m│\u001b[0m   \u001b[2m 525 \u001b[0m\u001b[2m│   \u001b[0m\u001b[94mif\u001b[0m device < \u001b[94m0\u001b[0m \u001b[95mor\u001b[0m device >= device_count():                                            \u001b[31m│\u001b[0m\n",
       "\u001b[31m│\u001b[0m   \u001b[2m 526 \u001b[0m\u001b[2m│   │   \u001b[0m\u001b[94mraise\u001b[0m \u001b[96mAssertionError\u001b[0m(\u001b[33m\"\u001b[0m\u001b[33mInvalid device id\u001b[0m\u001b[33m\"\u001b[0m)                                         \u001b[31m│\u001b[0m\n",
       "\u001b[31m│\u001b[0m                                                                                                  \u001b[31m│\u001b[0m\n",
       "\u001b[31m│\u001b[0m \u001b[2;33m/Users/victor.apolonio/Library/Caches/pypoetry/virtualenvs/hexcore-project-McUDH8AL-py3.13/lib/p\u001b[0m \u001b[31m│\u001b[0m\n",
       "\u001b[31m│\u001b[0m \u001b[2;33mython3.13/site-packages/torch/cuda/\u001b[0m\u001b[1;33m__init__.py\u001b[0m:\u001b[94m310\u001b[0m in \u001b[92m_lazy_init\u001b[0m                                 \u001b[31m│\u001b[0m\n",
       "\u001b[31m│\u001b[0m                                                                                                  \u001b[31m│\u001b[0m\n",
       "\u001b[31m│\u001b[0m   \u001b[2m 307 \u001b[0m\u001b[2m│   │   │   │   \u001b[0m\u001b[33m\"\u001b[0m\u001b[33mmultiprocessing, you must use the \u001b[0m\u001b[33m'\u001b[0m\u001b[33mspawn\u001b[0m\u001b[33m'\u001b[0m\u001b[33m start method\u001b[0m\u001b[33m\"\u001b[0m                  \u001b[31m│\u001b[0m\n",
       "\u001b[31m│\u001b[0m   \u001b[2m 308 \u001b[0m\u001b[2m│   │   │   \u001b[0m)                                                                             \u001b[31m│\u001b[0m\n",
       "\u001b[31m│\u001b[0m   \u001b[2m 309 \u001b[0m\u001b[2m│   │   \u001b[0m\u001b[94mif\u001b[0m \u001b[95mnot\u001b[0m \u001b[96mhasattr\u001b[0m(torch._C, \u001b[33m\"\u001b[0m\u001b[33m_cuda_getDeviceCount\u001b[0m\u001b[33m\"\u001b[0m):                                 \u001b[31m│\u001b[0m\n",
       "\u001b[31m│\u001b[0m \u001b[31m❱ \u001b[0m 310 \u001b[2m│   │   │   \u001b[0m\u001b[1;4;94mraise\u001b[0m\u001b[1;4m \u001b[0m\u001b[1;4;96mAssertionError\u001b[0m\u001b[1;4m(\u001b[0m\u001b[1;4;33m\"\u001b[0m\u001b[1;4;33mTorch not compiled with CUDA enabled\u001b[0m\u001b[1;4;33m\"\u001b[0m\u001b[1;4m)\u001b[0m                  \u001b[31m│\u001b[0m\n",
       "\u001b[31m│\u001b[0m   \u001b[2m 311 \u001b[0m\u001b[2m│   │   \u001b[0m\u001b[94mif\u001b[0m _cudart \u001b[95mis\u001b[0m \u001b[94mNone\u001b[0m:                                                               \u001b[31m│\u001b[0m\n",
       "\u001b[31m│\u001b[0m   \u001b[2m 312 \u001b[0m\u001b[2m│   │   │   \u001b[0m\u001b[94mraise\u001b[0m \u001b[96mAssertionError\u001b[0m(                                                         \u001b[31m│\u001b[0m\n",
       "\u001b[31m│\u001b[0m   \u001b[2m 313 \u001b[0m\u001b[2m│   │   │   │   \u001b[0m\u001b[33m\"\u001b[0m\u001b[33mlibcudart functions unavailable. It looks like you have a broken build?\u001b[0m  \u001b[31m│\u001b[0m\n",
       "\u001b[31m╰──────────────────────────────────────────────────────────────────────────────────────────────────╯\u001b[0m\n",
       "\u001b[1;91mAssertionError: \u001b[0mTorch not compiled with CUDA enabled\n"
      ]
     },
     "metadata": {},
     "output_type": "display_data"
    }
   ],
   "source": [
    "import torch\n",
    "print(torch.cuda.is_available())  # Deve retornar True\n",
    "print(torch.cuda.device_count())  # Número de GPUs disponíveis\n",
    "print(torch.cuda.get_device_name(0))  # Nome da GPU em uso\n",
    "print(torch.cuda.current_device())  # ID da GPU atual"
   ]
  },
  {
   "cell_type": "markdown",
   "id": "3df0b28f-1280-44dd-9222-814427088939",
   "metadata": {},
   "source": [
    "\n",
    "Published scRNA-seq datasets of lymph nodes have typically lacked an adequate representation of germinal centre-associated immune cell populations due to age of patient donors. We, therefore, include scRNA-seq datasets spanning lymph nodes, spleen and tonsils in our single-cell reference to ensure that we captured the full diversity of immune cell states likely to exist in the spatial transcriptomic dataset.\n",
    "\n",
    "Here we download this dataset, import into anndata and change variable names to ENSEMBL gene identifiers.\n",
    "\n",
    "Note!\n",
    "\n",
    "Before we estimate the reference cell type signature we recommend to perform very permissive genes selection. We prefer this to standard highly-variable-gene selection because our procedure keeps markers of rare genes while removing most of the uninformative genes.\n",
    "\n",
    "The default parameters cell_count_cutoff=5, cell_percentage_cutoff2=0.03, nonz_mean_cutoff=1.12 are a good starting point, however, you can increase the cut-off to exclude more genes. To preserve marker genes of rare cell types we recommend low cell_count_cutoff=5, however, cell_percentage_cutoff2 and nonz_mean_cutoff can be increased to select between 8k-16k genes.\n",
    "\n",
    "In this 2D histogram, orange rectangle highlights genes excluded based on the combination of number of cells expressing that gene (Y-axis) and average RNA count for cells where the gene was detected (X-axis).\n",
    "\n",
    "In this case, the downloaded dataset was already filtered using this method, hence no density under the orange rectangle (to be changed in the future version of the tutorial).\n",
    "\n"
   ]
  },
  {
   "cell_type": "code",
   "execution_count": 6,
   "id": "51ae0b8c-2b52-43c4-90cc-77bcdf95fc30",
   "metadata": {},
   "outputs": [],
   "source": [
    "# Read data\n",
    "adata_ref = sc.read(\n",
    "    f'./data/sc.h5ad',\n",
    "    backup_url='https://cell2location.cog.sanger.ac.uk/paper/integrated_lymphoid_organ_scrna/RegressionNBV4Torch_57covariates_73260cells_10237genes/sc.h5ad'\n",
    ")"
   ]
  },
  {
   "cell_type": "code",
   "execution_count": 7,
   "id": "f9e43810-e952-4458-b0c5-cdc8aec5f2e0",
   "metadata": {},
   "outputs": [
    {
     "data": {
      "text/html": [
       "<pre style=\"white-space:pre;overflow-x:auto;line-height:normal;font-family:Menlo,'DejaVu Sans Mono',consolas,'Courier New',monospace\"><span style=\"color: #7fbfbf; text-decoration-color: #7fbfbf\">[03/10/25 19:05:23] </span><span style=\"color: #000080; text-decoration-color: #000080\">INFO    </span> Loading data from <span style=\"color: #ff8700; text-decoration-color: #ff8700\">multi_tissue_tumor_microenvironment_atlas</span>        <a href=\"file:///Users/victor.apolonio/Library/Caches/pypoetry/virtualenvs/hexcore-project-McUDH8AL-py3.13/lib/python3.13/site-packages/kedro/io/data_catalog.py\" target=\"_blank\"><span style=\"color: #7f7f7f; text-decoration-color: #7f7f7f\">data_catalog.py</span></a><span style=\"color: #7f7f7f; text-decoration-color: #7f7f7f\">:</span><a href=\"file:///Users/victor.apolonio/Library/Caches/pypoetry/virtualenvs/hexcore-project-McUDH8AL-py3.13/lib/python3.13/site-packages/kedro/io/data_catalog.py#390\" target=\"_blank\"><span style=\"color: #7f7f7f; text-decoration-color: #7f7f7f\">390</span></a>\n",
       "<span style=\"color: #7fbfbf; text-decoration-color: #7fbfbf\">                    </span>         <span style=\"font-weight: bold\">(</span>AnnDataset<span style=\"font-weight: bold\">)</span><span style=\"color: #808000; text-decoration-color: #808000\">...</span>                                                    <span style=\"color: #7f7f7f; text-decoration-color: #7f7f7f\">                   </span>\n",
       "</pre>\n"
      ],
      "text/plain": [
       "\u001b[2;36m[03/10/25 19:05:23]\u001b[0m\u001b[2;36m \u001b[0m\u001b[34mINFO    \u001b[0m Loading data from \u001b[38;5;208mmulti_tissue_tumor_microenvironment_atlas\u001b[0m        \u001b]8;id=521110;file:///Users/victor.apolonio/Library/Caches/pypoetry/virtualenvs/hexcore-project-McUDH8AL-py3.13/lib/python3.13/site-packages/kedro/io/data_catalog.py\u001b\\\u001b[2mdata_catalog.py\u001b[0m\u001b]8;;\u001b\\\u001b[2m:\u001b[0m\u001b]8;id=574513;file:///Users/victor.apolonio/Library/Caches/pypoetry/virtualenvs/hexcore-project-McUDH8AL-py3.13/lib/python3.13/site-packages/kedro/io/data_catalog.py#390\u001b\\\u001b[2m390\u001b[0m\u001b]8;;\u001b\\\n",
       "\u001b[2;36m                    \u001b[0m         \u001b[1m(\u001b[0mAnnDataset\u001b[1m)\u001b[0m\u001b[33m...\u001b[0m                                                    \u001b[2m                   \u001b[0m\n"
      ]
     },
     "metadata": {},
     "output_type": "display_data"
    }
   ],
   "source": [
    "inca_atlas = catalog.load('multi_tissue_tumor_microenvironment_atlas')"
   ]
  },
  {
   "cell_type": "code",
   "execution_count": 23,
   "id": "db2815f8-bd98-4450-a321-aec4a1a986a5",
   "metadata": {},
   "outputs": [
    {
     "data": {
      "text/html": [
       "<pre style=\"white-space:pre;overflow-x:auto;line-height:normal;font-family:Menlo,'DejaVu Sans Mono',consolas,'Courier New',monospace\"></pre>\n"
      ],
      "text/plain": []
     },
     "metadata": {},
     "output_type": "display_data"
    },
    {
     "data": {
      "text/plain": [
       "\n",
       "\u001b[1m[\u001b[0m\u001b[1;36m0\u001b[0m, \u001b[1;36m1\u001b[0m, \u001b[1;36m7\u001b[0m, \u001b[1;36m6\u001b[0m, \u001b[1;36m3\u001b[0m, \u001b[1;36m8\u001b[0m, \u001b[1;36m5\u001b[0m, \u001b[1;36m2\u001b[0m, \u001b[1;36m4\u001b[0m\u001b[1m]\u001b[0m\n",
       "Categories \u001b[1m(\u001b[0m\u001b[1;36m9\u001b[0m, int64\u001b[1m)\u001b[0m: \u001b[1m[\u001b[0m\u001b[1;36m0\u001b[0m, \u001b[1;36m1\u001b[0m, \u001b[1;36m2\u001b[0m, \u001b[1;36m3\u001b[0m, \u001b[33m...\u001b[0m, \u001b[1;36m5\u001b[0m, \u001b[1;36m6\u001b[0m, \u001b[1;36m7\u001b[0m, \u001b[1;36m8\u001b[0m\u001b[1m]\u001b[0m"
      ]
     },
     "execution_count": 23,
     "metadata": {},
     "output_type": "execute_result"
    }
   ],
   "source": [
    "inca_atlas.obs[\"batch\"].unique()"
   ]
  },
  {
   "cell_type": "code",
   "execution_count": 24,
   "id": "1daf0151-afe6-42e6-8c8c-2d359b360a62",
   "metadata": {},
   "outputs": [
    {
     "data": {
      "text/html": [
       "<pre style=\"white-space:pre;overflow-x:auto;line-height:normal;font-family:Menlo,'DejaVu Sans Mono',consolas,'Courier New',monospace\"></pre>\n"
      ],
      "text/plain": []
     },
     "metadata": {},
     "output_type": "display_data"
    },
    {
     "data": {
      "text/plain": [
       "\n",
       "\u001b[1;35marray\u001b[0m\u001b[1m(\u001b[0m\u001b[1m[\u001b[0m \u001b[1;36m65\u001b[0m,  \u001b[1;36m61\u001b[0m,  \u001b[1;36m68\u001b[0m,  \u001b[1;36m59\u001b[0m,  \u001b[1;36m58\u001b[0m,  \u001b[1;36m43\u001b[0m,  \u001b[1;36m44\u001b[0m,  \u001b[1;36m46\u001b[0m,  \u001b[1;36m17\u001b[0m, \u001b[1;36m108\u001b[0m, \u001b[1;36m109\u001b[0m, \u001b[1;36m110\u001b[0m, \u001b[1;36m111\u001b[0m,\n",
       "       \u001b[1;36m112\u001b[0m, \u001b[1;36m113\u001b[0m, \u001b[1;36m114\u001b[0m, \u001b[1;36m115\u001b[0m, \u001b[1;36m116\u001b[0m, \u001b[1;36m117\u001b[0m, \u001b[1;36m118\u001b[0m, \u001b[1;36m119\u001b[0m, \u001b[1;36m120\u001b[0m, \u001b[1;36m121\u001b[0m, \u001b[1;36m122\u001b[0m, \u001b[1;36m123\u001b[0m, \u001b[1;36m124\u001b[0m,\n",
       "       \u001b[1;36m125\u001b[0m, \u001b[1;36m126\u001b[0m, \u001b[1;36m127\u001b[0m, \u001b[1;36m128\u001b[0m, \u001b[1;36m129\u001b[0m, \u001b[1;36m130\u001b[0m, \u001b[1;36m131\u001b[0m, \u001b[1;36m132\u001b[0m, \u001b[1;36m133\u001b[0m, \u001b[1;36m134\u001b[0m, \u001b[1;36m135\u001b[0m, \u001b[1;36m136\u001b[0m, \u001b[1;36m137\u001b[0m,\n",
       "       \u001b[1;36m138\u001b[0m, \u001b[1;36m139\u001b[0m, \u001b[1;36m140\u001b[0m, \u001b[1;36m141\u001b[0m, \u001b[1;36m142\u001b[0m, \u001b[1;36m147\u001b[0m, \u001b[1;36m143\u001b[0m, \u001b[1;36m146\u001b[0m, \u001b[1;36m145\u001b[0m, \u001b[1;36m148\u001b[0m, \u001b[1;36m144\u001b[0m,  \u001b[1;36m23\u001b[0m,  \u001b[1;36m25\u001b[0m,\n",
       "        \u001b[1;36m18\u001b[0m,  \u001b[1;36m27\u001b[0m,  \u001b[1;36m24\u001b[0m,  \u001b[1;36m20\u001b[0m,  \u001b[1;36m28\u001b[0m,  \u001b[1;36m21\u001b[0m,  \u001b[1;36m22\u001b[0m,  \u001b[1;36m19\u001b[0m,  \u001b[1;36m26\u001b[0m,  \u001b[1;36m29\u001b[0m,  \u001b[1;36m30\u001b[0m,  \u001b[1;36m36\u001b[0m,  \u001b[1;36m35\u001b[0m,\n",
       "        \u001b[1;36m34\u001b[0m,  \u001b[1;36m33\u001b[0m,  \u001b[1;36m32\u001b[0m,  \u001b[1;36m31\u001b[0m,  \u001b[1;36m86\u001b[0m,  \u001b[1;36m81\u001b[0m,  \u001b[1;36m82\u001b[0m,  \u001b[1;36m83\u001b[0m,  \u001b[1;36m84\u001b[0m,  \u001b[1;36m85\u001b[0m,  \u001b[1;36m80\u001b[0m,  \u001b[1;36m67\u001b[0m,  \u001b[1;36m64\u001b[0m,\n",
       "        \u001b[1;36m54\u001b[0m,  \u001b[1;36m57\u001b[0m,  \u001b[1;36m55\u001b[0m,  \u001b[1;36m56\u001b[0m,  \u001b[1;36m70\u001b[0m,  \u001b[1;36m74\u001b[0m,  \u001b[1;36m73\u001b[0m,  \u001b[1;36m71\u001b[0m,  \u001b[1;36m72\u001b[0m,  \u001b[1;36m79\u001b[0m,  \u001b[1;36m77\u001b[0m,  \u001b[1;36m75\u001b[0m,  \u001b[1;36m76\u001b[0m,\n",
       "        \u001b[1;36m78\u001b[0m,  \u001b[1;36m95\u001b[0m,  \u001b[1;36m11\u001b[0m,  \u001b[1;36m12\u001b[0m,  \u001b[1;36m13\u001b[0m,  \u001b[1;36m14\u001b[0m,  \u001b[1;36m15\u001b[0m,  \u001b[1;36m87\u001b[0m,  \u001b[1;36m88\u001b[0m,  \u001b[1;36m89\u001b[0m,  \u001b[1;36m90\u001b[0m, \u001b[1;36m102\u001b[0m, \u001b[1;36m103\u001b[0m,\n",
       "       \u001b[1;36m107\u001b[0m, \u001b[1;36m105\u001b[0m,  \u001b[1;36m98\u001b[0m,  \u001b[1;36m91\u001b[0m,  \u001b[1;36m92\u001b[0m,  \u001b[1;36m93\u001b[0m,  \u001b[1;36m94\u001b[0m,   \u001b[1;36m8\u001b[0m,   \u001b[1;36m1\u001b[0m,  \u001b[1;36m10\u001b[0m,   \u001b[1;36m7\u001b[0m,   \u001b[1;36m4\u001b[0m,   \u001b[1;36m5\u001b[0m,\n",
       "         \u001b[1;36m3\u001b[0m,  \u001b[1;36m60\u001b[0m,  \u001b[1;36m62\u001b[0m,  \u001b[1;36m69\u001b[0m,  \u001b[1;36m66\u001b[0m,  \u001b[1;36m63\u001b[0m, \u001b[1;36m100\u001b[0m,  \u001b[1;36m96\u001b[0m,  \u001b[1;36m39\u001b[0m,  \u001b[1;36m38\u001b[0m,  \u001b[1;36m45\u001b[0m,  \u001b[1;36m50\u001b[0m,  \u001b[1;36m41\u001b[0m,\n",
       "        \u001b[1;36m42\u001b[0m,  \u001b[1;36m48\u001b[0m,  \u001b[1;36m49\u001b[0m,  \u001b[1;36m37\u001b[0m,  \u001b[1;36m40\u001b[0m,  \u001b[1;36m47\u001b[0m,  \u001b[1;36m52\u001b[0m,  \u001b[1;36m51\u001b[0m,  \u001b[1;36m53\u001b[0m,  \u001b[1;36m97\u001b[0m,  \u001b[1;36m99\u001b[0m, \u001b[1;36m106\u001b[0m, \u001b[1;36m101\u001b[0m,\n",
       "       \u001b[1;36m104\u001b[0m,   \u001b[1;36m6\u001b[0m,   \u001b[1;36m0\u001b[0m,   \u001b[1;36m9\u001b[0m,   \u001b[1;36m2\u001b[0m,  \u001b[1;36m16\u001b[0m\u001b[1m]\u001b[0m\u001b[1m)\u001b[0m"
      ]
     },
     "execution_count": 24,
     "metadata": {},
     "output_type": "execute_result"
    }
   ],
   "source": [
    "inca_atlas.obs[\"X_scvi_batch\"].unique()"
   ]
  },
  {
   "cell_type": "code",
   "execution_count": 18,
   "id": "ca4d4563-a729-486d-9056-dbe2e0ccf4ac",
   "metadata": {},
   "outputs": [],
   "source": [
    "inca_atlas.layers[\"raw_expression\"] = inca_atlas.raw.X.copy()\n",
    "inca_atlas.layers[\"counts\"] = inca_atlas.raw.X.astype(np.int32)"
   ]
  },
  {
   "cell_type": "code",
   "execution_count": 20,
   "id": "8ab2ab63-9e76-4301-a03f-9ed00d563b4b",
   "metadata": {},
   "outputs": [],
   "source": [
    "from hexcore_project.pipelines import utils\n"
   ]
  },
  {
   "cell_type": "code",
   "execution_count": 21,
   "id": "6f97c689-4249-43ca-a255-4be5f825490d",
   "metadata": {},
   "outputs": [
    {
     "data": {
      "text/html": [
       "<pre style=\"white-space:pre;overflow-x:auto;line-height:normal;font-family:Menlo,'DejaVu Sans Mono',consolas,'Courier New',monospace\"></pre>\n"
      ],
      "text/plain": []
     },
     "metadata": {},
     "output_type": "display_data"
    },
    {
     "data": {
      "text/plain": [
       "\u001b[1m(\u001b[0m\u001b[1;36m73260\u001b[0m, \u001b[1;36m10237\u001b[0m\u001b[1m)\u001b[0m"
      ]
     },
     "execution_count": 21,
     "metadata": {},
     "output_type": "execute_result"
    }
   ],
   "source": [
    "adata_ref.shape"
   ]
  },
  {
   "cell_type": "code",
   "execution_count": 10,
   "id": "b95b152e-e9af-4b1f-a5df-d25a769e1862",
   "metadata": {},
   "outputs": [
    {
     "data": {
      "text/html": [
       "<pre style=\"white-space:pre;overflow-x:auto;line-height:normal;font-family:Menlo,'DejaVu Sans Mono',consolas,'Courier New',monospace\"><span style=\"color: #800000; text-decoration-color: #800000\">╭─────────────────────────────── </span><span style=\"color: #800000; text-decoration-color: #800000; font-weight: bold\">Traceback </span><span style=\"color: #bf7f7f; text-decoration-color: #bf7f7f; font-weight: bold\">(most recent call last)</span><span style=\"color: #800000; text-decoration-color: #800000\"> ────────────────────────────────╮</span>\n",
       "<span style=\"color: #800000; text-decoration-color: #800000\">│</span> in <span style=\"color: #00ff00; text-decoration-color: #00ff00\">&lt;module&gt;</span>:<span style=\"color: #0000ff; text-decoration-color: #0000ff\">1</span>                                                                                    <span style=\"color: #800000; text-decoration-color: #800000\">│</span>\n",
       "<span style=\"color: #800000; text-decoration-color: #800000\">│</span>                                                                                                  <span style=\"color: #800000; text-decoration-color: #800000\">│</span>\n",
       "<span style=\"color: #800000; text-decoration-color: #800000\">│</span> <span style=\"color: #800000; text-decoration-color: #800000\">❱ </span>1 <span style=\"font-weight: bold; text-decoration: underline\">inca_atlas.raw.X</span> = inca_atlas.raw.X.astype(np.int32)                                         <span style=\"color: #800000; text-decoration-color: #800000\">│</span>\n",
       "<span style=\"color: #800000; text-decoration-color: #800000\">│</span>   <span style=\"color: #7f7f7f; text-decoration-color: #7f7f7f\">2 </span>                                                                                             <span style=\"color: #800000; text-decoration-color: #800000\">│</span>\n",
       "<span style=\"color: #800000; text-decoration-color: #800000\">╰──────────────────────────────────────────────────────────────────────────────────────────────────╯</span>\n",
       "<span style=\"color: #ff0000; text-decoration-color: #ff0000; font-weight: bold\">AttributeError: </span>property <span style=\"color: #008000; text-decoration-color: #008000\">'X'</span> of <span style=\"color: #008000; text-decoration-color: #008000\">'Raw'</span> object has no setter\n",
       "</pre>\n"
      ],
      "text/plain": [
       "\u001b[31m╭─\u001b[0m\u001b[31m──────────────────────────────\u001b[0m\u001b[31m \u001b[0m\u001b[1;31mTraceback \u001b[0m\u001b[1;2;31m(most recent call last)\u001b[0m\u001b[31m \u001b[0m\u001b[31m───────────────────────────────\u001b[0m\u001b[31m─╮\u001b[0m\n",
       "\u001b[31m│\u001b[0m in \u001b[92m<module>\u001b[0m:\u001b[94m1\u001b[0m                                                                                    \u001b[31m│\u001b[0m\n",
       "\u001b[31m│\u001b[0m                                                                                                  \u001b[31m│\u001b[0m\n",
       "\u001b[31m│\u001b[0m \u001b[31m❱ \u001b[0m1 \u001b[1;4minca_atlas.raw.X\u001b[0m = inca_atlas.raw.X.astype(np.int32)                                         \u001b[31m│\u001b[0m\n",
       "\u001b[31m│\u001b[0m   \u001b[2m2 \u001b[0m                                                                                             \u001b[31m│\u001b[0m\n",
       "\u001b[31m╰──────────────────────────────────────────────────────────────────────────────────────────────────╯\u001b[0m\n",
       "\u001b[1;91mAttributeError: \u001b[0mproperty \u001b[32m'X'\u001b[0m of \u001b[32m'Raw'\u001b[0m object has no setter\n"
      ]
     },
     "metadata": {},
     "output_type": "display_data"
    }
   ],
   "source": [
    "inca_atlas.raw.X = inca_atlas.raw.X.astype(np.int32)"
   ]
  },
  {
   "cell_type": "code",
   "execution_count": null,
   "id": "f0636bd3-1c2f-4724-988c-760d58187069",
   "metadata": {},
   "outputs": [
    {
     "name": "stdout",
     "output_type": "stream",
     "text": [
      "<Compressed Sparse Row sparse matrix of dtype 'float64'\n",
      "\twith 7 stored elements and shape (5, 5)>\n",
      "  Coords\tValues\n",
      "  (0, 0)\t1.1916551619086884\n",
      "  (0, 2)\t1.4903817145184424\n",
      "  (0, 3)\t0.7637282750984414\n",
      "  (2, 2)\t1.3041521355640715\n",
      "  (4, 0)\t0.700349182755505\n",
      "  (4, 2)\t0.4102722014890335\n",
      "  (4, 3)\t0.4102722014890335\n"
     ]
    },
    {
     "data": {
      "text/html": [
       "<pre style=\"white-space:pre;overflow-x:auto;line-height:normal;font-family:Menlo,'DejaVu Sans Mono',consolas,'Courier New',monospace\"><span style=\"color: #7fbfbf; text-decoration-color: #7fbfbf\">[03/10/25 18:54:39] </span><span style=\"color: #808000; text-decoration-color: #808000\">WARNING </span> <span style=\"color: #800080; text-decoration-color: #800080\">/Users/victor.apolonio/Library/Caches/pypoetry/virtualenvs/hexcore-pro</span> <a href=\"file:///opt/homebrew/Cellar/python@3.13/3.13.1/Frameworks/Python.framework/Versions/3.13/lib/python3.13/warnings.py\" target=\"_blank\"><span style=\"color: #7f7f7f; text-decoration-color: #7f7f7f\">warnings.py</span></a><span style=\"color: #7f7f7f; text-decoration-color: #7f7f7f\">:</span><a href=\"file:///opt/homebrew/Cellar/python@3.13/3.13.1/Frameworks/Python.framework/Versions/3.13/lib/python3.13/warnings.py#110\" target=\"_blank\"><span style=\"color: #7f7f7f; text-decoration-color: #7f7f7f\">110</span></a>\n",
       "<span style=\"color: #7fbfbf; text-decoration-color: #7fbfbf\">                    </span>         <span style=\"color: #800080; text-decoration-color: #800080\">ject-McUDH8AL-py3.13/lib/python3.13/site-packages/IPython/core/</span><span style=\"color: #ff00ff; text-decoration-color: #ff00ff\">interac</span> <span style=\"color: #7f7f7f; text-decoration-color: #7f7f7f\">               </span>\n",
       "<span style=\"color: #7fbfbf; text-decoration-color: #7fbfbf\">                    </span>         <span style=\"color: #ff00ff; text-decoration-color: #ff00ff\">tiveshell.py</span>:<span style=\"color: #008080; text-decoration-color: #008080; font-weight: bold\">3579</span>: SparseEfficiencyWarning: Comparing sparse matrices  <span style=\"color: #7f7f7f; text-decoration-color: #7f7f7f\">               </span>\n",
       "<span style=\"color: #7fbfbf; text-decoration-color: #7fbfbf\">                    </span>         using == is inefficient, try using != instead.                         <span style=\"color: #7f7f7f; text-decoration-color: #7f7f7f\">               </span>\n",
       "<span style=\"color: #7fbfbf; text-decoration-color: #7fbfbf\">                    </span>           <span style=\"color: #800080; text-decoration-color: #800080; font-weight: bold\">exec</span><span style=\"font-weight: bold\">(</span>code_obj, self.user_global_ns, self.user_ns<span style=\"font-weight: bold\">)</span>                    <span style=\"color: #7f7f7f; text-decoration-color: #7f7f7f\">               </span>\n",
       "<span style=\"color: #7fbfbf; text-decoration-color: #7fbfbf\">                    </span>                                                                                <span style=\"color: #7f7f7f; text-decoration-color: #7f7f7f\">               </span>\n",
       "</pre>\n"
      ],
      "text/plain": [
       "\u001b[2;36m[03/10/25 18:54:39]\u001b[0m\u001b[2;36m \u001b[0m\u001b[33mWARNING \u001b[0m \u001b[35m/Users/victor.apolonio/Library/Caches/pypoetry/virtualenvs/hexcore-pro\u001b[0m \u001b]8;id=842853;file:///opt/homebrew/Cellar/python@3.13/3.13.1/Frameworks/Python.framework/Versions/3.13/lib/python3.13/warnings.py\u001b\\\u001b[2mwarnings.py\u001b[0m\u001b]8;;\u001b\\\u001b[2m:\u001b[0m\u001b]8;id=953325;file:///opt/homebrew/Cellar/python@3.13/3.13.1/Frameworks/Python.framework/Versions/3.13/lib/python3.13/warnings.py#110\u001b\\\u001b[2m110\u001b[0m\u001b]8;;\u001b\\\n",
       "\u001b[2;36m                    \u001b[0m         \u001b[35mject-McUDH8AL-py3.13/lib/python3.13/site-packages/IPython/core/\u001b[0m\u001b[95minterac\u001b[0m \u001b[2m               \u001b[0m\n",
       "\u001b[2;36m                    \u001b[0m         \u001b[95mtiveshell.py\u001b[0m:\u001b[1;36m3579\u001b[0m: SparseEfficiencyWarning: Comparing sparse matrices  \u001b[2m               \u001b[0m\n",
       "\u001b[2;36m                    \u001b[0m         using == is inefficient, try using != instead.                         \u001b[2m               \u001b[0m\n",
       "\u001b[2;36m                    \u001b[0m           \u001b[1;35mexec\u001b[0m\u001b[1m(\u001b[0mcode_obj, self.user_global_ns, self.user_ns\u001b[1m)\u001b[0m                    \u001b[2m               \u001b[0m\n",
       "\u001b[2;36m                    \u001b[0m                                                                                \u001b[2m               \u001b[0m\n"
      ]
     },
     "metadata": {},
     "output_type": "display_data"
    }
   ],
   "source": [
    "print(inca_atlas.X[:5, :5]) \n",
    "print(\"Valores inteiros?\", (inca_atlas.X.astype(int) == inca_atlas.X).all())"
   ]
  },
  {
   "cell_type": "code",
   "execution_count": 8,
   "id": "e4be9eff-23a0-4967-aa50-dc96ac50e6c3",
   "metadata": {},
   "outputs": [
    {
     "data": {
      "text/html": [
       "<pre style=\"white-space:pre;overflow-x:auto;line-height:normal;font-family:Menlo,'DejaVu Sans Mono',consolas,'Courier New',monospace\"></pre>\n"
      ],
      "text/plain": []
     },
     "metadata": {},
     "output_type": "display_data"
    },
    {
     "data": {
      "image/png": "[encoded data removed]",
      "text/plain": [
       "\u001b[1m<\u001b[0m\u001b[1;95mFigure\u001b[0m\u001b[39m size 64\u001b[0m\u001b[1;36m0x480\u001b[0m\u001b[39m with \u001b[0m\u001b[1;36m1\u001b[0m\u001b[39m Axes\u001b[0m\u001b[1m>\u001b[0m"
      ]
     },
     "metadata": {},
     "output_type": "display_data"
    }
   ],
   "source": [
    "\n",
    "\n",
    "adata_ref.var['SYMBOL'] = adata_ref.var.index\n",
    "# rename 'GeneID-2' as necessary for your data\n",
    "adata_ref.var.set_index('GeneID-2', drop=True, inplace=True)\n",
    "\n",
    "# delete unnecessary raw slot (to be removed in a future version of the tutorial)\n",
    "del adata_ref.raw\n",
    "\n",
    "selected = filter_genes(adata_ref, cell_count_cutoff=5, cell_percentage_cutoff2=0.03, nonz_mean_cutoff=1.12)\n",
    "\n",
    "# filter the object\n",
    "adata_ref = adata_ref[:, selected].copy()"
   ]
  },
  {
   "cell_type": "code",
   "execution_count": 22,
   "id": "2df9ac4c-caf9-4749-8b7e-1ac852e756be",
   "metadata": {},
   "outputs": [],
   "source": [
    "# prepare anndata for the regression model\n",
    "cell2location.models.RegressionModel.setup_anndata(adata=adata_ref,\n",
    "    # 10X reaction / sample / batch\n",
    "    batch_key='Sample',\n",
    "    # cell type, covariate used for constructing signatures\n",
    "    labels_key='Subset',\n",
    "    # multiplicative technical effects (platform, 3' vs 5', donor effect)\n",
    "    categorical_covariate_keys=['Method']\n",
    "   )"
   ]
  },
  {
   "cell_type": "code",
   "execution_count": 2,
   "id": "66997f94-1f67-4491-806b-9beb7b724a4c",
   "metadata": {},
   "outputs": [
    {
     "name": "stdout",
     "output_type": "stream",
     "text": [
      "Help on class RegressionModel in module cell2location.models.reference._reference_model:\n",
      "\n",
      "class RegressionModel(cell2location.models.base._pyro_mixin.QuantileMixin, scvi.model.base._pyromixin.PyroSampleMixin, scvi.model.base._pyromixin.PyroSviTrainMixin, cell2location.models.base._pyro_mixin.PltExportMixin, scvi.model.base._base_model.BaseModelClass)\n",
      " |  RegressionModel(\n",
      " |      adata: anndata._core.anndata.AnnData,\n",
      " |      model_class=None,\n",
      " |      use_average_as_initial: bool = True,\n",
      " |      **model_kwargs\n",
      " |  )\n",
      " |\n",
      " |  Model which estimates per cluster average mRNA count account for batch effects. User-end model class.\n",
      " |\n",
      " |  https://github.com/BayraktarLab/cell2location\n",
      " |\n",
      " |  Parameters\n",
      " |  ----------\n",
      " |  adata\n",
      " |      single-cell AnnData object that has been registered via :func:`~scvi.data.setup_anndata`.\n",
      " |  use_gpu\n",
      " |      Use the GPU?\n",
      " |  **model_kwargs\n",
      " |      Keyword args for :class:`~scvi.external.LocationModelLinearDependentWMultiExperimentModel`\n",
      " |\n",
      " |  Examples\n",
      " |  --------\n",
      " |  TODO add example\n",
      " |  >>>\n",
      " |\n",
      " |  Method resolution order:\n",
      " |      RegressionModel\n",
      " |      cell2location.models.base._pyro_mixin.QuantileMixin\n",
      " |      scvi.model.base._pyromixin.PyroSampleMixin\n",
      " |      scvi.model.base._pyromixin.PyroSviTrainMixin\n",
      " |      cell2location.models.base._pyro_mixin.PltExportMixin\n",
      " |      scvi.model.base._base_model.BaseModelClass\n",
      " |      builtins.object\n",
      " |\n",
      " |  Methods defined here:\n",
      " |\n",
      " |  __init__(\n",
      " |      self,\n",
      " |      adata: anndata._core.anndata.AnnData,\n",
      " |      model_class=None,\n",
      " |      use_average_as_initial: bool = True,\n",
      " |      **model_kwargs\n",
      " |  )\n",
      " |      Initialize self.  See help(type(self)) for accurate signature.\n",
      " |\n",
      " |  export_posterior(\n",
      " |      self,\n",
      " |      adata,\n",
      " |      sample_kwargs: Optional[dict] = None,\n",
      " |      export_slot: str = 'mod',\n",
      " |      add_to_varm: list = ['means', 'stds', 'q05', 'q95'],\n",
      " |      scale_average_detection: bool = True,\n",
      " |      use_quantiles: bool = False\n",
      " |  )\n",
      " |      Summarise posterior distribution and export results (cell abundance) to anndata object:\n",
      " |      1. adata.obsm: Estimated references expression signatures (average mRNA count in each cell type),\n",
      " |          as pd.DataFrames for each posterior distribution summary `add_to_varm`,\n",
      " |          posterior mean, sd, 5% and 95% quantiles (['means', 'stds', 'q05', 'q95']).\n",
      " |          If export to adata.varm fails with error, results are saved to adata.var instead.\n",
      " |      2. adata.uns: Posterior of all parameters, model name, date,\n",
      " |          cell type names ('factor_names'), obs and var names.\n",
      " |\n",
      " |      Parameters\n",
      " |      ----------\n",
      " |      adata\n",
      " |          anndata object where results should be saved\n",
      " |      sample_kwargs\n",
      " |          arguments for self.sample_posterior (generating and summarising posterior samples), namely:\n",
      " |              num_samples - number of samples to use (Default = 1000).\n",
      " |              batch_size - data batch size (keep low enough to fit on GPU, default 2048).\n",
      " |              use_gpu - use gpu for generating samples?\n",
      " |      export_slot\n",
      " |          adata.uns slot where to export results\n",
      " |      add_to_varm\n",
      " |          posterior distribution summary to export in adata.varm (['means', 'stds', 'q05', 'q95']).\n",
      " |      use_quantiles\n",
      " |          compute quantiles directly (True, more memory efficient) or use samples (False, default).\n",
      " |          If True, means and stds cannot be computed so are not exported and returned.\n",
      " |      Returns\n",
      " |      -------\n",
      " |\n",
      " |  plot_QC(\n",
      " |      self,\n",
      " |      summary_name: str = 'means',\n",
      " |      use_n_obs: int = 1000,\n",
      " |      scale_average_detection: bool = True\n",
      " |  )\n",
      " |      Show quality control plots:\n",
      " |      1. Reconstruction accuracy to assess if there are any issues with model training.\n",
      " |          The plot should be roughly diagonal, strong deviations signal problems that need to be investigated.\n",
      " |          Plotting is slow because expected value of mRNA count needs to be computed from model parameters. Random\n",
      " |          observations are used to speed up computation.\n",
      " |\n",
      " |      2. Estimated reference expression signatures (accounting for batch effect)\n",
      " |          compared to average expression in each cluster. We expect the signatures to be different\n",
      " |          from average when batch effects are present, however, when this plot is very different from\n",
      " |          a perfect diagonal, such as very low values on Y-axis, non-zero density everywhere)\n",
      " |          it indicates problems with signature estimation.\n",
      " |\n",
      " |      Parameters\n",
      " |      ----------\n",
      " |      summary_name\n",
      " |          posterior distribution summary to use ('means', 'stds', 'q05', 'q95')\n",
      " |\n",
      " |      Returns\n",
      " |      -------\n",
      " |\n",
      " |  train(\n",
      " |      self,\n",
      " |      max_epochs: Optional[int] = None,\n",
      " |      batch_size: int = 2500,\n",
      " |      train_size: float = 1,\n",
      " |      lr: float = 0.002,\n",
      " |      **kwargs\n",
      " |  )\n",
      " |      Train the model with useful defaults\n",
      " |\n",
      " |      Parameters\n",
      " |      ----------\n",
      " |      max_epochs\n",
      " |          Number of passes through the dataset. If `None`, defaults to\n",
      " |          `np.min([round((20000 / n_cells) * 400), 400])`\n",
      " |      train_size\n",
      " |          Size of training set in the range [0.0, 1.0].\n",
      " |      batch_size\n",
      " |          Minibatch size to use during training. If `None`, no minibatching occurs and all\n",
      " |          data is copied to device (e.g., GPU).\n",
      " |      lr\n",
      " |          Optimiser learning rate (default optimiser is :class:`~pyro.optim.ClippedAdam`).\n",
      " |          Specifying optimiser via plan_kwargs overrides this choice of lr.\n",
      " |      kwargs\n",
      " |          Other arguments to scvi.model.base.PyroSviTrainMixin().train() method\n",
      " |\n",
      " |  ----------------------------------------------------------------------\n",
      " |  Class methods defined here:\n",
      " |\n",
      " |  setup_anndata(\n",
      " |      adata: anndata._core.anndata.AnnData,\n",
      " |      layer: Optional[str] = None,\n",
      " |      batch_key: Optional[str] = None,\n",
      " |      labels_key: Optional[str] = None,\n",
      " |      categorical_covariate_keys: Optional[List[str]] = None,\n",
      " |      continuous_covariate_keys: Optional[List[str]] = None,\n",
      " |      **kwargs\n",
      " |  )\n",
      " |      Sets up the :class:`~anndata.AnnData` object for this model.\n",
      " |\n",
      " |      A mapping will be created between data fields used by this model to their respective locations in\n",
      " |      adata. None of the data in adata are modified. Only adds fields to adata.\n",
      " |\n",
      " |      Parameters\n",
      " |      ----------\n",
      " |      layer\n",
      " |          if not `None`, uses this as the key in `adata.layers` for raw count data.\n",
      " |      batch_key\n",
      " |          key in `adata.obs` for batch information. Categories will automatically be converted into\n",
      " |          integer categories and saved to `adata.obs['_scvi_batch']`. If `None`, assigns the same batch\n",
      " |          to all the data.\n",
      " |      labels_key\n",
      " |          key in `adata.obs` for label information. Categories will automatically be converted into\n",
      " |          integer categories and saved to `adata.obs['_scvi_labels']`. If `None`, assigns the same label\n",
      " |          to all the data.\n",
      " |      categorical_covariate_keys\n",
      " |          keys in `adata.obs` that correspond to categorical data.\n",
      " |          These covariates can be added in addition to the batch covariate and are also treated as\n",
      " |          nuisance factors (i.e., the model tries to minimize their effects on the latent space). Thus,\n",
      " |          these should not be used for biologically-relevant factors that you do _not_ want to correct\n",
      " |          for.\n",
      " |      continuous_covariate_keys\n",
      " |          keys in `adata.obs` that correspond to continuous data.\n",
      " |          These covariates can be added in addition to the batch covariate and are also treated as\n",
      " |          nuisance factors (i.e., the model tries to minimize their effects on the latent space). Thus,\n",
      " |          these should not be used for biologically-relevant factors that you do _not_ want to correct\n",
      " |          for.\n",
      " |\n",
      " |  ----------------------------------------------------------------------\n",
      " |  Data and other attributes defined here:\n",
      " |\n",
      " |  __abstractmethods__ = frozenset()\n",
      " |\n",
      " |  ----------------------------------------------------------------------\n",
      " |  Methods inherited from cell2location.models.base._pyro_mixin.QuantileMixin:\n",
      " |\n",
      " |  posterior_quantile(\n",
      " |      self,\n",
      " |      exclude_vars: list = None,\n",
      " |      batch_size: int = None,\n",
      " |      **kwargs\n",
      " |  )\n",
      " |      Compute median of the posterior distribution of each parameter.\n",
      " |\n",
      " |      Parameters\n",
      " |      ----------\n",
      " |      q\n",
      " |          Quantile to compute\n",
      " |      use_gpu\n",
      " |          Bool, use gpu?\n",
      " |      use_median\n",
      " |          Bool, when q=0.5 use median rather than quantile method of the guide\n",
      " |\n",
      " |      Returns\n",
      " |      -------\n",
      " |\n",
      " |  ----------------------------------------------------------------------\n",
      " |  Data descriptors inherited from cell2location.models.base._pyro_mixin.QuantileMixin:\n",
      " |\n",
      " |  __dict__\n",
      " |      dictionary for instance variables\n",
      " |\n",
      " |  __weakref__\n",
      " |      list of weak references to the object\n",
      " |\n",
      " |  ----------------------------------------------------------------------\n",
      " |  Methods inherited from scvi.model.base._pyromixin.PyroSampleMixin:\n",
      " |\n",
      " |  sample_posterior(\n",
      " |      self,\n",
      " |      num_samples: 'int' = 1000,\n",
      " |      return_sites: 'list | None' = None,\n",
      " |      accelerator: 'str' = 'auto',\n",
      " |      device: 'int | str' = 'auto',\n",
      " |      batch_size: 'int | None' = None,\n",
      " |      return_observed: 'bool' = False,\n",
      " |      return_samples: 'bool' = False,\n",
      " |      summary_fun: 'dict[str, Callable] | None' = None\n",
      " |  )\n",
      " |      Summarise posterior distribution.\n",
      " |\n",
      " |      Generate samples from posterior distribution for each parameter\n",
      " |      and compute mean, 5th/95th quantiles, standard deviation.\n",
      " |\n",
      " |      Parameters\n",
      " |      ----------\n",
      " |      num_samples\n",
      " |          Number of posterior samples to generate.\n",
      " |      return_sites\n",
      " |          List of variables for which to generate posterior samples, defaults to all variables.\n",
      " |      accelerator\n",
      " |          Supports passing different accelerator types `(\"cpu\", \"gpu\", \"tpu\", \"ipu\", \"hpu\",\n",
      " |          \"mps, \"auto\")` as well as custom accelerator instances.\n",
      " |      device\n",
      " |          The device to use. Can be set to a non-negative index (`int` or `str`) or `\"auto\"`\n",
      " |          for automatic selection based on the chosen accelerator. If set to `\"auto\"` and\n",
      " |          `accelerator` is not determined to be `\"cpu\"`, then `device` will be set to the\n",
      " |          first available device.\n",
      " |      batch_size\n",
      " |          Minibatch size for data loading into model. Defaults to `scvi.settings.batch_size`.\n",
      " |      return_observed\n",
      " |          Return observed sites/variables? Observed count matrix can be very large so not\n",
      " |          returned by default.\n",
      " |      return_samples\n",
      " |          Return all generated posterior samples in addition to sample mean, 5th/95th quantile\n",
      " |          and SD?\n",
      " |      summary_fun\n",
      " |          a dict in the form {\"means\": np.mean, \"std\": np.std} which specifies posterior\n",
      " |          distribution summaries to compute and which names to use. See below for default\n",
      " |          returns.\n",
      " |\n",
      " |      Returns\n",
      " |      -------\n",
      " |      post_sample_means: Dict[str, :class:`np.ndarray`]\n",
      " |          Mean of the posterior distribution for each variable, a dictionary of numpy arrays for\n",
      " |          each variable;\n",
      " |      post_sample_q05: Dict[str, :class:`np.ndarray`]\n",
      " |          5th quantile of the posterior distribution for each variable;\n",
      " |      post_sample_q05: Dict[str, :class:`np.ndarray`]\n",
      " |          95th quantile of the posterior distribution for each variable;\n",
      " |      post_sample_q05: Dict[str, :class:`np.ndarray`]\n",
      " |          Standard deviation of the posterior distribution for each variable;\n",
      " |      posterior_samples: Optional[Dict[str, :class:`np.ndarray`]]\n",
      " |          Posterior distribution samples for each variable as numpy arrays of shape\n",
      " |          `(n_samples, ...)` (Optional).\n",
      " |\n",
      " |      Notes\n",
      " |      -----\n",
      " |      Note for developers: requires overwritten\n",
      " |      :attr:`~scvi.module.base.PyroBaseModuleClass.list_obs_plate_vars` property, which lists\n",
      " |      observation/minibatch plate name and variables. See\n",
      " |      :attr:`~scvi.module.base.PyroBaseModuleClass.list_obs_plate_vars` for details of the\n",
      " |      variables it should contain. This dictionary can be returned by model class property\n",
      " |      `self.module.model.list_obs_plate_vars` to keep all model-specific variables in one place.\n",
      " |\n",
      " |  ----------------------------------------------------------------------\n",
      " |  Methods inherited from cell2location.models.base._pyro_mixin.PltExportMixin:\n",
      " |\n",
      " |  plot_history(self, iter_start=0, iter_end=-1, ax=None)\n",
      " |      Plot training history\n",
      " |      Parameters\n",
      " |      ----------\n",
      " |      iter_start\n",
      " |          omit initial iterations from the plot\n",
      " |      iter_end\n",
      " |          omit last iterations from the plot\n",
      " |      ax\n",
      " |          matplotlib axis\n",
      " |\n",
      " |  sample2df_obs(\n",
      " |      self,\n",
      " |      samples: dict,\n",
      " |      site_name: str = 'w_sf',\n",
      " |      summary_name: str = 'means',\n",
      " |      name_prefix: str = 'cell_abundance',\n",
      " |      factor_names_key: str = ''\n",
      " |  )\n",
      " |      Export posterior distribution summary for observation-specific parameters\n",
      " |      (e.g. spatial cell abundance) as Pandas data frame\n",
      " |      (means, 5%/95% quantiles or sd of posterior distribution).\n",
      " |\n",
      " |      Parameters\n",
      " |      ----------\n",
      " |      samples\n",
      " |          dictionary with posterior mean, 5%/95% quantiles, SD, samples, generated by ``.sample_posterior()``\n",
      " |      site_name\n",
      " |          name of the model parameter to be exported\n",
      " |      summary_name\n",
      " |          posterior distribution summary to return ['means', 'stds', 'q05', 'q95']\n",
      " |      name_prefix\n",
      " |          prefix to add to column names (f'{summary_name}{name_prefix}_{site_name}_{self\\.factor_names_}')\n",
      " |\n",
      " |      Returns\n",
      " |      -------\n",
      " |      Pandas data frame corresponding to either means, 5%/95% quantiles or sd of the posterior distribution\n",
      " |\n",
      " |  sample2df_vars(\n",
      " |      self,\n",
      " |      samples: dict,\n",
      " |      site_name: str = 'gene_factors',\n",
      " |      summary_name: str = 'means',\n",
      " |      name_prefix: str = '',\n",
      " |      factor_names_key: str = ''\n",
      " |  )\n",
      " |      Export posterior distribution summary for variable-specific parameters as Pandas data frame\n",
      " |      (means, 5%/95% quantiles or sd of posterior distribution).\n",
      " |\n",
      " |      Parameters\n",
      " |      ----------\n",
      " |      samples\n",
      " |          dictionary with posterior mean, 5%/95% quantiles, SD, samples, generated by ``.sample_posterior()``\n",
      " |      site_name\n",
      " |          name of the model parameter to be exported\n",
      " |      summary_name\n",
      " |          posterior distribution summary to return ('means', 'stds', 'q05', 'q95')\n",
      " |      name_prefix\n",
      " |          prefix to add to column names (f'{summary_name}{name_prefix}_{site_name}_{self\\.factor_names_}')\n",
      " |\n",
      " |      Returns\n",
      " |      -------\n",
      " |      Pandas data frame corresponding to either means, 5%/95% quantiles or sd of the posterior distribution\n",
      " |\n",
      " |  ----------------------------------------------------------------------\n",
      " |  Static methods inherited from cell2location.models.base._pyro_mixin.PltExportMixin:\n",
      " |\n",
      " |  plot_posterior_mu_vs_data(mu, data)\n",
      " |      Plot expected value of the model (e.g. mean of NB distribution) vs observed data\n",
      " |\n",
      " |      :param mu: expected value\n",
      " |      :param data: data value\n",
      " |\n",
      " |  ----------------------------------------------------------------------\n",
      " |  Methods inherited from scvi.model.base._base_model.BaseModelClass:\n",
      " |\n",
      " |  __repr__(self)\n",
      " |      Return repr(self).\n",
      " |\n",
      " |  deregister_manager(self, adata: 'AnnData | None' = None)\n",
      " |      Deregisters the :class:`~scvi.data.AnnDataManager` instance associated with `adata`.\n",
      " |\n",
      " |      If `adata` is `None`, deregisters all :class:`~scvi.data.AnnDataManager` instances\n",
      " |      in both the class and instance-specific manager stores, except for the one associated\n",
      " |      with this model instance.\n",
      " |\n",
      " |  get_anndata_manager(self, adata: 'AnnOrMuData', required: 'bool' = False) -> 'AnnDataManager | None'\n",
      " |      Retrieves the :class:`~scvi.data.AnnDataManager` for a given AnnData object.\n",
      " |\n",
      " |      Requires ``self.id`` has been set. Checks for an :class:`~scvi.data.AnnDataManager`\n",
      " |      specific to this model instance.\n",
      " |\n",
      " |      Parameters\n",
      " |      ----------\n",
      " |      adata\n",
      " |          AnnData object to find manager instance for.\n",
      " |      required\n",
      " |          If True, errors on missing manager. Otherwise, returns None when manager is missing.\n",
      " |\n",
      " |  get_from_registry(self, adata: 'AnnOrMuData', registry_key: 'str') -> 'np.ndarray'\n",
      " |      Returns the object in AnnData associated with the key in the data registry.\n",
      " |\n",
      " |      AnnData object should be registered with the model prior to calling this function\n",
      " |      via the ``self._validate_anndata`` method.\n",
      " |\n",
      " |      Parameters\n",
      " |      ----------\n",
      " |      registry_key\n",
      " |          key of object to get from data registry.\n",
      " |      adata\n",
      " |          AnnData to pull data from.\n",
      " |\n",
      " |      Returns\n",
      " |      -------\n",
      " |      The requested data as a NumPy array.\n",
      " |\n",
      " |  save(\n",
      " |      self,\n",
      " |      dir_path: 'str',\n",
      " |      prefix: 'str | None' = None,\n",
      " |      overwrite: 'bool' = False,\n",
      " |      save_anndata: 'bool' = False,\n",
      " |      save_kwargs: 'dict | None' = None,\n",
      " |      legacy_mudata_format: 'bool' = False,\n",
      " |      **anndata_write_kwargs\n",
      " |  )\n",
      " |      Save the state of the model.\n",
      " |\n",
      " |      Neither the trainer optimizer state nor the trainer history are saved.\n",
      " |      Model files are not expected to be reproducibly saved and loaded across versions\n",
      " |      until we reach version 1.0.\n",
      " |\n",
      " |      Parameters\n",
      " |      ----------\n",
      " |      dir_path\n",
      " |          Path to a directory.\n",
      " |      prefix\n",
      " |          Prefix to prepend to saved file names.\n",
      " |      overwrite\n",
      " |          Overwrite existing data or not. If `False` and directory\n",
      " |          already exists at `dir_path`, error will be raised.\n",
      " |      save_anndata\n",
      " |          If True, also saves the anndata\n",
      " |      save_kwargs\n",
      " |          Keyword arguments passed into :func:`~torch.save`.\n",
      " |      legacy_mudata_format\n",
      " |          If ``True``, saves the model ``var_names`` in the legacy format if the model was\n",
      " |          trained with a :class:`~mudata.MuData` object. The legacy format is a flat array with\n",
      " |          variable names across all modalities concatenated, while the new format is a dictionary\n",
      " |          with keys corresponding to the modality names and values corresponding to the variable\n",
      " |          names for each modality.\n",
      " |      anndata_write_kwargs\n",
      " |          Kwargs for :meth:`~anndata.AnnData.write`\n",
      " |\n",
      " |  to_device(self, device: 'str | int')\n",
      " |      Move model to device.\n",
      " |\n",
      " |      Parameters\n",
      " |      ----------\n",
      " |      device\n",
      " |          Device to move model to. Options: 'cpu' for CPU, integer GPU index (eg. 0),\n",
      " |          or 'cuda:X' where X is the GPU index (eg. 'cuda:0'). See torch.device for more info.\n",
      " |\n",
      " |      Examples\n",
      " |      --------\n",
      " |      >>> adata = scvi.data.synthetic_iid()\n",
      " |      >>> model = scvi.model.SCVI(adata)\n",
      " |      >>> model.to_device(\"cpu\")  # moves model to CPU\n",
      " |      >>> model.to_device(\"cuda:0\")  # moves model to GPU 0\n",
      " |      >>> model.to_device(0)  # also moves model to GPU 0\n",
      " |\n",
      " |  view_anndata_setup(\n",
      " |      self,\n",
      " |      adata: 'AnnOrMuData | None' = None,\n",
      " |      hide_state_registries: 'bool' = False\n",
      " |  ) -> 'None'\n",
      " |      Print summary of the setup for the initial AnnData or a given AnnData object.\n",
      " |\n",
      " |      Parameters\n",
      " |      ----------\n",
      " |      adata\n",
      " |          AnnData object setup with ``setup_anndata`` or\n",
      " |          :meth:`~scvi.data.AnnDataManager.transfer_fields`.\n",
      " |      hide_state_registries\n",
      " |          If True, prints a shortened summary without details of each state registry.\n",
      " |\n",
      " |  ----------------------------------------------------------------------\n",
      " |  Class methods inherited from scvi.model.base._base_model.BaseModelClass:\n",
      " |\n",
      " |  convert_legacy_save(\n",
      " |      dir_path: 'str',\n",
      " |      output_dir_path: 'str',\n",
      " |      overwrite: 'bool' = False,\n",
      " |      prefix: 'str | None' = None,\n",
      " |      **save_kwargs\n",
      " |  ) -> 'None'\n",
      " |      Converts a legacy saved model (<v0.15.0) to the updated save format.\n",
      " |\n",
      " |      Parameters\n",
      " |      ----------\n",
      " |      dir_path\n",
      " |          Path to directory where legacy model is saved.\n",
      " |      output_dir_path\n",
      " |          Path to save converted save files.\n",
      " |      overwrite\n",
      " |          Overwrite existing data or not. If ``False`` and directory\n",
      " |          already exists at ``output_dir_path``, error will be raised.\n",
      " |      prefix\n",
      " |          Prefix of saved file names.\n",
      " |      **save_kwargs\n",
      " |          Keyword arguments passed into :func:`~torch.save`.\n",
      " |\n",
      " |  load(\n",
      " |      dir_path: 'str',\n",
      " |      adata: 'AnnOrMuData | None' = None,\n",
      " |      accelerator: 'str' = 'auto',\n",
      " |      device: 'int | str' = 'auto',\n",
      " |      prefix: 'str | None' = None,\n",
      " |      backup_url: 'str | None' = None\n",
      " |  )\n",
      " |      Instantiate a model from the saved output.\n",
      " |\n",
      " |      Parameters\n",
      " |      ----------\n",
      " |      dir_path\n",
      " |          Path to saved outputs.\n",
      " |      adata\n",
      " |          AnnData organized in the same way as data used to train model.\n",
      " |          It is not necessary to run setup_anndata,\n",
      " |          as AnnData is validated against the saved `scvi` setup dictionary.\n",
      " |          If None, will check for and load anndata saved with the model.\n",
      " |      accelerator\n",
      " |          Supports passing different accelerator types `(\"cpu\", \"gpu\", \"tpu\", \"ipu\", \"hpu\",\n",
      " |          \"mps, \"auto\")` as well as custom accelerator instances.\n",
      " |      device\n",
      " |          The device to use. Can be set to a non-negative index (`int` or `str`) or `\"auto\"`\n",
      " |          for automatic selection based on the chosen accelerator. If set to `\"auto\"` and\n",
      " |          `accelerator` is not determined to be `\"cpu\"`, then `device` will be set to the\n",
      " |          first available device.\n",
      " |      prefix\n",
      " |          Prefix of saved file names.\n",
      " |      backup_url\n",
      " |          URL to retrieve saved outputs from if not present on disk.\n",
      " |\n",
      " |      Returns\n",
      " |      -------\n",
      " |      Model with loaded state dictionaries.\n",
      " |\n",
      " |      Examples\n",
      " |      --------\n",
      " |      >>> model = ModelClass.load(save_path, adata)\n",
      " |      >>> model.get_....\n",
      " |\n",
      " |  register_manager(adata_manager: 'AnnDataManager')\n",
      " |      Registers an :class:`~scvi.data.AnnDataManager` instance with this model class.\n",
      " |\n",
      " |      Stores the :class:`~scvi.data.AnnDataManager` reference in a class-specific manager store.\n",
      " |      Intended for use in the ``setup_anndata()`` class method followed up by retrieval of the\n",
      " |      :class:`~scvi.data.AnnDataManager` via the ``_get_most_recent_anndata_manager()`` method in\n",
      " |      the model init method.\n",
      " |\n",
      " |      Notes\n",
      " |      -----\n",
      " |      Subsequent calls to this method with an :class:`~scvi.data.AnnDataManager` instance\n",
      " |      referring to the same underlying AnnData object will overwrite the reference to previous\n",
      " |      :class:`~scvi.data.AnnDataManager`.\n",
      " |\n",
      " |  ----------------------------------------------------------------------\n",
      " |  Static methods inherited from scvi.model.base._base_model.BaseModelClass:\n",
      " |\n",
      " |  load_registry(dir_path: 'str', prefix: 'str | None' = None) -> 'dict'\n",
      " |      Return the full registry saved with the model.\n",
      " |\n",
      " |      Parameters\n",
      " |      ----------\n",
      " |      dir_path\n",
      " |          Path to saved outputs.\n",
      " |      prefix\n",
      " |          Prefix of saved file names.\n",
      " |\n",
      " |      Returns\n",
      " |      -------\n",
      " |      The full registry saved with the model\n",
      " |\n",
      " |  view_setup_args(dir_path: 'str', prefix: 'str | None' = None) -> 'None'\n",
      " |      Print args used to setup a saved model.\n",
      " |\n",
      " |      Parameters\n",
      " |      ----------\n",
      " |      dir_path\n",
      " |          Path to saved outputs.\n",
      " |      prefix\n",
      " |          Prefix of saved file names.\n",
      " |\n",
      " |  ----------------------------------------------------------------------\n",
      " |  Readonly properties inherited from scvi.model.base._base_model.BaseModelClass:\n",
      " |\n",
      " |  adata_manager\n",
      " |      Manager instance associated with self.adata.\n",
      " |\n",
      " |  device\n",
      " |      The current device that the module's params are on.\n",
      " |\n",
      " |  history\n",
      " |      Returns computed metrics during training.\n",
      " |\n",
      " |  summary_string\n",
      " |      Summary string of the model.\n",
      " |\n",
      " |  ----------------------------------------------------------------------\n",
      " |  Data descriptors inherited from scvi.model.base._base_model.BaseModelClass:\n",
      " |\n",
      " |  adata\n",
      " |      Data attached to model instance.\n",
      " |\n",
      " |  is_trained\n",
      " |      Whether the model has been trained.\n",
      " |\n",
      " |  test_indices\n",
      " |      Observations that are in test set.\n",
      " |\n",
      " |  train_indices\n",
      " |      Observations that are in train set.\n",
      " |\n",
      " |  validation_indices\n",
      " |      Observations that are in validation set.\n",
      "\n"
     ]
    }
   ],
   "source": [
    "help(RegressionModel)"
   ]
  },
  {
   "cell_type": "code",
   "execution_count": 23,
   "id": "27ef8e9c-64ab-4c00-8420-8420ded994c8",
   "metadata": {},
   "outputs": [
    {
     "data": {
      "text/html": [
       "<pre style=\"white-space:pre;overflow-x:auto;line-height:normal;font-family:Menlo,'DejaVu Sans Mono',consolas,'Courier New',monospace\">Anndata setup with scvi-tools version <span style=\"color: #008080; text-decoration-color: #008080; font-weight: bold\">1.2</span>.<span style=\"color: #008080; text-decoration-color: #008080; font-weight: bold\">2.</span>post2.\n",
       "</pre>\n"
      ],
      "text/plain": [
       "Anndata setup with scvi-tools version \u001b[1;36m1.2\u001b[0m.\u001b[1;36m2.\u001b[0mpost2.\n"
      ]
     },
     "metadata": {},
     "output_type": "display_data"
    },
    {
     "data": {
      "text/html": [
       "<pre style=\"white-space:pre;overflow-x:auto;line-height:normal;font-family:Menlo,'DejaVu Sans Mono',consolas,'Courier New',monospace\">\n",
       "</pre>\n"
      ],
      "text/plain": [
       "\n"
      ]
     },
     "metadata": {},
     "output_type": "display_data"
    },
    {
     "data": {
      "text/html": [
       "<pre style=\"white-space:pre;overflow-x:auto;line-height:normal;font-family:Menlo,'DejaVu Sans Mono',consolas,'Courier New',monospace\">Setup via `RegressionModel.setup_anndata` with arguments:\n",
       "</pre>\n"
      ],
      "text/plain": [
       "Setup via `RegressionModel.setup_anndata` with arguments:\n"
      ]
     },
     "metadata": {},
     "output_type": "display_data"
    },
    {
     "data": {
      "text/html": [
       "<pre style=\"white-space:pre;overflow-x:auto;line-height:normal;font-family:Menlo,'DejaVu Sans Mono',consolas,'Courier New',monospace\"><span style=\"font-weight: bold\">{</span>\n",
       "<span style=\"color: #7fbf7f; text-decoration-color: #7fbf7f\">│   </span><span style=\"color: #008000; text-decoration-color: #008000\">'layer'</span>: <span style=\"color: #800080; text-decoration-color: #800080; font-style: italic\">None</span>,\n",
       "<span style=\"color: #7fbf7f; text-decoration-color: #7fbf7f\">│   </span><span style=\"color: #008000; text-decoration-color: #008000\">'batch_key'</span>: <span style=\"color: #008000; text-decoration-color: #008000\">'Sample'</span>,\n",
       "<span style=\"color: #7fbf7f; text-decoration-color: #7fbf7f\">│   </span><span style=\"color: #008000; text-decoration-color: #008000\">'labels_key'</span>: <span style=\"color: #008000; text-decoration-color: #008000\">'Subset'</span>,\n",
       "<span style=\"color: #7fbf7f; text-decoration-color: #7fbf7f\">│   </span><span style=\"color: #008000; text-decoration-color: #008000\">'categorical_covariate_keys'</span>: <span style=\"font-weight: bold\">[</span><span style=\"color: #008000; text-decoration-color: #008000\">'Method'</span><span style=\"font-weight: bold\">]</span>,\n",
       "<span style=\"color: #7fbf7f; text-decoration-color: #7fbf7f\">│   </span><span style=\"color: #008000; text-decoration-color: #008000\">'continuous_covariate_keys'</span>: <span style=\"color: #800080; text-decoration-color: #800080; font-style: italic\">None</span>\n",
       "<span style=\"font-weight: bold\">}</span>\n",
       "</pre>\n"
      ],
      "text/plain": [
       "\u001b[1m{\u001b[0m\n",
       "\u001b[2;32m│   \u001b[0m\u001b[32m'layer'\u001b[0m: \u001b[3;35mNone\u001b[0m,\n",
       "\u001b[2;32m│   \u001b[0m\u001b[32m'batch_key'\u001b[0m: \u001b[32m'Sample'\u001b[0m,\n",
       "\u001b[2;32m│   \u001b[0m\u001b[32m'labels_key'\u001b[0m: \u001b[32m'Subset'\u001b[0m,\n",
       "\u001b[2;32m│   \u001b[0m\u001b[32m'categorical_covariate_keys'\u001b[0m: \u001b[1m[\u001b[0m\u001b[32m'Method'\u001b[0m\u001b[1m]\u001b[0m,\n",
       "\u001b[2;32m│   \u001b[0m\u001b[32m'continuous_covariate_keys'\u001b[0m: \u001b[3;35mNone\u001b[0m\n",
       "\u001b[1m}\u001b[0m\n"
      ]
     },
     "metadata": {},
     "output_type": "display_data"
    },
    {
     "data": {
      "text/html": [
       "<pre style=\"white-space:pre;overflow-x:auto;line-height:normal;font-family:Menlo,'DejaVu Sans Mono',consolas,'Courier New',monospace\">\n",
       "</pre>\n"
      ],
      "text/plain": [
       "\n"
      ]
     },
     "metadata": {},
     "output_type": "display_data"
    },
    {
     "data": {
      "text/html": [
       "<pre style=\"white-space:pre;overflow-x:auto;line-height:normal;font-family:Menlo,'DejaVu Sans Mono',consolas,'Courier New',monospace\"><span style=\"font-style: italic\">         Summary Statistics         </span>\n",
       "┏━━━━━━━━━━━━━━━━━━━━━━━━━━┳━━━━━━━┓\n",
       "┃<span style=\"font-weight: bold\">     Summary Stat Key     </span>┃<span style=\"font-weight: bold\"> Value </span>┃\n",
       "┡━━━━━━━━━━━━━━━━━━━━━━━━━━╇━━━━━━━┩\n",
       "│<span style=\"color: #0087ff; text-decoration-color: #0087ff\">         n_batch          </span>│<span style=\"color: #af00d7; text-decoration-color: #af00d7\">  23   </span>│\n",
       "│<span style=\"color: #0087ff; text-decoration-color: #0087ff\">         n_cells          </span>│<span style=\"color: #af00d7; text-decoration-color: #af00d7\"> 73260 </span>│\n",
       "│<span style=\"color: #0087ff; text-decoration-color: #0087ff\"> n_extra_categorical_covs </span>│<span style=\"color: #af00d7; text-decoration-color: #af00d7\">   1   </span>│\n",
       "│<span style=\"color: #0087ff; text-decoration-color: #0087ff\"> n_extra_continuous_covs  </span>│<span style=\"color: #af00d7; text-decoration-color: #af00d7\">   0   </span>│\n",
       "│<span style=\"color: #0087ff; text-decoration-color: #0087ff\">         n_labels         </span>│<span style=\"color: #af00d7; text-decoration-color: #af00d7\">  34   </span>│\n",
       "│<span style=\"color: #0087ff; text-decoration-color: #0087ff\">          n_vars          </span>│<span style=\"color: #af00d7; text-decoration-color: #af00d7\"> 10237 </span>│\n",
       "└──────────────────────────┴───────┘\n",
       "</pre>\n"
      ],
      "text/plain": [
       "\u001b[3m         Summary Statistics         \u001b[0m\n",
       "┏━━━━━━━━━━━━━━━━━━━━━━━━━━┳━━━━━━━┓\n",
       "┃\u001b[1m \u001b[0m\u001b[1m    Summary Stat Key    \u001b[0m\u001b[1m \u001b[0m┃\u001b[1m \u001b[0m\u001b[1mValue\u001b[0m\u001b[1m \u001b[0m┃\n",
       "┡━━━━━━━━━━━━━━━━━━━━━━━━━━╇━━━━━━━┩\n",
       "│\u001b[38;5;33m \u001b[0m\u001b[38;5;33m        n_batch         \u001b[0m\u001b[38;5;33m \u001b[0m│\u001b[38;5;128m \u001b[0m\u001b[38;5;128m 23  \u001b[0m\u001b[38;5;128m \u001b[0m│\n",
       "│\u001b[38;5;33m \u001b[0m\u001b[38;5;33m        n_cells         \u001b[0m\u001b[38;5;33m \u001b[0m│\u001b[38;5;128m \u001b[0m\u001b[38;5;128m73260\u001b[0m\u001b[38;5;128m \u001b[0m│\n",
       "│\u001b[38;5;33m \u001b[0m\u001b[38;5;33mn_extra_categorical_covs\u001b[0m\u001b[38;5;33m \u001b[0m│\u001b[38;5;128m \u001b[0m\u001b[38;5;128m  1  \u001b[0m\u001b[38;5;128m \u001b[0m│\n",
       "│\u001b[38;5;33m \u001b[0m\u001b[38;5;33mn_extra_continuous_covs \u001b[0m\u001b[38;5;33m \u001b[0m│\u001b[38;5;128m \u001b[0m\u001b[38;5;128m  0  \u001b[0m\u001b[38;5;128m \u001b[0m│\n",
       "│\u001b[38;5;33m \u001b[0m\u001b[38;5;33m        n_labels        \u001b[0m\u001b[38;5;33m \u001b[0m│\u001b[38;5;128m \u001b[0m\u001b[38;5;128m 34  \u001b[0m\u001b[38;5;128m \u001b[0m│\n",
       "│\u001b[38;5;33m \u001b[0m\u001b[38;5;33m         n_vars         \u001b[0m\u001b[38;5;33m \u001b[0m│\u001b[38;5;128m \u001b[0m\u001b[38;5;128m10237\u001b[0m\u001b[38;5;128m \u001b[0m│\n",
       "└──────────────────────────┴───────┘\n"
      ]
     },
     "metadata": {},
     "output_type": "display_data"
    },
    {
     "data": {
      "text/html": [
       "<pre style=\"white-space:pre;overflow-x:auto;line-height:normal;font-family:Menlo,'DejaVu Sans Mono',consolas,'Courier New',monospace\"><span style=\"font-style: italic\">                             Data Registry                             </span>\n",
       "┏━━━━━━━━━━━━━━━━━━━━━━━━┳━━━━━━━━━━━━━━━━━━━━━━━━━━━━━━━━━━━━━━━━━━━━┓\n",
       "┃<span style=\"font-weight: bold\">      Registry Key      </span>┃<span style=\"font-weight: bold\">            scvi-tools Location             </span>┃\n",
       "┡━━━━━━━━━━━━━━━━━━━━━━━━╇━━━━━━━━━━━━━━━━━━━━━━━━━━━━━━━━━━━━━━━━━━━━┩\n",
       "│<span style=\"color: #0087ff; text-decoration-color: #0087ff\">           X            </span>│<span style=\"color: #af00d7; text-decoration-color: #af00d7\">                  adata.X                   </span>│\n",
       "│<span style=\"color: #0087ff; text-decoration-color: #0087ff\">         batch          </span>│<span style=\"color: #af00d7; text-decoration-color: #af00d7\">          adata.obs['_scvi_batch']          </span>│\n",
       "│<span style=\"color: #0087ff; text-decoration-color: #0087ff\"> extra_categorical_covs </span>│<span style=\"color: #af00d7; text-decoration-color: #af00d7\"> adata.obsm['_scvi_extra_categorical_covs'] </span>│\n",
       "│<span style=\"color: #0087ff; text-decoration-color: #0087ff\">         ind_x          </span>│<span style=\"color: #af00d7; text-decoration-color: #af00d7\">           adata.obs['_indices']            </span>│\n",
       "│<span style=\"color: #0087ff; text-decoration-color: #0087ff\">         labels         </span>│<span style=\"color: #af00d7; text-decoration-color: #af00d7\">         adata.obs['_scvi_labels']          </span>│\n",
       "└────────────────────────┴────────────────────────────────────────────┘\n",
       "</pre>\n"
      ],
      "text/plain": [
       "\u001b[3m                             Data Registry                             \u001b[0m\n",
       "┏━━━━━━━━━━━━━━━━━━━━━━━━┳━━━━━━━━━━━━━━━━━━━━━━━━━━━━━━━━━━━━━━━━━━━━┓\n",
       "┃\u001b[1m \u001b[0m\u001b[1m     Registry Key     \u001b[0m\u001b[1m \u001b[0m┃\u001b[1m \u001b[0m\u001b[1m           scvi-tools Location            \u001b[0m\u001b[1m \u001b[0m┃\n",
       "┡━━━━━━━━━━━━━━━━━━━━━━━━╇━━━━━━━━━━━━━━━━━━━━━━━━━━━━━━━━━━━━━━━━━━━━┩\n",
       "│\u001b[38;5;33m \u001b[0m\u001b[38;5;33m          X           \u001b[0m\u001b[38;5;33m \u001b[0m│\u001b[38;5;128m \u001b[0m\u001b[38;5;128m                 adata.X                  \u001b[0m\u001b[38;5;128m \u001b[0m│\n",
       "│\u001b[38;5;33m \u001b[0m\u001b[38;5;33m        batch         \u001b[0m\u001b[38;5;33m \u001b[0m│\u001b[38;5;128m \u001b[0m\u001b[38;5;128m         adata.obs['_scvi_batch']         \u001b[0m\u001b[38;5;128m \u001b[0m│\n",
       "│\u001b[38;5;33m \u001b[0m\u001b[38;5;33mextra_categorical_covs\u001b[0m\u001b[38;5;33m \u001b[0m│\u001b[38;5;128m \u001b[0m\u001b[38;5;128madata.obsm['_scvi_extra_categorical_covs']\u001b[0m\u001b[38;5;128m \u001b[0m│\n",
       "│\u001b[38;5;33m \u001b[0m\u001b[38;5;33m        ind_x         \u001b[0m\u001b[38;5;33m \u001b[0m│\u001b[38;5;128m \u001b[0m\u001b[38;5;128m          adata.obs['_indices']           \u001b[0m\u001b[38;5;128m \u001b[0m│\n",
       "│\u001b[38;5;33m \u001b[0m\u001b[38;5;33m        labels        \u001b[0m\u001b[38;5;33m \u001b[0m│\u001b[38;5;128m \u001b[0m\u001b[38;5;128m        adata.obs['_scvi_labels']         \u001b[0m\u001b[38;5;128m \u001b[0m│\n",
       "└────────────────────────┴────────────────────────────────────────────┘\n"
      ]
     },
     "metadata": {},
     "output_type": "display_data"
    },
    {
     "data": {
      "text/html": [
       "<pre style=\"white-space:pre;overflow-x:auto;line-height:normal;font-family:Menlo,'DejaVu Sans Mono',consolas,'Courier New',monospace\"><span style=\"font-style: italic\">                         batch State Registry                         </span>\n",
       "┏━━━━━━━━━━━━━━━━━━━━━┳━━━━━━━━━━━━━━━━━━━━━━━━┳━━━━━━━━━━━━━━━━━━━━━┓\n",
       "┃<span style=\"font-weight: bold\">   Source Location   </span>┃<span style=\"font-weight: bold\">       Categories       </span>┃<span style=\"font-weight: bold\"> scvi-tools Encoding </span>┃\n",
       "┡━━━━━━━━━━━━━━━━━━━━━╇━━━━━━━━━━━━━━━━━━━━━━━━╇━━━━━━━━━━━━━━━━━━━━━┩\n",
       "│<span style=\"color: #0087ff; text-decoration-color: #0087ff\"> adata.obs['Sample'] </span>│<span style=\"color: #008000; text-decoration-color: #008000\">    4861STDY7135913     </span>│<span style=\"color: #af00d7; text-decoration-color: #af00d7\">          0          </span>│\n",
       "│<span style=\"color: #0087ff; text-decoration-color: #0087ff\">                     </span>│<span style=\"color: #008000; text-decoration-color: #008000\">    4861STDY7135914     </span>│<span style=\"color: #af00d7; text-decoration-color: #af00d7\">          1          </span>│\n",
       "│<span style=\"color: #0087ff; text-decoration-color: #0087ff\">                     </span>│<span style=\"color: #008000; text-decoration-color: #008000\">    4861STDY7208412     </span>│<span style=\"color: #af00d7; text-decoration-color: #af00d7\">          2          </span>│\n",
       "│<span style=\"color: #0087ff; text-decoration-color: #0087ff\">                     </span>│<span style=\"color: #008000; text-decoration-color: #008000\">    4861STDY7208413     </span>│<span style=\"color: #af00d7; text-decoration-color: #af00d7\">          3          </span>│\n",
       "│<span style=\"color: #0087ff; text-decoration-color: #0087ff\">                     </span>│<span style=\"color: #008000; text-decoration-color: #008000\">    4861STDY7462253     </span>│<span style=\"color: #af00d7; text-decoration-color: #af00d7\">          4          </span>│\n",
       "│<span style=\"color: #0087ff; text-decoration-color: #0087ff\">                     </span>│<span style=\"color: #008000; text-decoration-color: #008000\">    4861STDY7462254     </span>│<span style=\"color: #af00d7; text-decoration-color: #af00d7\">          5          </span>│\n",
       "│<span style=\"color: #0087ff; text-decoration-color: #0087ff\">                     </span>│<span style=\"color: #008000; text-decoration-color: #008000\">    4861STDY7462255     </span>│<span style=\"color: #af00d7; text-decoration-color: #af00d7\">          6          </span>│\n",
       "│<span style=\"color: #0087ff; text-decoration-color: #0087ff\">                     </span>│<span style=\"color: #008000; text-decoration-color: #008000\">    4861STDY7462256     </span>│<span style=\"color: #af00d7; text-decoration-color: #af00d7\">          7          </span>│\n",
       "│<span style=\"color: #0087ff; text-decoration-color: #0087ff\">                     </span>│<span style=\"color: #008000; text-decoration-color: #008000\">    4861STDY7528597     </span>│<span style=\"color: #af00d7; text-decoration-color: #af00d7\">          8          </span>│\n",
       "│<span style=\"color: #0087ff; text-decoration-color: #0087ff\">                     </span>│<span style=\"color: #008000; text-decoration-color: #008000\">    4861STDY7528598     </span>│<span style=\"color: #af00d7; text-decoration-color: #af00d7\">          9          </span>│\n",
       "│<span style=\"color: #0087ff; text-decoration-color: #0087ff\">                     </span>│<span style=\"color: #008000; text-decoration-color: #008000\">    4861STDY7528599     </span>│<span style=\"color: #af00d7; text-decoration-color: #af00d7\">         10          </span>│\n",
       "│<span style=\"color: #0087ff; text-decoration-color: #0087ff\">                     </span>│<span style=\"color: #008000; text-decoration-color: #008000\">    4861STDY7528600     </span>│<span style=\"color: #af00d7; text-decoration-color: #af00d7\">         11          </span>│\n",
       "│<span style=\"color: #0087ff; text-decoration-color: #0087ff\">                     </span>│<span style=\"color: #008000; text-decoration-color: #008000\">      BCP002_Total      </span>│<span style=\"color: #af00d7; text-decoration-color: #af00d7\">         12          </span>│\n",
       "│<span style=\"color: #0087ff; text-decoration-color: #0087ff\">                     </span>│<span style=\"color: #008000; text-decoration-color: #008000\">      BCP003_Total      </span>│<span style=\"color: #af00d7; text-decoration-color: #af00d7\">         13          </span>│\n",
       "│<span style=\"color: #0087ff; text-decoration-color: #0087ff\">                     </span>│<span style=\"color: #008000; text-decoration-color: #008000\">      BCP004_Total      </span>│<span style=\"color: #af00d7; text-decoration-color: #af00d7\">         14          </span>│\n",
       "│<span style=\"color: #0087ff; text-decoration-color: #0087ff\">                     </span>│<span style=\"color: #008000; text-decoration-color: #008000\">      BCP005_Total      </span>│<span style=\"color: #af00d7; text-decoration-color: #af00d7\">         15          </span>│\n",
       "│<span style=\"color: #0087ff; text-decoration-color: #0087ff\">                     </span>│<span style=\"color: #008000; text-decoration-color: #008000\">      BCP006_Total      </span>│<span style=\"color: #af00d7; text-decoration-color: #af00d7\">         16          </span>│\n",
       "│<span style=\"color: #0087ff; text-decoration-color: #0087ff\">                     </span>│<span style=\"color: #008000; text-decoration-color: #008000\">      BCP008_Total      </span>│<span style=\"color: #af00d7; text-decoration-color: #af00d7\">         17          </span>│\n",
       "│<span style=\"color: #0087ff; text-decoration-color: #0087ff\">                     </span>│<span style=\"color: #008000; text-decoration-color: #008000\">      BCP009_Total      </span>│<span style=\"color: #af00d7; text-decoration-color: #af00d7\">         18          </span>│\n",
       "│<span style=\"color: #0087ff; text-decoration-color: #0087ff\">                     </span>│<span style=\"color: #008000; text-decoration-color: #008000\"> Human_colon_16S7255677 </span>│<span style=\"color: #af00d7; text-decoration-color: #af00d7\">         19          </span>│\n",
       "│<span style=\"color: #0087ff; text-decoration-color: #0087ff\">                     </span>│<span style=\"color: #008000; text-decoration-color: #008000\"> Human_colon_16S7255678 </span>│<span style=\"color: #af00d7; text-decoration-color: #af00d7\">         20          </span>│\n",
       "│<span style=\"color: #0087ff; text-decoration-color: #0087ff\">                     </span>│<span style=\"color: #008000; text-decoration-color: #008000\"> Human_colon_16S8000484 </span>│<span style=\"color: #af00d7; text-decoration-color: #af00d7\">         21          </span>│\n",
       "│<span style=\"color: #0087ff; text-decoration-color: #0087ff\">                     </span>│<span style=\"color: #008000; text-decoration-color: #008000\">      Pan_T7935494      </span>│<span style=\"color: #af00d7; text-decoration-color: #af00d7\">         22          </span>│\n",
       "└─────────────────────┴────────────────────────┴─────────────────────┘\n",
       "</pre>\n"
      ],
      "text/plain": [
       "\u001b[3m                         batch State Registry                         \u001b[0m\n",
       "┏━━━━━━━━━━━━━━━━━━━━━┳━━━━━━━━━━━━━━━━━━━━━━━━┳━━━━━━━━━━━━━━━━━━━━━┓\n",
       "┃\u001b[1m \u001b[0m\u001b[1m  Source Location  \u001b[0m\u001b[1m \u001b[0m┃\u001b[1m \u001b[0m\u001b[1m      Categories      \u001b[0m\u001b[1m \u001b[0m┃\u001b[1m \u001b[0m\u001b[1mscvi-tools Encoding\u001b[0m\u001b[1m \u001b[0m┃\n",
       "┡━━━━━━━━━━━━━━━━━━━━━╇━━━━━━━━━━━━━━━━━━━━━━━━╇━━━━━━━━━━━━━━━━━━━━━┩\n",
       "│\u001b[38;5;33m \u001b[0m\u001b[38;5;33madata.obs['Sample']\u001b[0m\u001b[38;5;33m \u001b[0m│\u001b[32m \u001b[0m\u001b[32m   4861STDY7135913    \u001b[0m\u001b[32m \u001b[0m│\u001b[38;5;128m \u001b[0m\u001b[38;5;128m         0         \u001b[0m\u001b[38;5;128m \u001b[0m│\n",
       "│\u001b[38;5;33m \u001b[0m\u001b[38;5;33m                   \u001b[0m\u001b[38;5;33m \u001b[0m│\u001b[32m \u001b[0m\u001b[32m   4861STDY7135914    \u001b[0m\u001b[32m \u001b[0m│\u001b[38;5;128m \u001b[0m\u001b[38;5;128m         1         \u001b[0m\u001b[38;5;128m \u001b[0m│\n",
       "│\u001b[38;5;33m \u001b[0m\u001b[38;5;33m                   \u001b[0m\u001b[38;5;33m \u001b[0m│\u001b[32m \u001b[0m\u001b[32m   4861STDY7208412    \u001b[0m\u001b[32m \u001b[0m│\u001b[38;5;128m \u001b[0m\u001b[38;5;128m         2         \u001b[0m\u001b[38;5;128m \u001b[0m│\n",
       "│\u001b[38;5;33m \u001b[0m\u001b[38;5;33m                   \u001b[0m\u001b[38;5;33m \u001b[0m│\u001b[32m \u001b[0m\u001b[32m   4861STDY7208413    \u001b[0m\u001b[32m \u001b[0m│\u001b[38;5;128m \u001b[0m\u001b[38;5;128m         3         \u001b[0m\u001b[38;5;128m \u001b[0m│\n",
       "│\u001b[38;5;33m \u001b[0m\u001b[38;5;33m                   \u001b[0m\u001b[38;5;33m \u001b[0m│\u001b[32m \u001b[0m\u001b[32m   4861STDY7462253    \u001b[0m\u001b[32m \u001b[0m│\u001b[38;5;128m \u001b[0m\u001b[38;5;128m         4         \u001b[0m\u001b[38;5;128m \u001b[0m│\n",
       "│\u001b[38;5;33m \u001b[0m\u001b[38;5;33m                   \u001b[0m\u001b[38;5;33m \u001b[0m│\u001b[32m \u001b[0m\u001b[32m   4861STDY7462254    \u001b[0m\u001b[32m \u001b[0m│\u001b[38;5;128m \u001b[0m\u001b[38;5;128m         5         \u001b[0m\u001b[38;5;128m \u001b[0m│\n",
       "│\u001b[38;5;33m \u001b[0m\u001b[38;5;33m                   \u001b[0m\u001b[38;5;33m \u001b[0m│\u001b[32m \u001b[0m\u001b[32m   4861STDY7462255    \u001b[0m\u001b[32m \u001b[0m│\u001b[38;5;128m \u001b[0m\u001b[38;5;128m         6         \u001b[0m\u001b[38;5;128m \u001b[0m│\n",
       "│\u001b[38;5;33m \u001b[0m\u001b[38;5;33m                   \u001b[0m\u001b[38;5;33m \u001b[0m│\u001b[32m \u001b[0m\u001b[32m   4861STDY7462256    \u001b[0m\u001b[32m \u001b[0m│\u001b[38;5;128m \u001b[0m\u001b[38;5;128m         7         \u001b[0m\u001b[38;5;128m \u001b[0m│\n",
       "│\u001b[38;5;33m \u001b[0m\u001b[38;5;33m                   \u001b[0m\u001b[38;5;33m \u001b[0m│\u001b[32m \u001b[0m\u001b[32m   4861STDY7528597    \u001b[0m\u001b[32m \u001b[0m│\u001b[38;5;128m \u001b[0m\u001b[38;5;128m         8         \u001b[0m\u001b[38;5;128m \u001b[0m│\n",
       "│\u001b[38;5;33m \u001b[0m\u001b[38;5;33m                   \u001b[0m\u001b[38;5;33m \u001b[0m│\u001b[32m \u001b[0m\u001b[32m   4861STDY7528598    \u001b[0m\u001b[32m \u001b[0m│\u001b[38;5;128m \u001b[0m\u001b[38;5;128m         9         \u001b[0m\u001b[38;5;128m \u001b[0m│\n",
       "│\u001b[38;5;33m \u001b[0m\u001b[38;5;33m                   \u001b[0m\u001b[38;5;33m \u001b[0m│\u001b[32m \u001b[0m\u001b[32m   4861STDY7528599    \u001b[0m\u001b[32m \u001b[0m│\u001b[38;5;128m \u001b[0m\u001b[38;5;128m        10         \u001b[0m\u001b[38;5;128m \u001b[0m│\n",
       "│\u001b[38;5;33m \u001b[0m\u001b[38;5;33m                   \u001b[0m\u001b[38;5;33m \u001b[0m│\u001b[32m \u001b[0m\u001b[32m   4861STDY7528600    \u001b[0m\u001b[32m \u001b[0m│\u001b[38;5;128m \u001b[0m\u001b[38;5;128m        11         \u001b[0m\u001b[38;5;128m \u001b[0m│\n",
       "│\u001b[38;5;33m \u001b[0m\u001b[38;5;33m                   \u001b[0m\u001b[38;5;33m \u001b[0m│\u001b[32m \u001b[0m\u001b[32m     BCP002_Total     \u001b[0m\u001b[32m \u001b[0m│\u001b[38;5;128m \u001b[0m\u001b[38;5;128m        12         \u001b[0m\u001b[38;5;128m \u001b[0m│\n",
       "│\u001b[38;5;33m \u001b[0m\u001b[38;5;33m                   \u001b[0m\u001b[38;5;33m \u001b[0m│\u001b[32m \u001b[0m\u001b[32m     BCP003_Total     \u001b[0m\u001b[32m \u001b[0m│\u001b[38;5;128m \u001b[0m\u001b[38;5;128m        13         \u001b[0m\u001b[38;5;128m \u001b[0m│\n",
       "│\u001b[38;5;33m \u001b[0m\u001b[38;5;33m                   \u001b[0m\u001b[38;5;33m \u001b[0m│\u001b[32m \u001b[0m\u001b[32m     BCP004_Total     \u001b[0m\u001b[32m \u001b[0m│\u001b[38;5;128m \u001b[0m\u001b[38;5;128m        14         \u001b[0m\u001b[38;5;128m \u001b[0m│\n",
       "│\u001b[38;5;33m \u001b[0m\u001b[38;5;33m                   \u001b[0m\u001b[38;5;33m \u001b[0m│\u001b[32m \u001b[0m\u001b[32m     BCP005_Total     \u001b[0m\u001b[32m \u001b[0m│\u001b[38;5;128m \u001b[0m\u001b[38;5;128m        15         \u001b[0m\u001b[38;5;128m \u001b[0m│\n",
       "│\u001b[38;5;33m \u001b[0m\u001b[38;5;33m                   \u001b[0m\u001b[38;5;33m \u001b[0m│\u001b[32m \u001b[0m\u001b[32m     BCP006_Total     \u001b[0m\u001b[32m \u001b[0m│\u001b[38;5;128m \u001b[0m\u001b[38;5;128m        16         \u001b[0m\u001b[38;5;128m \u001b[0m│\n",
       "│\u001b[38;5;33m \u001b[0m\u001b[38;5;33m                   \u001b[0m\u001b[38;5;33m \u001b[0m│\u001b[32m \u001b[0m\u001b[32m     BCP008_Total     \u001b[0m\u001b[32m \u001b[0m│\u001b[38;5;128m \u001b[0m\u001b[38;5;128m        17         \u001b[0m\u001b[38;5;128m \u001b[0m│\n",
       "│\u001b[38;5;33m \u001b[0m\u001b[38;5;33m                   \u001b[0m\u001b[38;5;33m \u001b[0m│\u001b[32m \u001b[0m\u001b[32m     BCP009_Total     \u001b[0m\u001b[32m \u001b[0m│\u001b[38;5;128m \u001b[0m\u001b[38;5;128m        18         \u001b[0m\u001b[38;5;128m \u001b[0m│\n",
       "│\u001b[38;5;33m \u001b[0m\u001b[38;5;33m                   \u001b[0m\u001b[38;5;33m \u001b[0m│\u001b[32m \u001b[0m\u001b[32mHuman_colon_16S7255677\u001b[0m\u001b[32m \u001b[0m│\u001b[38;5;128m \u001b[0m\u001b[38;5;128m        19         \u001b[0m\u001b[38;5;128m \u001b[0m│\n",
       "│\u001b[38;5;33m \u001b[0m\u001b[38;5;33m                   \u001b[0m\u001b[38;5;33m \u001b[0m│\u001b[32m \u001b[0m\u001b[32mHuman_colon_16S7255678\u001b[0m\u001b[32m \u001b[0m│\u001b[38;5;128m \u001b[0m\u001b[38;5;128m        20         \u001b[0m\u001b[38;5;128m \u001b[0m│\n",
       "│\u001b[38;5;33m \u001b[0m\u001b[38;5;33m                   \u001b[0m\u001b[38;5;33m \u001b[0m│\u001b[32m \u001b[0m\u001b[32mHuman_colon_16S8000484\u001b[0m\u001b[32m \u001b[0m│\u001b[38;5;128m \u001b[0m\u001b[38;5;128m        21         \u001b[0m\u001b[38;5;128m \u001b[0m│\n",
       "│\u001b[38;5;33m \u001b[0m\u001b[38;5;33m                   \u001b[0m\u001b[38;5;33m \u001b[0m│\u001b[32m \u001b[0m\u001b[32m     Pan_T7935494     \u001b[0m\u001b[32m \u001b[0m│\u001b[38;5;128m \u001b[0m\u001b[38;5;128m        22         \u001b[0m\u001b[38;5;128m \u001b[0m│\n",
       "└─────────────────────┴────────────────────────┴─────────────────────┘\n"
      ]
     },
     "metadata": {},
     "output_type": "display_data"
    },
    {
     "data": {
      "text/html": [
       "<pre style=\"white-space:pre;overflow-x:auto;line-height:normal;font-family:Menlo,'DejaVu Sans Mono',consolas,'Courier New',monospace\"><span style=\"font-style: italic\">                     labels State Registry                      </span>\n",
       "┏━━━━━━━━━━━━━━━━━━━━━┳━━━━━━━━━━━━━━━━━━┳━━━━━━━━━━━━━━━━━━━━━┓\n",
       "┃<span style=\"font-weight: bold\">   Source Location   </span>┃<span style=\"font-weight: bold\">    Categories    </span>┃<span style=\"font-weight: bold\"> scvi-tools Encoding </span>┃\n",
       "┡━━━━━━━━━━━━━━━━━━━━━╇━━━━━━━━━━━━━━━━━━╇━━━━━━━━━━━━━━━━━━━━━┩\n",
       "│<span style=\"color: #0087ff; text-decoration-color: #0087ff\"> adata.obs['Subset'] </span>│<span style=\"color: #008000; text-decoration-color: #008000\">    B_Cycling     </span>│<span style=\"color: #af00d7; text-decoration-color: #af00d7\">          0          </span>│\n",
       "│<span style=\"color: #0087ff; text-decoration-color: #0087ff\">                     </span>│<span style=\"color: #008000; text-decoration-color: #008000\">     B_GC_DZ      </span>│<span style=\"color: #af00d7; text-decoration-color: #af00d7\">          1          </span>│\n",
       "│<span style=\"color: #0087ff; text-decoration-color: #0087ff\">                     </span>│<span style=\"color: #008000; text-decoration-color: #008000\">     B_GC_LZ      </span>│<span style=\"color: #af00d7; text-decoration-color: #af00d7\">          2          </span>│\n",
       "│<span style=\"color: #0087ff; text-decoration-color: #0087ff\">                     </span>│<span style=\"color: #008000; text-decoration-color: #008000\">    B_GC_prePB    </span>│<span style=\"color: #af00d7; text-decoration-color: #af00d7\">          3          </span>│\n",
       "│<span style=\"color: #0087ff; text-decoration-color: #0087ff\">                     </span>│<span style=\"color: #008000; text-decoration-color: #008000\">      B_IFN       </span>│<span style=\"color: #af00d7; text-decoration-color: #af00d7\">          4          </span>│\n",
       "│<span style=\"color: #0087ff; text-decoration-color: #0087ff\">                     </span>│<span style=\"color: #008000; text-decoration-color: #008000\">   B_activated    </span>│<span style=\"color: #af00d7; text-decoration-color: #af00d7\">          5          </span>│\n",
       "│<span style=\"color: #0087ff; text-decoration-color: #0087ff\">                     </span>│<span style=\"color: #008000; text-decoration-color: #008000\">      B_mem       </span>│<span style=\"color: #af00d7; text-decoration-color: #af00d7\">          6          </span>│\n",
       "│<span style=\"color: #0087ff; text-decoration-color: #0087ff\">                     </span>│<span style=\"color: #008000; text-decoration-color: #008000\">     B_naive      </span>│<span style=\"color: #af00d7; text-decoration-color: #af00d7\">          7          </span>│\n",
       "│<span style=\"color: #0087ff; text-decoration-color: #0087ff\">                     </span>│<span style=\"color: #008000; text-decoration-color: #008000\">     B_plasma     </span>│<span style=\"color: #af00d7; text-decoration-color: #af00d7\">          8          </span>│\n",
       "│<span style=\"color: #0087ff; text-decoration-color: #0087ff\">                     </span>│<span style=\"color: #008000; text-decoration-color: #008000\">     B_preGC      </span>│<span style=\"color: #af00d7; text-decoration-color: #af00d7\">          9          </span>│\n",
       "│<span style=\"color: #0087ff; text-decoration-color: #0087ff\">                     </span>│<span style=\"color: #008000; text-decoration-color: #008000\">     DC_CCR7+     </span>│<span style=\"color: #af00d7; text-decoration-color: #af00d7\">         10          </span>│\n",
       "│<span style=\"color: #0087ff; text-decoration-color: #0087ff\">                     </span>│<span style=\"color: #008000; text-decoration-color: #008000\">     DC_cDC1      </span>│<span style=\"color: #af00d7; text-decoration-color: #af00d7\">         11          </span>│\n",
       "│<span style=\"color: #0087ff; text-decoration-color: #0087ff\">                     </span>│<span style=\"color: #008000; text-decoration-color: #008000\">     DC_cDC2      </span>│<span style=\"color: #af00d7; text-decoration-color: #af00d7\">         12          </span>│\n",
       "│<span style=\"color: #0087ff; text-decoration-color: #0087ff\">                     </span>│<span style=\"color: #008000; text-decoration-color: #008000\">      DC_pDC      </span>│<span style=\"color: #af00d7; text-decoration-color: #af00d7\">         13          </span>│\n",
       "│<span style=\"color: #0087ff; text-decoration-color: #0087ff\">                     </span>│<span style=\"color: #008000; text-decoration-color: #008000\">       Endo       </span>│<span style=\"color: #af00d7; text-decoration-color: #af00d7\">         14          </span>│\n",
       "│<span style=\"color: #0087ff; text-decoration-color: #0087ff\">                     </span>│<span style=\"color: #008000; text-decoration-color: #008000\">       FDC        </span>│<span style=\"color: #af00d7; text-decoration-color: #af00d7\">         15          </span>│\n",
       "│<span style=\"color: #0087ff; text-decoration-color: #0087ff\">                     </span>│<span style=\"color: #008000; text-decoration-color: #008000\">       ILC        </span>│<span style=\"color: #af00d7; text-decoration-color: #af00d7\">         16          </span>│\n",
       "│<span style=\"color: #0087ff; text-decoration-color: #0087ff\">                     </span>│<span style=\"color: #008000; text-decoration-color: #008000\">  Macrophages_M1  </span>│<span style=\"color: #af00d7; text-decoration-color: #af00d7\">         17          </span>│\n",
       "│<span style=\"color: #0087ff; text-decoration-color: #0087ff\">                     </span>│<span style=\"color: #008000; text-decoration-color: #008000\">  Macrophages_M2  </span>│<span style=\"color: #af00d7; text-decoration-color: #af00d7\">         18          </span>│\n",
       "│<span style=\"color: #0087ff; text-decoration-color: #0087ff\">                     </span>│<span style=\"color: #008000; text-decoration-color: #008000\">       Mast       </span>│<span style=\"color: #af00d7; text-decoration-color: #af00d7\">         19          </span>│\n",
       "│<span style=\"color: #0087ff; text-decoration-color: #0087ff\">                     </span>│<span style=\"color: #008000; text-decoration-color: #008000\">    Monocytes     </span>│<span style=\"color: #af00d7; text-decoration-color: #af00d7\">         20          </span>│\n",
       "│<span style=\"color: #0087ff; text-decoration-color: #0087ff\">                     </span>│<span style=\"color: #008000; text-decoration-color: #008000\">        NK        </span>│<span style=\"color: #af00d7; text-decoration-color: #af00d7\">         21          </span>│\n",
       "│<span style=\"color: #0087ff; text-decoration-color: #0087ff\">                     </span>│<span style=\"color: #008000; text-decoration-color: #008000\">       NKT        </span>│<span style=\"color: #af00d7; text-decoration-color: #af00d7\">         22          </span>│\n",
       "│<span style=\"color: #0087ff; text-decoration-color: #0087ff\">                     </span>│<span style=\"color: #008000; text-decoration-color: #008000\">      T_CD4+      </span>│<span style=\"color: #af00d7; text-decoration-color: #af00d7\">         23          </span>│\n",
       "│<span style=\"color: #0087ff; text-decoration-color: #0087ff\">                     </span>│<span style=\"color: #008000; text-decoration-color: #008000\">    T_CD4+_TfH    </span>│<span style=\"color: #af00d7; text-decoration-color: #af00d7\">         24          </span>│\n",
       "│<span style=\"color: #0087ff; text-decoration-color: #0087ff\">                     </span>│<span style=\"color: #008000; text-decoration-color: #008000\">  T_CD4+_TfH_GC   </span>│<span style=\"color: #af00d7; text-decoration-color: #af00d7\">         25          </span>│\n",
       "│<span style=\"color: #0087ff; text-decoration-color: #0087ff\">                     </span>│<span style=\"color: #008000; text-decoration-color: #008000\">   T_CD4+_naive   </span>│<span style=\"color: #af00d7; text-decoration-color: #af00d7\">         26          </span>│\n",
       "│<span style=\"color: #0087ff; text-decoration-color: #0087ff\">                     </span>│<span style=\"color: #008000; text-decoration-color: #008000\">  T_CD8+_CD161+   </span>│<span style=\"color: #af00d7; text-decoration-color: #af00d7\">         27          </span>│\n",
       "│<span style=\"color: #0087ff; text-decoration-color: #0087ff\">                     </span>│<span style=\"color: #008000; text-decoration-color: #008000\"> T_CD8+_cytotoxic </span>│<span style=\"color: #af00d7; text-decoration-color: #af00d7\">         28          </span>│\n",
       "│<span style=\"color: #0087ff; text-decoration-color: #0087ff\">                     </span>│<span style=\"color: #008000; text-decoration-color: #008000\">   T_CD8+_naive   </span>│<span style=\"color: #af00d7; text-decoration-color: #af00d7\">         29          </span>│\n",
       "│<span style=\"color: #0087ff; text-decoration-color: #0087ff\">                     </span>│<span style=\"color: #008000; text-decoration-color: #008000\">     T_TIM3+      </span>│<span style=\"color: #af00d7; text-decoration-color: #af00d7\">         30          </span>│\n",
       "│<span style=\"color: #0087ff; text-decoration-color: #0087ff\">                     </span>│<span style=\"color: #008000; text-decoration-color: #008000\">      T_TfR       </span>│<span style=\"color: #af00d7; text-decoration-color: #af00d7\">         31          </span>│\n",
       "│<span style=\"color: #0087ff; text-decoration-color: #0087ff\">                     </span>│<span style=\"color: #008000; text-decoration-color: #008000\">      T_Treg      </span>│<span style=\"color: #af00d7; text-decoration-color: #af00d7\">         32          </span>│\n",
       "│<span style=\"color: #0087ff; text-decoration-color: #0087ff\">                     </span>│<span style=\"color: #008000; text-decoration-color: #008000\">       VSMC       </span>│<span style=\"color: #af00d7; text-decoration-color: #af00d7\">         33          </span>│\n",
       "└─────────────────────┴──────────────────┴─────────────────────┘\n",
       "</pre>\n"
      ],
      "text/plain": [
       "\u001b[3m                     labels State Registry                      \u001b[0m\n",
       "┏━━━━━━━━━━━━━━━━━━━━━┳━━━━━━━━━━━━━━━━━━┳━━━━━━━━━━━━━━━━━━━━━┓\n",
       "┃\u001b[1m \u001b[0m\u001b[1m  Source Location  \u001b[0m\u001b[1m \u001b[0m┃\u001b[1m \u001b[0m\u001b[1m   Categories   \u001b[0m\u001b[1m \u001b[0m┃\u001b[1m \u001b[0m\u001b[1mscvi-tools Encoding\u001b[0m\u001b[1m \u001b[0m┃\n",
       "┡━━━━━━━━━━━━━━━━━━━━━╇━━━━━━━━━━━━━━━━━━╇━━━━━━━━━━━━━━━━━━━━━┩\n",
       "│\u001b[38;5;33m \u001b[0m\u001b[38;5;33madata.obs['Subset']\u001b[0m\u001b[38;5;33m \u001b[0m│\u001b[32m \u001b[0m\u001b[32m   B_Cycling    \u001b[0m\u001b[32m \u001b[0m│\u001b[38;5;128m \u001b[0m\u001b[38;5;128m         0         \u001b[0m\u001b[38;5;128m \u001b[0m│\n",
       "│\u001b[38;5;33m \u001b[0m\u001b[38;5;33m                   \u001b[0m\u001b[38;5;33m \u001b[0m│\u001b[32m \u001b[0m\u001b[32m    B_GC_DZ     \u001b[0m\u001b[32m \u001b[0m│\u001b[38;5;128m \u001b[0m\u001b[38;5;128m         1         \u001b[0m\u001b[38;5;128m \u001b[0m│\n",
       "│\u001b[38;5;33m \u001b[0m\u001b[38;5;33m                   \u001b[0m\u001b[38;5;33m \u001b[0m│\u001b[32m \u001b[0m\u001b[32m    B_GC_LZ     \u001b[0m\u001b[32m \u001b[0m│\u001b[38;5;128m \u001b[0m\u001b[38;5;128m         2         \u001b[0m\u001b[38;5;128m \u001b[0m│\n",
       "│\u001b[38;5;33m \u001b[0m\u001b[38;5;33m                   \u001b[0m\u001b[38;5;33m \u001b[0m│\u001b[32m \u001b[0m\u001b[32m   B_GC_prePB   \u001b[0m\u001b[32m \u001b[0m│\u001b[38;5;128m \u001b[0m\u001b[38;5;128m         3         \u001b[0m\u001b[38;5;128m \u001b[0m│\n",
       "│\u001b[38;5;33m \u001b[0m\u001b[38;5;33m                   \u001b[0m\u001b[38;5;33m \u001b[0m│\u001b[32m \u001b[0m\u001b[32m     B_IFN      \u001b[0m\u001b[32m \u001b[0m│\u001b[38;5;128m \u001b[0m\u001b[38;5;128m         4         \u001b[0m\u001b[38;5;128m \u001b[0m│\n",
       "│\u001b[38;5;33m \u001b[0m\u001b[38;5;33m                   \u001b[0m\u001b[38;5;33m \u001b[0m│\u001b[32m \u001b[0m\u001b[32m  B_activated   \u001b[0m\u001b[32m \u001b[0m│\u001b[38;5;128m \u001b[0m\u001b[38;5;128m         5         \u001b[0m\u001b[38;5;128m \u001b[0m│\n",
       "│\u001b[38;5;33m \u001b[0m\u001b[38;5;33m                   \u001b[0m\u001b[38;5;33m \u001b[0m│\u001b[32m \u001b[0m\u001b[32m     B_mem      \u001b[0m\u001b[32m \u001b[0m│\u001b[38;5;128m \u001b[0m\u001b[38;5;128m         6         \u001b[0m\u001b[38;5;128m \u001b[0m│\n",
       "│\u001b[38;5;33m \u001b[0m\u001b[38;5;33m                   \u001b[0m\u001b[38;5;33m \u001b[0m│\u001b[32m \u001b[0m\u001b[32m    B_naive     \u001b[0m\u001b[32m \u001b[0m│\u001b[38;5;128m \u001b[0m\u001b[38;5;128m         7         \u001b[0m\u001b[38;5;128m \u001b[0m│\n",
       "│\u001b[38;5;33m \u001b[0m\u001b[38;5;33m                   \u001b[0m\u001b[38;5;33m \u001b[0m│\u001b[32m \u001b[0m\u001b[32m    B_plasma    \u001b[0m\u001b[32m \u001b[0m│\u001b[38;5;128m \u001b[0m\u001b[38;5;128m         8         \u001b[0m\u001b[38;5;128m \u001b[0m│\n",
       "│\u001b[38;5;33m \u001b[0m\u001b[38;5;33m                   \u001b[0m\u001b[38;5;33m \u001b[0m│\u001b[32m \u001b[0m\u001b[32m    B_preGC     \u001b[0m\u001b[32m \u001b[0m│\u001b[38;5;128m \u001b[0m\u001b[38;5;128m         9         \u001b[0m\u001b[38;5;128m \u001b[0m│\n",
       "│\u001b[38;5;33m \u001b[0m\u001b[38;5;33m                   \u001b[0m\u001b[38;5;33m \u001b[0m│\u001b[32m \u001b[0m\u001b[32m    DC_CCR7+    \u001b[0m\u001b[32m \u001b[0m│\u001b[38;5;128m \u001b[0m\u001b[38;5;128m        10         \u001b[0m\u001b[38;5;128m \u001b[0m│\n",
       "│\u001b[38;5;33m \u001b[0m\u001b[38;5;33m                   \u001b[0m\u001b[38;5;33m \u001b[0m│\u001b[32m \u001b[0m\u001b[32m    DC_cDC1     \u001b[0m\u001b[32m \u001b[0m│\u001b[38;5;128m \u001b[0m\u001b[38;5;128m        11         \u001b[0m\u001b[38;5;128m \u001b[0m│\n",
       "│\u001b[38;5;33m \u001b[0m\u001b[38;5;33m                   \u001b[0m\u001b[38;5;33m \u001b[0m│\u001b[32m \u001b[0m\u001b[32m    DC_cDC2     \u001b[0m\u001b[32m \u001b[0m│\u001b[38;5;128m \u001b[0m\u001b[38;5;128m        12         \u001b[0m\u001b[38;5;128m \u001b[0m│\n",
       "│\u001b[38;5;33m \u001b[0m\u001b[38;5;33m                   \u001b[0m\u001b[38;5;33m \u001b[0m│\u001b[32m \u001b[0m\u001b[32m     DC_pDC     \u001b[0m\u001b[32m \u001b[0m│\u001b[38;5;128m \u001b[0m\u001b[38;5;128m        13         \u001b[0m\u001b[38;5;128m \u001b[0m│\n",
       "│\u001b[38;5;33m \u001b[0m\u001b[38;5;33m                   \u001b[0m\u001b[38;5;33m \u001b[0m│\u001b[32m \u001b[0m\u001b[32m      Endo      \u001b[0m\u001b[32m \u001b[0m│\u001b[38;5;128m \u001b[0m\u001b[38;5;128m        14         \u001b[0m\u001b[38;5;128m \u001b[0m│\n",
       "│\u001b[38;5;33m \u001b[0m\u001b[38;5;33m                   \u001b[0m\u001b[38;5;33m \u001b[0m│\u001b[32m \u001b[0m\u001b[32m      FDC       \u001b[0m\u001b[32m \u001b[0m│\u001b[38;5;128m \u001b[0m\u001b[38;5;128m        15         \u001b[0m\u001b[38;5;128m \u001b[0m│\n",
       "│\u001b[38;5;33m \u001b[0m\u001b[38;5;33m                   \u001b[0m\u001b[38;5;33m \u001b[0m│\u001b[32m \u001b[0m\u001b[32m      ILC       \u001b[0m\u001b[32m \u001b[0m│\u001b[38;5;128m \u001b[0m\u001b[38;5;128m        16         \u001b[0m\u001b[38;5;128m \u001b[0m│\n",
       "│\u001b[38;5;33m \u001b[0m\u001b[38;5;33m                   \u001b[0m\u001b[38;5;33m \u001b[0m│\u001b[32m \u001b[0m\u001b[32m Macrophages_M1 \u001b[0m\u001b[32m \u001b[0m│\u001b[38;5;128m \u001b[0m\u001b[38;5;128m        17         \u001b[0m\u001b[38;5;128m \u001b[0m│\n",
       "│\u001b[38;5;33m \u001b[0m\u001b[38;5;33m                   \u001b[0m\u001b[38;5;33m \u001b[0m│\u001b[32m \u001b[0m\u001b[32m Macrophages_M2 \u001b[0m\u001b[32m \u001b[0m│\u001b[38;5;128m \u001b[0m\u001b[38;5;128m        18         \u001b[0m\u001b[38;5;128m \u001b[0m│\n",
       "│\u001b[38;5;33m \u001b[0m\u001b[38;5;33m                   \u001b[0m\u001b[38;5;33m \u001b[0m│\u001b[32m \u001b[0m\u001b[32m      Mast      \u001b[0m\u001b[32m \u001b[0m│\u001b[38;5;128m \u001b[0m\u001b[38;5;128m        19         \u001b[0m\u001b[38;5;128m \u001b[0m│\n",
       "│\u001b[38;5;33m \u001b[0m\u001b[38;5;33m                   \u001b[0m\u001b[38;5;33m \u001b[0m│\u001b[32m \u001b[0m\u001b[32m   Monocytes    \u001b[0m\u001b[32m \u001b[0m│\u001b[38;5;128m \u001b[0m\u001b[38;5;128m        20         \u001b[0m\u001b[38;5;128m \u001b[0m│\n",
       "│\u001b[38;5;33m \u001b[0m\u001b[38;5;33m                   \u001b[0m\u001b[38;5;33m \u001b[0m│\u001b[32m \u001b[0m\u001b[32m       NK       \u001b[0m\u001b[32m \u001b[0m│\u001b[38;5;128m \u001b[0m\u001b[38;5;128m        21         \u001b[0m\u001b[38;5;128m \u001b[0m│\n",
       "│\u001b[38;5;33m \u001b[0m\u001b[38;5;33m                   \u001b[0m\u001b[38;5;33m \u001b[0m│\u001b[32m \u001b[0m\u001b[32m      NKT       \u001b[0m\u001b[32m \u001b[0m│\u001b[38;5;128m \u001b[0m\u001b[38;5;128m        22         \u001b[0m\u001b[38;5;128m \u001b[0m│\n",
       "│\u001b[38;5;33m \u001b[0m\u001b[38;5;33m                   \u001b[0m\u001b[38;5;33m \u001b[0m│\u001b[32m \u001b[0m\u001b[32m     T_CD4+     \u001b[0m\u001b[32m \u001b[0m│\u001b[38;5;128m \u001b[0m\u001b[38;5;128m        23         \u001b[0m\u001b[38;5;128m \u001b[0m│\n",
       "│\u001b[38;5;33m \u001b[0m\u001b[38;5;33m                   \u001b[0m\u001b[38;5;33m \u001b[0m│\u001b[32m \u001b[0m\u001b[32m   T_CD4+_TfH   \u001b[0m\u001b[32m \u001b[0m│\u001b[38;5;128m \u001b[0m\u001b[38;5;128m        24         \u001b[0m\u001b[38;5;128m \u001b[0m│\n",
       "│\u001b[38;5;33m \u001b[0m\u001b[38;5;33m                   \u001b[0m\u001b[38;5;33m \u001b[0m│\u001b[32m \u001b[0m\u001b[32m T_CD4+_TfH_GC  \u001b[0m\u001b[32m \u001b[0m│\u001b[38;5;128m \u001b[0m\u001b[38;5;128m        25         \u001b[0m\u001b[38;5;128m \u001b[0m│\n",
       "│\u001b[38;5;33m \u001b[0m\u001b[38;5;33m                   \u001b[0m\u001b[38;5;33m \u001b[0m│\u001b[32m \u001b[0m\u001b[32m  T_CD4+_naive  \u001b[0m\u001b[32m \u001b[0m│\u001b[38;5;128m \u001b[0m\u001b[38;5;128m        26         \u001b[0m\u001b[38;5;128m \u001b[0m│\n",
       "│\u001b[38;5;33m \u001b[0m\u001b[38;5;33m                   \u001b[0m\u001b[38;5;33m \u001b[0m│\u001b[32m \u001b[0m\u001b[32m T_CD8+_CD161+  \u001b[0m\u001b[32m \u001b[0m│\u001b[38;5;128m \u001b[0m\u001b[38;5;128m        27         \u001b[0m\u001b[38;5;128m \u001b[0m│\n",
       "│\u001b[38;5;33m \u001b[0m\u001b[38;5;33m                   \u001b[0m\u001b[38;5;33m \u001b[0m│\u001b[32m \u001b[0m\u001b[32mT_CD8+_cytotoxic\u001b[0m\u001b[32m \u001b[0m│\u001b[38;5;128m \u001b[0m\u001b[38;5;128m        28         \u001b[0m\u001b[38;5;128m \u001b[0m│\n",
       "│\u001b[38;5;33m \u001b[0m\u001b[38;5;33m                   \u001b[0m\u001b[38;5;33m \u001b[0m│\u001b[32m \u001b[0m\u001b[32m  T_CD8+_naive  \u001b[0m\u001b[32m \u001b[0m│\u001b[38;5;128m \u001b[0m\u001b[38;5;128m        29         \u001b[0m\u001b[38;5;128m \u001b[0m│\n",
       "│\u001b[38;5;33m \u001b[0m\u001b[38;5;33m                   \u001b[0m\u001b[38;5;33m \u001b[0m│\u001b[32m \u001b[0m\u001b[32m    T_TIM3+     \u001b[0m\u001b[32m \u001b[0m│\u001b[38;5;128m \u001b[0m\u001b[38;5;128m        30         \u001b[0m\u001b[38;5;128m \u001b[0m│\n",
       "│\u001b[38;5;33m \u001b[0m\u001b[38;5;33m                   \u001b[0m\u001b[38;5;33m \u001b[0m│\u001b[32m \u001b[0m\u001b[32m     T_TfR      \u001b[0m\u001b[32m \u001b[0m│\u001b[38;5;128m \u001b[0m\u001b[38;5;128m        31         \u001b[0m\u001b[38;5;128m \u001b[0m│\n",
       "│\u001b[38;5;33m \u001b[0m\u001b[38;5;33m                   \u001b[0m\u001b[38;5;33m \u001b[0m│\u001b[32m \u001b[0m\u001b[32m     T_Treg     \u001b[0m\u001b[32m \u001b[0m│\u001b[38;5;128m \u001b[0m\u001b[38;5;128m        32         \u001b[0m\u001b[38;5;128m \u001b[0m│\n",
       "│\u001b[38;5;33m \u001b[0m\u001b[38;5;33m                   \u001b[0m\u001b[38;5;33m \u001b[0m│\u001b[32m \u001b[0m\u001b[32m      VSMC      \u001b[0m\u001b[32m \u001b[0m│\u001b[38;5;128m \u001b[0m\u001b[38;5;128m        33         \u001b[0m\u001b[38;5;128m \u001b[0m│\n",
       "└─────────────────────┴──────────────────┴─────────────────────┘\n"
      ]
     },
     "metadata": {},
     "output_type": "display_data"
    },
    {
     "data": {
      "text/html": [
       "<pre style=\"white-space:pre;overflow-x:auto;line-height:normal;font-family:Menlo,'DejaVu Sans Mono',consolas,'Courier New',monospace\"><span style=\"font-style: italic\">          extra_categorical_covs State Registry           </span>\n",
       "┏━━━━━━━━━━━━━━━━━━━━━┳━━━━━━━━━━━━┳━━━━━━━━━━━━━━━━━━━━━┓\n",
       "┃<span style=\"font-weight: bold\">   Source Location   </span>┃<span style=\"font-weight: bold\"> Categories </span>┃<span style=\"font-weight: bold\"> scvi-tools Encoding </span>┃\n",
       "┡━━━━━━━━━━━━━━━━━━━━━╇━━━━━━━━━━━━╇━━━━━━━━━━━━━━━━━━━━━┩\n",
       "│<span style=\"color: #0087ff; text-decoration-color: #0087ff\"> adata.obs['Method'] </span>│<span style=\"color: #008000; text-decoration-color: #008000\">    3GEX    </span>│<span style=\"color: #af00d7; text-decoration-color: #af00d7\">          0          </span>│\n",
       "│<span style=\"color: #0087ff; text-decoration-color: #0087ff\">                     </span>│<span style=\"color: #008000; text-decoration-color: #008000\">    5GEX    </span>│<span style=\"color: #af00d7; text-decoration-color: #af00d7\">          1          </span>│\n",
       "│<span style=\"color: #0087ff; text-decoration-color: #0087ff\">                     </span>│<span style=\"color: #008000; text-decoration-color: #008000\">            </span>│<span style=\"color: #af00d7; text-decoration-color: #af00d7\">                     </span>│\n",
       "└─────────────────────┴────────────┴─────────────────────┘\n",
       "</pre>\n"
      ],
      "text/plain": [
       "\u001b[3m          extra_categorical_covs State Registry           \u001b[0m\n",
       "┏━━━━━━━━━━━━━━━━━━━━━┳━━━━━━━━━━━━┳━━━━━━━━━━━━━━━━━━━━━┓\n",
       "┃\u001b[1m \u001b[0m\u001b[1m  Source Location  \u001b[0m\u001b[1m \u001b[0m┃\u001b[1m \u001b[0m\u001b[1mCategories\u001b[0m\u001b[1m \u001b[0m┃\u001b[1m \u001b[0m\u001b[1mscvi-tools Encoding\u001b[0m\u001b[1m \u001b[0m┃\n",
       "┡━━━━━━━━━━━━━━━━━━━━━╇━━━━━━━━━━━━╇━━━━━━━━━━━━━━━━━━━━━┩\n",
       "│\u001b[38;5;33m \u001b[0m\u001b[38;5;33madata.obs['Method']\u001b[0m\u001b[38;5;33m \u001b[0m│\u001b[32m \u001b[0m\u001b[32m   3GEX   \u001b[0m\u001b[32m \u001b[0m│\u001b[38;5;128m \u001b[0m\u001b[38;5;128m         0         \u001b[0m\u001b[38;5;128m \u001b[0m│\n",
       "│\u001b[38;5;33m \u001b[0m\u001b[38;5;33m                   \u001b[0m\u001b[38;5;33m \u001b[0m│\u001b[32m \u001b[0m\u001b[32m   5GEX   \u001b[0m\u001b[32m \u001b[0m│\u001b[38;5;128m \u001b[0m\u001b[38;5;128m         1         \u001b[0m\u001b[38;5;128m \u001b[0m│\n",
       "│\u001b[38;5;33m \u001b[0m\u001b[38;5;33m                   \u001b[0m\u001b[38;5;33m \u001b[0m│\u001b[32m \u001b[0m\u001b[32m          \u001b[0m\u001b[32m \u001b[0m│\u001b[38;5;128m \u001b[0m\u001b[38;5;128m                   \u001b[0m\u001b[38;5;128m \u001b[0m│\n",
       "└─────────────────────┴────────────┴─────────────────────┘\n"
      ]
     },
     "metadata": {},
     "output_type": "display_data"
    }
   ],
   "source": [
    "# create the regression model\n",
    "scrna_signature_model = RegressionModel(adata_ref)\n",
    "\n",
    "# view anndata_setup as a sanity check\n",
    "scrna_signature_model.view_anndata_setup()"
   ]
  },
  {
   "cell_type": "code",
   "execution_count": 24,
   "id": "3d8ddbc3-8fbb-4d12-a50a-fa7346cfc014",
   "metadata": {},
   "outputs": [
    {
     "name": "stderr",
     "output_type": "stream",
     "text": [
      "INFO: GPU available: True (cuda), used: True\n"
     ]
    },
    {
     "data": {
      "text/html": [
       "<pre style=\"white-space:pre;overflow-x:auto;line-height:normal;font-family:Menlo,'DejaVu Sans Mono',consolas,'Courier New',monospace\"><span style=\"color: #7fbfbf; text-decoration-color: #7fbfbf\">[03/08/25 19:30:08] </span><span style=\"color: #000080; text-decoration-color: #000080\">INFO    </span> GPU available: <span style=\"color: #00ff00; text-decoration-color: #00ff00; font-style: italic\">True</span> <span style=\"font-weight: bold\">(</span>cuda<span style=\"font-weight: bold\">)</span>, used: <span style=\"color: #00ff00; text-decoration-color: #00ff00; font-style: italic\">True</span>                                 <a href=\"file:///storage-a/users_data/jupyter/vapolonio/hexcore-project/hexcore-project-env/lib/python3.12/site-packages/lightning_utilities/core/rank_zero.py\" target=\"_blank\"><span style=\"color: #7f7f7f; text-decoration-color: #7f7f7f\">rank_zero.py</span></a><span style=\"color: #7f7f7f; text-decoration-color: #7f7f7f\">:</span><a href=\"file:///storage-a/users_data/jupyter/vapolonio/hexcore-project/hexcore-project-env/lib/python3.12/site-packages/lightning_utilities/core/rank_zero.py#63\" target=\"_blank\"><span style=\"color: #7f7f7f; text-decoration-color: #7f7f7f\">63</span></a>\n",
       "</pre>\n"
      ],
      "text/plain": [
       "\u001b[2;36m[03/08/25 19:30:08]\u001b[0m\u001b[2;36m \u001b[0m\u001b[34mINFO    \u001b[0m GPU available: \u001b[3;92mTrue\u001b[0m \u001b[1m(\u001b[0mcuda\u001b[1m)\u001b[0m, used: \u001b[3;92mTrue\u001b[0m                                 \u001b]8;id=295608;file:///storage-a/users_data/jupyter/vapolonio/hexcore-project/hexcore-project-env/lib/python3.12/site-packages/lightning_utilities/core/rank_zero.py\u001b\\\u001b[2mrank_zero.py\u001b[0m\u001b]8;;\u001b\\\u001b[2m:\u001b[0m\u001b]8;id=666897;file:///storage-a/users_data/jupyter/vapolonio/hexcore-project/hexcore-project-env/lib/python3.12/site-packages/lightning_utilities/core/rank_zero.py#63\u001b\\\u001b[2m63\u001b[0m\u001b]8;;\u001b\\\n"
      ]
     },
     "metadata": {},
     "output_type": "display_data"
    },
    {
     "name": "stderr",
     "output_type": "stream",
     "text": [
      "INFO: TPU available: False, using: 0 TPU cores\n"
     ]
    },
    {
     "data": {
      "text/html": [
       "<pre style=\"white-space:pre;overflow-x:auto;line-height:normal;font-family:Menlo,'DejaVu Sans Mono',consolas,'Courier New',monospace\"><span style=\"color: #7fbfbf; text-decoration-color: #7fbfbf\">                    </span><span style=\"color: #000080; text-decoration-color: #000080\">INFO    </span> TPU available: <span style=\"color: #ff0000; text-decoration-color: #ff0000; font-style: italic\">False</span>, using: <span style=\"color: #008080; text-decoration-color: #008080; font-weight: bold\">0</span> TPU cores                               <a href=\"file:///storage-a/users_data/jupyter/vapolonio/hexcore-project/hexcore-project-env/lib/python3.12/site-packages/lightning_utilities/core/rank_zero.py\" target=\"_blank\"><span style=\"color: #7f7f7f; text-decoration-color: #7f7f7f\">rank_zero.py</span></a><span style=\"color: #7f7f7f; text-decoration-color: #7f7f7f\">:</span><a href=\"file:///storage-a/users_data/jupyter/vapolonio/hexcore-project/hexcore-project-env/lib/python3.12/site-packages/lightning_utilities/core/rank_zero.py#63\" target=\"_blank\"><span style=\"color: #7f7f7f; text-decoration-color: #7f7f7f\">63</span></a>\n",
       "</pre>\n"
      ],
      "text/plain": [
       "\u001b[2;36m                   \u001b[0m\u001b[2;36m \u001b[0m\u001b[34mINFO    \u001b[0m TPU available: \u001b[3;91mFalse\u001b[0m, using: \u001b[1;36m0\u001b[0m TPU cores                               \u001b]8;id=214311;file:///storage-a/users_data/jupyter/vapolonio/hexcore-project/hexcore-project-env/lib/python3.12/site-packages/lightning_utilities/core/rank_zero.py\u001b\\\u001b[2mrank_zero.py\u001b[0m\u001b]8;;\u001b\\\u001b[2m:\u001b[0m\u001b]8;id=606787;file:///storage-a/users_data/jupyter/vapolonio/hexcore-project/hexcore-project-env/lib/python3.12/site-packages/lightning_utilities/core/rank_zero.py#63\u001b\\\u001b[2m63\u001b[0m\u001b]8;;\u001b\\\n"
      ]
     },
     "metadata": {},
     "output_type": "display_data"
    },
    {
     "name": "stderr",
     "output_type": "stream",
     "text": [
      "INFO: HPU available: False, using: 0 HPUs\n"
     ]
    },
    {
     "data": {
      "text/html": [
       "<pre style=\"white-space:pre;overflow-x:auto;line-height:normal;font-family:Menlo,'DejaVu Sans Mono',consolas,'Courier New',monospace\"><span style=\"color: #7fbfbf; text-decoration-color: #7fbfbf\">                    </span><span style=\"color: #000080; text-decoration-color: #000080\">INFO    </span> HPU available: <span style=\"color: #ff0000; text-decoration-color: #ff0000; font-style: italic\">False</span>, using: <span style=\"color: #008080; text-decoration-color: #008080; font-weight: bold\">0</span> HPUs                                    <a href=\"file:///storage-a/users_data/jupyter/vapolonio/hexcore-project/hexcore-project-env/lib/python3.12/site-packages/lightning_utilities/core/rank_zero.py\" target=\"_blank\"><span style=\"color: #7f7f7f; text-decoration-color: #7f7f7f\">rank_zero.py</span></a><span style=\"color: #7f7f7f; text-decoration-color: #7f7f7f\">:</span><a href=\"file:///storage-a/users_data/jupyter/vapolonio/hexcore-project/hexcore-project-env/lib/python3.12/site-packages/lightning_utilities/core/rank_zero.py#63\" target=\"_blank\"><span style=\"color: #7f7f7f; text-decoration-color: #7f7f7f\">63</span></a>\n",
       "</pre>\n"
      ],
      "text/plain": [
       "\u001b[2;36m                   \u001b[0m\u001b[2;36m \u001b[0m\u001b[34mINFO    \u001b[0m HPU available: \u001b[3;91mFalse\u001b[0m, using: \u001b[1;36m0\u001b[0m HPUs                                    \u001b]8;id=117568;file:///storage-a/users_data/jupyter/vapolonio/hexcore-project/hexcore-project-env/lib/python3.12/site-packages/lightning_utilities/core/rank_zero.py\u001b\\\u001b[2mrank_zero.py\u001b[0m\u001b]8;;\u001b\\\u001b[2m:\u001b[0m\u001b]8;id=379709;file:///storage-a/users_data/jupyter/vapolonio/hexcore-project/hexcore-project-env/lib/python3.12/site-packages/lightning_utilities/core/rank_zero.py#63\u001b\\\u001b[2m63\u001b[0m\u001b]8;;\u001b\\\n"
      ]
     },
     "metadata": {},
     "output_type": "display_data"
    },
    {
     "data": {
      "text/html": [
       "<pre style=\"white-space:pre;overflow-x:auto;line-height:normal;font-family:Menlo,'DejaVu Sans Mono',consolas,'Courier New',monospace\"><span style=\"color: #7fbfbf; text-decoration-color: #7fbfbf\">                    </span><span style=\"color: #808000; text-decoration-color: #808000\">WARNING </span> <span style=\"color: #800080; text-decoration-color: #800080\">/storage-a/users_data/jupyter/vapolonio/hexcore-project/hexcore-projec</span> <a href=\"file:///home/biosis-gpu/anaconda3/lib/python3.12/warnings.py\" target=\"_blank\"><span style=\"color: #7f7f7f; text-decoration-color: #7f7f7f\">warnings.py</span></a><span style=\"color: #7f7f7f; text-decoration-color: #7f7f7f\">:</span><a href=\"file:///home/biosis-gpu/anaconda3/lib/python3.12/warnings.py#112\" target=\"_blank\"><span style=\"color: #7f7f7f; text-decoration-color: #7f7f7f\">112</span></a>\n",
       "<span style=\"color: #7fbfbf; text-decoration-color: #7fbfbf\">                    </span>         <span style=\"color: #800080; text-decoration-color: #800080\">t-env/lib/python3.12/site-packages/lightning/pytorch/trainer/</span><span style=\"color: #ff00ff; text-decoration-color: #ff00ff\">configura</span> <span style=\"color: #7f7f7f; text-decoration-color: #7f7f7f\">               </span>\n",
       "<span style=\"color: #7fbfbf; text-decoration-color: #7fbfbf\">                    </span>         <span style=\"color: #ff00ff; text-decoration-color: #ff00ff\">tion_validator.py</span>:<span style=\"color: #008080; text-decoration-color: #008080; font-weight: bold\">68</span>: You passed in a `val_dataloader` but have no     <span style=\"color: #7f7f7f; text-decoration-color: #7f7f7f\">               </span>\n",
       "<span style=\"color: #7fbfbf; text-decoration-color: #7fbfbf\">                    </span>         `validation_step`. Skipping val loop.                                  <span style=\"color: #7f7f7f; text-decoration-color: #7f7f7f\">               </span>\n",
       "<span style=\"color: #7fbfbf; text-decoration-color: #7fbfbf\">                    </span>                                                                                <span style=\"color: #7f7f7f; text-decoration-color: #7f7f7f\">               </span>\n",
       "</pre>\n"
      ],
      "text/plain": [
       "\u001b[2;36m                   \u001b[0m\u001b[2;36m \u001b[0m\u001b[33mWARNING \u001b[0m \u001b[35m/storage-a/users_data/jupyter/vapolonio/hexcore-project/hexcore-projec\u001b[0m \u001b]8;id=282198;file:///home/biosis-gpu/anaconda3/lib/python3.12/warnings.py\u001b\\\u001b[2mwarnings.py\u001b[0m\u001b]8;;\u001b\\\u001b[2m:\u001b[0m\u001b]8;id=129095;file:///home/biosis-gpu/anaconda3/lib/python3.12/warnings.py#112\u001b\\\u001b[2m112\u001b[0m\u001b]8;;\u001b\\\n",
       "\u001b[2;36m                    \u001b[0m         \u001b[35mt-env/lib/python3.12/site-packages/lightning/pytorch/trainer/\u001b[0m\u001b[95mconfigura\u001b[0m \u001b[2m               \u001b[0m\n",
       "\u001b[2;36m                    \u001b[0m         \u001b[95mtion_validator.py\u001b[0m:\u001b[1;36m68\u001b[0m: You passed in a `val_dataloader` but have no     \u001b[2m               \u001b[0m\n",
       "\u001b[2;36m                    \u001b[0m         `validation_step`. Skipping val loop.                                  \u001b[2m               \u001b[0m\n",
       "\u001b[2;36m                    \u001b[0m                                                                                \u001b[2m               \u001b[0m\n"
      ]
     },
     "metadata": {},
     "output_type": "display_data"
    },
    {
     "name": "stderr",
     "output_type": "stream",
     "text": [
      "INFO: LOCAL_RANK: 0 - CUDA_VISIBLE_DEVICES: [0]\n"
     ]
    },
    {
     "data": {
      "text/html": [
       "<pre style=\"white-space:pre;overflow-x:auto;line-height:normal;font-family:Menlo,'DejaVu Sans Mono',consolas,'Courier New',monospace\"><span style=\"color: #7fbfbf; text-decoration-color: #7fbfbf\">                    </span><span style=\"color: #000080; text-decoration-color: #000080\">INFO    </span> LOCAL_RANK: <span style=\"color: #008080; text-decoration-color: #008080; font-weight: bold\">0</span> - CUDA_VISIBLE_DEVICES: <span style=\"font-weight: bold\">[</span><span style=\"color: #008080; text-decoration-color: #008080; font-weight: bold\">0</span><span style=\"font-weight: bold\">]</span>                                   <a href=\"file:///storage-a/users_data/jupyter/vapolonio/hexcore-project/hexcore-project-env/lib/python3.12/site-packages/lightning/pytorch/accelerators/cuda.py\" target=\"_blank\"><span style=\"color: #7f7f7f; text-decoration-color: #7f7f7f\">cuda.py</span></a><span style=\"color: #7f7f7f; text-decoration-color: #7f7f7f\">:</span><a href=\"file:///storage-a/users_data/jupyter/vapolonio/hexcore-project/hexcore-project-env/lib/python3.12/site-packages/lightning/pytorch/accelerators/cuda.py#61\" target=\"_blank\"><span style=\"color: #7f7f7f; text-decoration-color: #7f7f7f\">61</span></a>\n",
       "</pre>\n"
      ],
      "text/plain": [
       "\u001b[2;36m                   \u001b[0m\u001b[2;36m \u001b[0m\u001b[34mINFO    \u001b[0m LOCAL_RANK: \u001b[1;36m0\u001b[0m - CUDA_VISIBLE_DEVICES: \u001b[1m[\u001b[0m\u001b[1;36m0\u001b[0m\u001b[1m]\u001b[0m                                   \u001b]8;id=910133;file:///storage-a/users_data/jupyter/vapolonio/hexcore-project/hexcore-project-env/lib/python3.12/site-packages/lightning/pytorch/accelerators/cuda.py\u001b\\\u001b[2mcuda.py\u001b[0m\u001b]8;;\u001b\\\u001b[2m:\u001b[0m\u001b]8;id=708153;file:///storage-a/users_data/jupyter/vapolonio/hexcore-project/hexcore-project-env/lib/python3.12/site-packages/lightning/pytorch/accelerators/cuda.py#61\u001b\\\u001b[2m61\u001b[0m\u001b]8;;\u001b\\\n"
      ]
     },
     "metadata": {},
     "output_type": "display_data"
    },
    {
     "data": {
      "text/html": [
       "<pre style=\"white-space:pre;overflow-x:auto;line-height:normal;font-family:Menlo,'DejaVu Sans Mono',consolas,'Courier New',monospace\"><span style=\"color: #7fbfbf; text-decoration-color: #7fbfbf\">                    </span><span style=\"color: #808000; text-decoration-color: #808000\">WARNING </span> <span style=\"color: #800080; text-decoration-color: #800080\">/storage-a/users_data/jupyter/vapolonio/hexcore-project/hexcore-projec</span> <a href=\"file:///home/biosis-gpu/anaconda3/lib/python3.12/warnings.py\" target=\"_blank\"><span style=\"color: #7f7f7f; text-decoration-color: #7f7f7f\">warnings.py</span></a><span style=\"color: #7f7f7f; text-decoration-color: #7f7f7f\">:</span><a href=\"file:///home/biosis-gpu/anaconda3/lib/python3.12/warnings.py#112\" target=\"_blank\"><span style=\"color: #7f7f7f; text-decoration-color: #7f7f7f\">112</span></a>\n",
       "<span style=\"color: #7fbfbf; text-decoration-color: #7fbfbf\">                    </span>         <span style=\"color: #800080; text-decoration-color: #800080\">t-env/lib/python3.12/site-packages/lightning/pytorch/trainer/connector</span> <span style=\"color: #7f7f7f; text-decoration-color: #7f7f7f\">               </span>\n",
       "<span style=\"color: #7fbfbf; text-decoration-color: #7fbfbf\">                    </span>         <span style=\"color: #800080; text-decoration-color: #800080\">s/</span><span style=\"color: #ff00ff; text-decoration-color: #ff00ff\">data_connector.py</span>:<span style=\"color: #008080; text-decoration-color: #008080; font-weight: bold\">425</span>: The <span style=\"color: #008000; text-decoration-color: #008000\">'train_dataloader'</span> does not have many     <span style=\"color: #7f7f7f; text-decoration-color: #7f7f7f\">               </span>\n",
       "<span style=\"color: #7fbfbf; text-decoration-color: #7fbfbf\">                    </span>         workers which may be a bottleneck. Consider increasing the value of    <span style=\"color: #7f7f7f; text-decoration-color: #7f7f7f\">               </span>\n",
       "<span style=\"color: #7fbfbf; text-decoration-color: #7fbfbf\">                    </span>         the `num_workers` argument` to `<span style=\"color: #808000; text-decoration-color: #808000\">num_workers</span>=<span style=\"color: #008080; text-decoration-color: #008080; font-weight: bold\">31</span>` in the `DataLoader` to <span style=\"color: #7f7f7f; text-decoration-color: #7f7f7f\">               </span>\n",
       "<span style=\"color: #7fbfbf; text-decoration-color: #7fbfbf\">                    </span>         improve performance.                                                   <span style=\"color: #7f7f7f; text-decoration-color: #7f7f7f\">               </span>\n",
       "<span style=\"color: #7fbfbf; text-decoration-color: #7fbfbf\">                    </span>                                                                                <span style=\"color: #7f7f7f; text-decoration-color: #7f7f7f\">               </span>\n",
       "</pre>\n"
      ],
      "text/plain": [
       "\u001b[2;36m                   \u001b[0m\u001b[2;36m \u001b[0m\u001b[33mWARNING \u001b[0m \u001b[35m/storage-a/users_data/jupyter/vapolonio/hexcore-project/hexcore-projec\u001b[0m \u001b]8;id=279486;file:///home/biosis-gpu/anaconda3/lib/python3.12/warnings.py\u001b\\\u001b[2mwarnings.py\u001b[0m\u001b]8;;\u001b\\\u001b[2m:\u001b[0m\u001b]8;id=697692;file:///home/biosis-gpu/anaconda3/lib/python3.12/warnings.py#112\u001b\\\u001b[2m112\u001b[0m\u001b]8;;\u001b\\\n",
       "\u001b[2;36m                    \u001b[0m         \u001b[35mt-env/lib/python3.12/site-packages/lightning/pytorch/trainer/connector\u001b[0m \u001b[2m               \u001b[0m\n",
       "\u001b[2;36m                    \u001b[0m         \u001b[35ms/\u001b[0m\u001b[95mdata_connector.py\u001b[0m:\u001b[1;36m425\u001b[0m: The \u001b[32m'train_dataloader'\u001b[0m does not have many     \u001b[2m               \u001b[0m\n",
       "\u001b[2;36m                    \u001b[0m         workers which may be a bottleneck. Consider increasing the value of    \u001b[2m               \u001b[0m\n",
       "\u001b[2;36m                    \u001b[0m         the `num_workers` argument` to `\u001b[33mnum_workers\u001b[0m=\u001b[1;36m31\u001b[0m` in the `DataLoader` to \u001b[2m               \u001b[0m\n",
       "\u001b[2;36m                    \u001b[0m         improve performance.                                                   \u001b[2m               \u001b[0m\n",
       "\u001b[2;36m                    \u001b[0m                                                                                \u001b[2m               \u001b[0m\n"
      ]
     },
     "metadata": {},
     "output_type": "display_data"
    },
    {
     "data": {
      "application/vnd.jupyter.widget-view+json": {
       "model_id": "53cedd08551b4670b42490c2807b849f",
       "version_major": 2,
       "version_minor": 0
      },
      "text/plain": [
       "Training:   0%|          | 0/300 [00:00<?, ?it/s]"
      ]
     },
     "metadata": {},
     "output_type": "display_data"
    },
    {
     "name": "stderr",
     "output_type": "stream",
     "text": [
      "INFO: `Trainer.fit` stopped: `max_epochs=300` reached.\n"
     ]
    },
    {
     "data": {
      "text/html": [
       "<pre style=\"white-space:pre;overflow-x:auto;line-height:normal;font-family:Menlo,'DejaVu Sans Mono',consolas,'Courier New',monospace\"><span style=\"color: #7fbfbf; text-decoration-color: #7fbfbf\">[03/08/25 19:51:43] </span><span style=\"color: #000080; text-decoration-color: #000080\">INFO    </span> `Trainer.fit` stopped: `<span style=\"color: #808000; text-decoration-color: #808000\">max_epochs</span>=<span style=\"color: #008080; text-decoration-color: #008080; font-weight: bold\">300</span>` reached.                       <a href=\"file:///storage-a/users_data/jupyter/vapolonio/hexcore-project/hexcore-project-env/lib/python3.12/site-packages/lightning_utilities/core/rank_zero.py\" target=\"_blank\"><span style=\"color: #7f7f7f; text-decoration-color: #7f7f7f\">rank_zero.py</span></a><span style=\"color: #7f7f7f; text-decoration-color: #7f7f7f\">:</span><a href=\"file:///storage-a/users_data/jupyter/vapolonio/hexcore-project/hexcore-project-env/lib/python3.12/site-packages/lightning_utilities/core/rank_zero.py#63\" target=\"_blank\"><span style=\"color: #7f7f7f; text-decoration-color: #7f7f7f\">63</span></a>\n",
       "</pre>\n"
      ],
      "text/plain": [
       "\u001b[2;36m[03/08/25 19:51:43]\u001b[0m\u001b[2;36m \u001b[0m\u001b[34mINFO    \u001b[0m `Trainer.fit` stopped: `\u001b[33mmax_epochs\u001b[0m=\u001b[1;36m300\u001b[0m` reached.                       \u001b]8;id=261860;file:///storage-a/users_data/jupyter/vapolonio/hexcore-project/hexcore-project-env/lib/python3.12/site-packages/lightning_utilities/core/rank_zero.py\u001b\\\u001b[2mrank_zero.py\u001b[0m\u001b]8;;\u001b\\\u001b[2m:\u001b[0m\u001b]8;id=250411;file:///storage-a/users_data/jupyter/vapolonio/hexcore-project/hexcore-project-env/lib/python3.12/site-packages/lightning_utilities/core/rank_zero.py#63\u001b\\\u001b[2m63\u001b[0m\u001b]8;;\u001b\\\n"
      ]
     },
     "metadata": {},
     "output_type": "display_data"
    }
   ],
   "source": [
    "# Treinamento\n",
    "scrna_signature_model.train(max_epochs=300)"
   ]
  },
  {
   "cell_type": "markdown",
   "id": "5b2a4903-9917-45dc-b557-dff9275317fc",
   "metadata": {},
   "source": [
    "Determine if the model needs more training.\n",
    "\n",
    "Here, we plot ELBO loss history during training, removing first 20 epochs from the plot. This plot should have a decreasing trend and level off by the end of training. If it is still decreasing, increase max_epochs."
   ]
  },
  {
   "cell_type": "code",
   "execution_count": 25,
   "id": "3418d09e-0808-49a2-9729-74ba241bffdb",
   "metadata": {},
   "outputs": [
    {
     "data": {
      "text/html": [
       "<pre style=\"white-space:pre;overflow-x:auto;line-height:normal;font-family:Menlo,'DejaVu Sans Mono',consolas,'Courier New',monospace\"></pre>\n"
      ],
      "text/plain": []
     },
     "metadata": {},
     "output_type": "display_data"
    },
    {
     "data": {
      "image/png": "[encoded data removed]",
      "text/plain": [
       "\u001b[1m<\u001b[0m\u001b[1;95mFigure\u001b[0m\u001b[39m size 64\u001b[0m\u001b[1;36m0x480\u001b[0m\u001b[39m with \u001b[0m\u001b[1;36m1\u001b[0m\u001b[39m Axes\u001b[0m\u001b[1m>\u001b[0m"
      ]
     },
     "metadata": {},
     "output_type": "display_data"
    }
   ],
   "source": [
    "scrna_signature_model.plot_history(20)"
   ]
  },
  {
   "cell_type": "code",
   "execution_count": 26,
   "id": "ebde9252-a703-471c-8e3d-bcd3408d5ce9",
   "metadata": {},
   "outputs": [
    {
     "data": {
      "application/vnd.jupyter.widget-view+json": {
       "model_id": "b98e7426c9c141ee8ca02676002bdb9a",
       "version_major": 2,
       "version_minor": 0
      },
      "text/plain": [
       "Sampling local variables, batch:   0%|          | 0/30 [00:00<?, ?it/s]"
      ]
     },
     "metadata": {},
     "output_type": "display_data"
    },
    {
     "data": {
      "application/vnd.jupyter.widget-view+json": {
       "model_id": "6e7f701a29c64011949d71540d2bc3f9",
       "version_major": 2,
       "version_minor": 0
      },
      "text/plain": [
       "Sampling global variables, sample:   0%|          | 0/1999 [00:00<?, ?it/s]"
      ]
     },
     "metadata": {},
     "output_type": "display_data"
    }
   ],
   "source": [
    "\n",
    "# In this section, we export the estimated cell abundance (summary of the posterior distribution).\n",
    "adata_ref = scrna_signature_model.export_posterior(\n",
    "    adata_ref, sample_kwargs={'num_samples': 2000, 'batch_size': 2500}\n",
    ")\n",
    "\n",
    "# Save anndata object with results\n",
    "adata_file = f\"{ref_run_name}/sc.h5ad\"\n",
    "adata_ref.write(adata_file)"
   ]
  },
  {
   "cell_type": "code",
   "execution_count": 27,
   "id": "873837f1-4027-42dc-9b0d-9a8bfb78a10d",
   "metadata": {},
   "outputs": [],
   "source": [
    "\n",
    "# Save model\n",
    "scrna_signature_model.save(f\"{ref_run_name}\", overwrite=True)\n"
   ]
  },
  {
   "cell_type": "code",
   "execution_count": 28,
   "id": "d76b9f87-7f29-446b-908f-03f29d506774",
   "metadata": {},
   "outputs": [
    {
     "data": {
      "text/html": [
       "<pre style=\"white-space:pre;overflow-x:auto;line-height:normal;font-family:Menlo,'DejaVu Sans Mono',consolas,'Courier New',monospace\"></pre>\n"
      ],
      "text/plain": []
     },
     "metadata": {},
     "output_type": "display_data"
    },
    {
     "data": {
      "text/plain": [
       "RegressionBackgroundDetectionTech model with the following params: \n",
       "n_factors: \u001b[1;36m34\u001b[0m \n",
       "n_batch: \u001b[1;36m23\u001b[0m \n",
       "Training status: Trained\n",
       "\u001b[2;3m<class 'cell2location.models.reference._reference_model.RegressionModel'>.__repr__ returned empty string\u001b[0m"
      ]
     },
     "execution_count": 28,
     "metadata": {},
     "output_type": "execute_result"
    }
   ],
   "source": [
    "scrna_signature_model"
   ]
  },
  {
   "cell_type": "code",
   "execution_count": null,
   "id": "84f28d15-6341-4177-a88d-370527fb0746",
   "metadata": {},
   "outputs": [],
   "source": []
  }
 ],
 "metadata": {
  "kernelspec": {
   "display_name": "Kedro (hexcore_project)",
   "language": "python",
   "name": "kedro_hexcore_project"
  },
  "language_info": {
   "codemirror_mode": {
    "name": "ipython",
    "version": 3
   },
   "file_extension": ".py",
   "mimetype": "text/x-python",
   "name": "python",
   "nbconvert_exporter": "python",
   "pygments_lexer": "ipython3",
   "version": "3.13.1"
  }
 },
 "nbformat": 4,
 "nbformat_minor": 5
}
