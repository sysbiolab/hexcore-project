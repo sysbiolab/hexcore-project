{
 "cells": [
  {
   "cell_type": "code",
   "execution_count": 83,
   "id": "8c0cfbe4-494a-4880-91f2-f754baa76665",
   "metadata": {},
   "outputs": [],
   "source": [
    "import scanpy as sc\n",
    "import numpy as np\n",
    "import matplotlib.pyplot as plt\n",
    "import matplotlib as mpl\n",
    "\n",
    "import cell2location\n",
    "from matplotlib import rcParams\n",
    "from cell2location.utils.filtering import filter_genes\n",
    "\n",
    "from cell2location.models import RegressionModel\n",
    "\n",
    "rcParams['pdf.fonttype'] = 42 # enables correct plotting of text for PDFs\n",
    "\n",
    "results_folder = 'cell2location/results/lymph_nodes_analysis/'\n",
    "\n",
    "# create paths and names to results folders for reference regression and cell2location models\n",
    "ref_run_name = f'{results_folder}reference_signatures'\n",
    "run_name = f'{results_folder}/cell2location_map'"
   ]
  },
  {
   "cell_type": "code",
   "execution_count": 56,
   "id": "e6063a84-4581-4847-a022-c396ba7338e0",
   "metadata": {},
   "outputs": [],
   "source": [
    "import os\n",
    "os.environ[\"CUDA_VISIBLE_DEVICES\"] = \"0\"\n",
    "\n",
    "import torch\n",
    "torch.set_float32_matmul_precision('high')  # Ou 'high' se quiser mais desempenho"
   ]
  },
  {
   "cell_type": "code",
   "execution_count": 57,
   "id": "43ab4343-dd47-48ba-8a64-7cd9355ef655",
   "metadata": {},
   "outputs": [],
   "source": [
    "adata_file = f\"{ref_run_name}/sc.h5ad\"\n",
    "adata_ref = sc.read_h5ad(adata_file)"
   ]
  },
  {
   "cell_type": "code",
   "execution_count": 58,
   "id": "28b9e04d-25b4-4087-a2fb-227b7ca0cd55",
   "metadata": {},
   "outputs": [
    {
     "name": "stdout",
     "output_type": "stream",
     "text": [
      "\u001b[34mINFO    \u001b[0m File cell2location/results/lymph_nodes_analysis/reference_signatures/model.pt already downloaded          \n"
     ]
    },
    {
     "name": "stderr",
     "output_type": "stream",
     "text": [
      "INFO: GPU available: True (cuda), used: True\n"
     ]
    },
    {
     "data": {
      "text/html": [
       "<pre style=\"white-space:pre;overflow-x:auto;line-height:normal;font-family:Menlo,'DejaVu Sans Mono',consolas,'Courier New',monospace\"><span style=\"color: #7fbfbf; text-decoration-color: #7fbfbf\">[03/08/25 19:55:19] </span><span style=\"color: #000080; text-decoration-color: #000080\">INFO    </span> GPU available: <span style=\"color: #00ff00; text-decoration-color: #00ff00; font-style: italic\">True</span> <span style=\"font-weight: bold\">(</span>cuda<span style=\"font-weight: bold\">)</span>, used: <span style=\"color: #00ff00; text-decoration-color: #00ff00; font-style: italic\">True</span>                                 <a href=\"file:///storage-a/users_data/jupyter/vapolonio/hexcore-project/hexcore-project-env/lib/python3.12/site-packages/lightning_utilities/core/rank_zero.py\" target=\"_blank\"><span style=\"color: #7f7f7f; text-decoration-color: #7f7f7f\">rank_zero.py</span></a><span style=\"color: #7f7f7f; text-decoration-color: #7f7f7f\">:</span><a href=\"file:///storage-a/users_data/jupyter/vapolonio/hexcore-project/hexcore-project-env/lib/python3.12/site-packages/lightning_utilities/core/rank_zero.py#63\" target=\"_blank\"><span style=\"color: #7f7f7f; text-decoration-color: #7f7f7f\">63</span></a>\n",
       "</pre>\n"
      ],
      "text/plain": [
       "\u001b[2;36m[03/08/25 19:55:19]\u001b[0m\u001b[2;36m \u001b[0m\u001b[34mINFO    \u001b[0m GPU available: \u001b[3;92mTrue\u001b[0m \u001b[1m(\u001b[0mcuda\u001b[1m)\u001b[0m, used: \u001b[3;92mTrue\u001b[0m                                 \u001b]8;id=142566;file:///storage-a/users_data/jupyter/vapolonio/hexcore-project/hexcore-project-env/lib/python3.12/site-packages/lightning_utilities/core/rank_zero.py\u001b\\\u001b[2mrank_zero.py\u001b[0m\u001b]8;;\u001b\\\u001b[2m:\u001b[0m\u001b]8;id=768373;file:///storage-a/users_data/jupyter/vapolonio/hexcore-project/hexcore-project-env/lib/python3.12/site-packages/lightning_utilities/core/rank_zero.py#63\u001b\\\u001b[2m63\u001b[0m\u001b]8;;\u001b\\\n"
      ]
     },
     "metadata": {},
     "output_type": "display_data"
    },
    {
     "name": "stderr",
     "output_type": "stream",
     "text": [
      "INFO: TPU available: False, using: 0 TPU cores\n"
     ]
    },
    {
     "data": {
      "text/html": [
       "<pre style=\"white-space:pre;overflow-x:auto;line-height:normal;font-family:Menlo,'DejaVu Sans Mono',consolas,'Courier New',monospace\"><span style=\"color: #7fbfbf; text-decoration-color: #7fbfbf\">                    </span><span style=\"color: #000080; text-decoration-color: #000080\">INFO    </span> TPU available: <span style=\"color: #ff0000; text-decoration-color: #ff0000; font-style: italic\">False</span>, using: <span style=\"color: #008080; text-decoration-color: #008080; font-weight: bold\">0</span> TPU cores                               <a href=\"file:///storage-a/users_data/jupyter/vapolonio/hexcore-project/hexcore-project-env/lib/python3.12/site-packages/lightning_utilities/core/rank_zero.py\" target=\"_blank\"><span style=\"color: #7f7f7f; text-decoration-color: #7f7f7f\">rank_zero.py</span></a><span style=\"color: #7f7f7f; text-decoration-color: #7f7f7f\">:</span><a href=\"file:///storage-a/users_data/jupyter/vapolonio/hexcore-project/hexcore-project-env/lib/python3.12/site-packages/lightning_utilities/core/rank_zero.py#63\" target=\"_blank\"><span style=\"color: #7f7f7f; text-decoration-color: #7f7f7f\">63</span></a>\n",
       "</pre>\n"
      ],
      "text/plain": [
       "\u001b[2;36m                   \u001b[0m\u001b[2;36m \u001b[0m\u001b[34mINFO    \u001b[0m TPU available: \u001b[3;91mFalse\u001b[0m, using: \u001b[1;36m0\u001b[0m TPU cores                               \u001b]8;id=667046;file:///storage-a/users_data/jupyter/vapolonio/hexcore-project/hexcore-project-env/lib/python3.12/site-packages/lightning_utilities/core/rank_zero.py\u001b\\\u001b[2mrank_zero.py\u001b[0m\u001b]8;;\u001b\\\u001b[2m:\u001b[0m\u001b]8;id=849982;file:///storage-a/users_data/jupyter/vapolonio/hexcore-project/hexcore-project-env/lib/python3.12/site-packages/lightning_utilities/core/rank_zero.py#63\u001b\\\u001b[2m63\u001b[0m\u001b]8;;\u001b\\\n"
      ]
     },
     "metadata": {},
     "output_type": "display_data"
    },
    {
     "name": "stderr",
     "output_type": "stream",
     "text": [
      "INFO: HPU available: False, using: 0 HPUs\n"
     ]
    },
    {
     "data": {
      "text/html": [
       "<pre style=\"white-space:pre;overflow-x:auto;line-height:normal;font-family:Menlo,'DejaVu Sans Mono',consolas,'Courier New',monospace\"><span style=\"color: #7fbfbf; text-decoration-color: #7fbfbf\">                    </span><span style=\"color: #000080; text-decoration-color: #000080\">INFO    </span> HPU available: <span style=\"color: #ff0000; text-decoration-color: #ff0000; font-style: italic\">False</span>, using: <span style=\"color: #008080; text-decoration-color: #008080; font-weight: bold\">0</span> HPUs                                    <a href=\"file:///storage-a/users_data/jupyter/vapolonio/hexcore-project/hexcore-project-env/lib/python3.12/site-packages/lightning_utilities/core/rank_zero.py\" target=\"_blank\"><span style=\"color: #7f7f7f; text-decoration-color: #7f7f7f\">rank_zero.py</span></a><span style=\"color: #7f7f7f; text-decoration-color: #7f7f7f\">:</span><a href=\"file:///storage-a/users_data/jupyter/vapolonio/hexcore-project/hexcore-project-env/lib/python3.12/site-packages/lightning_utilities/core/rank_zero.py#63\" target=\"_blank\"><span style=\"color: #7f7f7f; text-decoration-color: #7f7f7f\">63</span></a>\n",
       "</pre>\n"
      ],
      "text/plain": [
       "\u001b[2;36m                   \u001b[0m\u001b[2;36m \u001b[0m\u001b[34mINFO    \u001b[0m HPU available: \u001b[3;91mFalse\u001b[0m, using: \u001b[1;36m0\u001b[0m HPUs                                    \u001b]8;id=284309;file:///storage-a/users_data/jupyter/vapolonio/hexcore-project/hexcore-project-env/lib/python3.12/site-packages/lightning_utilities/core/rank_zero.py\u001b\\\u001b[2mrank_zero.py\u001b[0m\u001b]8;;\u001b\\\u001b[2m:\u001b[0m\u001b]8;id=88675;file:///storage-a/users_data/jupyter/vapolonio/hexcore-project/hexcore-project-env/lib/python3.12/site-packages/lightning_utilities/core/rank_zero.py#63\u001b\\\u001b[2m63\u001b[0m\u001b]8;;\u001b\\\n"
      ]
     },
     "metadata": {},
     "output_type": "display_data"
    },
    {
     "data": {
      "text/html": [
       "<pre style=\"white-space:pre;overflow-x:auto;line-height:normal;font-family:Menlo,'DejaVu Sans Mono',consolas,'Courier New',monospace\"><span style=\"color: #7fbfbf; text-decoration-color: #7fbfbf\">                    </span><span style=\"color: #808000; text-decoration-color: #808000\">WARNING </span> <span style=\"color: #800080; text-decoration-color: #800080\">/storage-a/users_data/jupyter/vapolonio/hexcore-project/hexcore-projec</span> <a href=\"file:///home/biosis-gpu/anaconda3/lib/python3.12/warnings.py\" target=\"_blank\"><span style=\"color: #7f7f7f; text-decoration-color: #7f7f7f\">warnings.py</span></a><span style=\"color: #7f7f7f; text-decoration-color: #7f7f7f\">:</span><a href=\"file:///home/biosis-gpu/anaconda3/lib/python3.12/warnings.py#112\" target=\"_blank\"><span style=\"color: #7f7f7f; text-decoration-color: #7f7f7f\">112</span></a>\n",
       "<span style=\"color: #7fbfbf; text-decoration-color: #7fbfbf\">                    </span>         <span style=\"color: #800080; text-decoration-color: #800080\">t-env/lib/python3.12/site-packages/lightning/pytorch/trainer/</span><span style=\"color: #ff00ff; text-decoration-color: #ff00ff\">configura</span> <span style=\"color: #7f7f7f; text-decoration-color: #7f7f7f\">               </span>\n",
       "<span style=\"color: #7fbfbf; text-decoration-color: #7fbfbf\">                    </span>         <span style=\"color: #ff00ff; text-decoration-color: #ff00ff\">tion_validator.py</span>:<span style=\"color: #008080; text-decoration-color: #008080; font-weight: bold\">68</span>: You passed in a `val_dataloader` but have no     <span style=\"color: #7f7f7f; text-decoration-color: #7f7f7f\">               </span>\n",
       "<span style=\"color: #7fbfbf; text-decoration-color: #7fbfbf\">                    </span>         `validation_step`. Skipping val loop.                                  <span style=\"color: #7f7f7f; text-decoration-color: #7f7f7f\">               </span>\n",
       "<span style=\"color: #7fbfbf; text-decoration-color: #7fbfbf\">                    </span>                                                                                <span style=\"color: #7f7f7f; text-decoration-color: #7f7f7f\">               </span>\n",
       "</pre>\n"
      ],
      "text/plain": [
       "\u001b[2;36m                   \u001b[0m\u001b[2;36m \u001b[0m\u001b[33mWARNING \u001b[0m \u001b[35m/storage-a/users_data/jupyter/vapolonio/hexcore-project/hexcore-projec\u001b[0m \u001b]8;id=428242;file:///home/biosis-gpu/anaconda3/lib/python3.12/warnings.py\u001b\\\u001b[2mwarnings.py\u001b[0m\u001b]8;;\u001b\\\u001b[2m:\u001b[0m\u001b]8;id=707677;file:///home/biosis-gpu/anaconda3/lib/python3.12/warnings.py#112\u001b\\\u001b[2m112\u001b[0m\u001b]8;;\u001b\\\n",
       "\u001b[2;36m                    \u001b[0m         \u001b[35mt-env/lib/python3.12/site-packages/lightning/pytorch/trainer/\u001b[0m\u001b[95mconfigura\u001b[0m \u001b[2m               \u001b[0m\n",
       "\u001b[2;36m                    \u001b[0m         \u001b[95mtion_validator.py\u001b[0m:\u001b[1;36m68\u001b[0m: You passed in a `val_dataloader` but have no     \u001b[2m               \u001b[0m\n",
       "\u001b[2;36m                    \u001b[0m         `validation_step`. Skipping val loop.                                  \u001b[2m               \u001b[0m\n",
       "\u001b[2;36m                    \u001b[0m                                                                                \u001b[2m               \u001b[0m\n"
      ]
     },
     "metadata": {},
     "output_type": "display_data"
    },
    {
     "name": "stderr",
     "output_type": "stream",
     "text": [
      "INFO: LOCAL_RANK: 0 - CUDA_VISIBLE_DEVICES: [0]\n"
     ]
    },
    {
     "data": {
      "text/html": [
       "<pre style=\"white-space:pre;overflow-x:auto;line-height:normal;font-family:Menlo,'DejaVu Sans Mono',consolas,'Courier New',monospace\"><span style=\"color: #7fbfbf; text-decoration-color: #7fbfbf\">                    </span><span style=\"color: #000080; text-decoration-color: #000080\">INFO    </span> LOCAL_RANK: <span style=\"color: #008080; text-decoration-color: #008080; font-weight: bold\">0</span> - CUDA_VISIBLE_DEVICES: <span style=\"font-weight: bold\">[</span><span style=\"color: #008080; text-decoration-color: #008080; font-weight: bold\">0</span><span style=\"font-weight: bold\">]</span>                                   <a href=\"file:///storage-a/users_data/jupyter/vapolonio/hexcore-project/hexcore-project-env/lib/python3.12/site-packages/lightning/pytorch/accelerators/cuda.py\" target=\"_blank\"><span style=\"color: #7f7f7f; text-decoration-color: #7f7f7f\">cuda.py</span></a><span style=\"color: #7f7f7f; text-decoration-color: #7f7f7f\">:</span><a href=\"file:///storage-a/users_data/jupyter/vapolonio/hexcore-project/hexcore-project-env/lib/python3.12/site-packages/lightning/pytorch/accelerators/cuda.py#61\" target=\"_blank\"><span style=\"color: #7f7f7f; text-decoration-color: #7f7f7f\">61</span></a>\n",
       "</pre>\n"
      ],
      "text/plain": [
       "\u001b[2;36m                   \u001b[0m\u001b[2;36m \u001b[0m\u001b[34mINFO    \u001b[0m LOCAL_RANK: \u001b[1;36m0\u001b[0m - CUDA_VISIBLE_DEVICES: \u001b[1m[\u001b[0m\u001b[1;36m0\u001b[0m\u001b[1m]\u001b[0m                                   \u001b]8;id=813405;file:///storage-a/users_data/jupyter/vapolonio/hexcore-project/hexcore-project-env/lib/python3.12/site-packages/lightning/pytorch/accelerators/cuda.py\u001b\\\u001b[2mcuda.py\u001b[0m\u001b]8;;\u001b\\\u001b[2m:\u001b[0m\u001b]8;id=341903;file:///storage-a/users_data/jupyter/vapolonio/hexcore-project/hexcore-project-env/lib/python3.12/site-packages/lightning/pytorch/accelerators/cuda.py#61\u001b\\\u001b[2m61\u001b[0m\u001b]8;;\u001b\\\n"
      ]
     },
     "metadata": {},
     "output_type": "display_data"
    },
    {
     "data": {
      "text/html": [
       "<pre style=\"white-space:pre;overflow-x:auto;line-height:normal;font-family:Menlo,'DejaVu Sans Mono',consolas,'Courier New',monospace\"><span style=\"color: #7fbfbf; text-decoration-color: #7fbfbf\">                    </span><span style=\"color: #808000; text-decoration-color: #808000\">WARNING </span> <span style=\"color: #800080; text-decoration-color: #800080\">/storage-a/users_data/jupyter/vapolonio/hexcore-project/hexcore-projec</span> <a href=\"file:///home/biosis-gpu/anaconda3/lib/python3.12/warnings.py\" target=\"_blank\"><span style=\"color: #7f7f7f; text-decoration-color: #7f7f7f\">warnings.py</span></a><span style=\"color: #7f7f7f; text-decoration-color: #7f7f7f\">:</span><a href=\"file:///home/biosis-gpu/anaconda3/lib/python3.12/warnings.py#112\" target=\"_blank\"><span style=\"color: #7f7f7f; text-decoration-color: #7f7f7f\">112</span></a>\n",
       "<span style=\"color: #7fbfbf; text-decoration-color: #7fbfbf\">                    </span>         <span style=\"color: #800080; text-decoration-color: #800080\">t-env/lib/python3.12/site-packages/lightning/pytorch/trainer/connector</span> <span style=\"color: #7f7f7f; text-decoration-color: #7f7f7f\">               </span>\n",
       "<span style=\"color: #7fbfbf; text-decoration-color: #7fbfbf\">                    </span>         <span style=\"color: #800080; text-decoration-color: #800080\">s/</span><span style=\"color: #ff00ff; text-decoration-color: #ff00ff\">data_connector.py</span>:<span style=\"color: #008080; text-decoration-color: #008080; font-weight: bold\">425</span>: The <span style=\"color: #008000; text-decoration-color: #008000\">'train_dataloader'</span> does not have many     <span style=\"color: #7f7f7f; text-decoration-color: #7f7f7f\">               </span>\n",
       "<span style=\"color: #7fbfbf; text-decoration-color: #7fbfbf\">                    </span>         workers which may be a bottleneck. Consider increasing the value of    <span style=\"color: #7f7f7f; text-decoration-color: #7f7f7f\">               </span>\n",
       "<span style=\"color: #7fbfbf; text-decoration-color: #7fbfbf\">                    </span>         the `num_workers` argument` to `<span style=\"color: #808000; text-decoration-color: #808000\">num_workers</span>=<span style=\"color: #008080; text-decoration-color: #008080; font-weight: bold\">31</span>` in the `DataLoader` to <span style=\"color: #7f7f7f; text-decoration-color: #7f7f7f\">               </span>\n",
       "<span style=\"color: #7fbfbf; text-decoration-color: #7fbfbf\">                    </span>         improve performance.                                                   <span style=\"color: #7f7f7f; text-decoration-color: #7f7f7f\">               </span>\n",
       "<span style=\"color: #7fbfbf; text-decoration-color: #7fbfbf\">                    </span>                                                                                <span style=\"color: #7f7f7f; text-decoration-color: #7f7f7f\">               </span>\n",
       "</pre>\n"
      ],
      "text/plain": [
       "\u001b[2;36m                   \u001b[0m\u001b[2;36m \u001b[0m\u001b[33mWARNING \u001b[0m \u001b[35m/storage-a/users_data/jupyter/vapolonio/hexcore-project/hexcore-projec\u001b[0m \u001b]8;id=882828;file:///home/biosis-gpu/anaconda3/lib/python3.12/warnings.py\u001b\\\u001b[2mwarnings.py\u001b[0m\u001b]8;;\u001b\\\u001b[2m:\u001b[0m\u001b]8;id=126054;file:///home/biosis-gpu/anaconda3/lib/python3.12/warnings.py#112\u001b\\\u001b[2m112\u001b[0m\u001b]8;;\u001b\\\n",
       "\u001b[2;36m                    \u001b[0m         \u001b[35mt-env/lib/python3.12/site-packages/lightning/pytorch/trainer/connector\u001b[0m \u001b[2m               \u001b[0m\n",
       "\u001b[2;36m                    \u001b[0m         \u001b[35ms/\u001b[0m\u001b[95mdata_connector.py\u001b[0m:\u001b[1;36m425\u001b[0m: The \u001b[32m'train_dataloader'\u001b[0m does not have many     \u001b[2m               \u001b[0m\n",
       "\u001b[2;36m                    \u001b[0m         workers which may be a bottleneck. Consider increasing the value of    \u001b[2m               \u001b[0m\n",
       "\u001b[2;36m                    \u001b[0m         the `num_workers` argument` to `\u001b[33mnum_workers\u001b[0m=\u001b[1;36m31\u001b[0m` in the `DataLoader` to \u001b[2m               \u001b[0m\n",
       "\u001b[2;36m                    \u001b[0m         improve performance.                                                   \u001b[2m               \u001b[0m\n",
       "\u001b[2;36m                    \u001b[0m                                                                                \u001b[2m               \u001b[0m\n"
      ]
     },
     "metadata": {},
     "output_type": "display_data"
    },
    {
     "data": {
      "application/vnd.jupyter.widget-view+json": {
       "model_id": "38bb10ebed344cfc8c042268452b5e63",
       "version_major": 2,
       "version_minor": 0
      },
      "text/plain": [
       "Training:   0%|          | 0/273 [00:00<?, ?it/s]"
      ]
     },
     "metadata": {},
     "output_type": "display_data"
    },
    {
     "name": "stderr",
     "output_type": "stream",
     "text": [
      "INFO: `Trainer.fit` stopped: `max_steps=1` reached.\n"
     ]
    },
    {
     "data": {
      "text/html": [
       "<pre style=\"white-space:pre;overflow-x:auto;line-height:normal;font-family:Menlo,'DejaVu Sans Mono',consolas,'Courier New',monospace\"><span style=\"color: #7fbfbf; text-decoration-color: #7fbfbf\">                    </span><span style=\"color: #000080; text-decoration-color: #000080\">INFO    </span> `Trainer.fit` stopped: `<span style=\"color: #808000; text-decoration-color: #808000\">max_steps</span>=<span style=\"color: #008080; text-decoration-color: #008080; font-weight: bold\">1</span>` reached.                          <a href=\"file:///storage-a/users_data/jupyter/vapolonio/hexcore-project/hexcore-project-env/lib/python3.12/site-packages/lightning_utilities/core/rank_zero.py\" target=\"_blank\"><span style=\"color: #7f7f7f; text-decoration-color: #7f7f7f\">rank_zero.py</span></a><span style=\"color: #7f7f7f; text-decoration-color: #7f7f7f\">:</span><a href=\"file:///storage-a/users_data/jupyter/vapolonio/hexcore-project/hexcore-project-env/lib/python3.12/site-packages/lightning_utilities/core/rank_zero.py#63\" target=\"_blank\"><span style=\"color: #7f7f7f; text-decoration-color: #7f7f7f\">63</span></a>\n",
       "</pre>\n"
      ],
      "text/plain": [
       "\u001b[2;36m                   \u001b[0m\u001b[2;36m \u001b[0m\u001b[34mINFO    \u001b[0m `Trainer.fit` stopped: `\u001b[33mmax_steps\u001b[0m=\u001b[1;36m1\u001b[0m` reached.                          \u001b]8;id=425358;file:///storage-a/users_data/jupyter/vapolonio/hexcore-project/hexcore-project-env/lib/python3.12/site-packages/lightning_utilities/core/rank_zero.py\u001b\\\u001b[2mrank_zero.py\u001b[0m\u001b]8;;\u001b\\\u001b[2m:\u001b[0m\u001b]8;id=282973;file:///storage-a/users_data/jupyter/vapolonio/hexcore-project/hexcore-project-env/lib/python3.12/site-packages/lightning_utilities/core/rank_zero.py#63\u001b\\\u001b[2m63\u001b[0m\u001b]8;;\u001b\\\n"
      ]
     },
     "metadata": {},
     "output_type": "display_data"
    }
   ],
   "source": [
    "model = cell2location.models.RegressionModel.load(f\"{ref_run_name}\", adata_ref)"
   ]
  },
  {
   "cell_type": "code",
   "execution_count": 59,
   "id": "3cd4bfee-76a0-4c19-b6b8-dcf91d538ede",
   "metadata": {},
   "outputs": [
    {
     "data": {
      "text/html": [
       "<pre style=\"white-space:pre;overflow-x:auto;line-height:normal;font-family:Menlo,'DejaVu Sans Mono',consolas,'Courier New',monospace\"></pre>\n"
      ],
      "text/plain": []
     },
     "metadata": {},
     "output_type": "display_data"
    },
    {
     "data": {
      "text/plain": [
       "\n",
       "AnnData object with n_obs × n_vars = \u001b[1;36m73260\u001b[0m × \u001b[1;36m10237\u001b[0m\n",
       "    obs: \u001b[32m'Age'\u001b[0m, \u001b[32m'BCELL_CLONE'\u001b[0m, \u001b[32m'BCELL_CLONE_SIZE'\u001b[0m, \u001b[32m'Donor'\u001b[0m, \u001b[32m'ID'\u001b[0m, \u001b[32m'IGH_MU_FREQ'\u001b[0m, \u001b[32m'ISOTYPE'\u001b[0m, \u001b[32m'LibraryID'\u001b[0m, \u001b[32m'Method'\u001b[0m, \u001b[32m'Population'\u001b[0m, \u001b[32m'PrelimCellType'\u001b[0m, \u001b[32m'Sample'\u001b[0m, \u001b[32m'Sex'\u001b[0m, \u001b[32m'Study'\u001b[0m, \u001b[32m'Tissue'\u001b[0m, \u001b[32m'barcode'\u001b[0m, \u001b[32m'batch'\u001b[0m, \u001b[32m'doublet_score'\u001b[0m, \u001b[32m'index'\u001b[0m, \u001b[32m'predicted_doublet'\u001b[0m, \u001b[32m'percent_mito'\u001b[0m, \u001b[32m'n_counts'\u001b[0m, \u001b[32m'n_genes'\u001b[0m, \u001b[32m'S_score'\u001b[0m, \u001b[32m'G2M_score'\u001b[0m, \u001b[32m'phase'\u001b[0m, \u001b[32m'VDJsum'\u001b[0m, \u001b[32m'cell_cycle_diff'\u001b[0m, \u001b[32m'PrelimCellType_new'\u001b[0m, \u001b[32m'leiden'\u001b[0m, \u001b[32m'leiden_1'\u001b[0m, \u001b[32m'leiden_2'\u001b[0m, \u001b[32m'leiden_3'\u001b[0m, \u001b[32m'leiden_4'\u001b[0m, \u001b[32m'CellType'\u001b[0m, \u001b[32m'CellType2'\u001b[0m, \u001b[32m'Subset'\u001b[0m, \u001b[32m'Subset_Broad'\u001b[0m, \u001b[32m'Subset_all'\u001b[0m, \u001b[32m'new_celltype'\u001b[0m, \u001b[32m'Subset_int'\u001b[0m, \u001b[32m'Subset_print'\u001b[0m, \u001b[32m'_indices'\u001b[0m, \u001b[32m'_scvi_batch'\u001b[0m, \u001b[32m'_scvi_labels'\u001b[0m\n",
       "    var: \u001b[32m'GeneName-2'\u001b[0m, \u001b[32m'feature_types'\u001b[0m, \u001b[32m'feature_types-0'\u001b[0m, \u001b[32m'feature_types-1'\u001b[0m, \u001b[32m'gene_ids-1'\u001b[0m, \u001b[32m'gene_ids-4861STDY7135913-0'\u001b[0m, \u001b[32m'gene_ids-4861STDY7135914-0'\u001b[0m, \u001b[32m'gene_ids-4861STDY7208412-0'\u001b[0m, \u001b[32m'gene_ids-4861STDY7208413-0'\u001b[0m, \u001b[32m'gene_ids-Human_colon_16S7255677-0'\u001b[0m, \u001b[32m'gene_ids-Human_colon_16S7255678-0'\u001b[0m, \u001b[32m'gene_ids-Human_colon_16S8000484-0'\u001b[0m, \u001b[32m'gene_ids-Pan_T7935494-0'\u001b[0m, \u001b[32m'genome-1'\u001b[0m, \u001b[32m'n_cells'\u001b[0m, \u001b[32m'nonz_mean'\u001b[0m, \u001b[32m'mean_cov_effect_Subset_B_Cycling'\u001b[0m, \u001b[32m'mean_cov_effect_Subset_B_GC_DZ'\u001b[0m, \u001b[32m'mean_cov_effect_Subset_B_GC_LZ'\u001b[0m, \u001b[32m'mean_cov_effect_Subset_B_GC_prePB'\u001b[0m, \u001b[32m'mean_cov_effect_Subset_B_IFN'\u001b[0m, \u001b[32m'mean_cov_effect_Subset_B_activated'\u001b[0m, \u001b[32m'mean_cov_effect_Subset_B_mem'\u001b[0m, \u001b[32m'mean_cov_effect_Subset_B_naive'\u001b[0m, \u001b[32m'mean_cov_effect_Subset_B_plasma'\u001b[0m, \u001b[32m'mean_cov_effect_Subset_B_preGC'\u001b[0m, \u001b[32m'mean_cov_effect_Subset_DC_CCR7+'\u001b[0m, \u001b[32m'mean_cov_effect_Subset_DC_cDC1'\u001b[0m, \u001b[32m'mean_cov_effect_Subset_DC_cDC2'\u001b[0m, \u001b[32m'mean_cov_effect_Subset_DC_pDC'\u001b[0m, \u001b[32m'mean_cov_effect_Subset_Endo'\u001b[0m, \u001b[32m'mean_cov_effect_Subset_FDC'\u001b[0m, \u001b[32m'mean_cov_effect_Subset_ILC'\u001b[0m, \u001b[32m'mean_cov_effect_Subset_Macrophages_M1'\u001b[0m, \u001b[32m'mean_cov_effect_Subset_Macrophages_M2'\u001b[0m, \u001b[32m'mean_cov_effect_Subset_Mast'\u001b[0m, \u001b[32m'mean_cov_effect_Subset_Monocytes'\u001b[0m, \u001b[32m'mean_cov_effect_Subset_NK'\u001b[0m, \u001b[32m'mean_cov_effect_Subset_NKT'\u001b[0m, \u001b[32m'mean_cov_effect_Subset_T_CD4+'\u001b[0m, \u001b[32m'mean_cov_effect_Subset_T_CD4+_TfH'\u001b[0m, \u001b[32m'mean_cov_effect_Subset_T_CD4+_TfH_GC'\u001b[0m, \u001b[32m'mean_cov_effect_Subset_T_CD4+_naive'\u001b[0m, \u001b[32m'mean_cov_effect_Subset_T_CD8+_CD161+'\u001b[0m, \u001b[32m'mean_cov_effect_Subset_T_CD8+_cytotoxic'\u001b[0m, \u001b[32m'mean_cov_effect_Subset_T_CD8+_naive'\u001b[0m, \u001b[32m'mean_cov_effect_Subset_T_TIM3+'\u001b[0m, \u001b[32m'mean_cov_effect_Subset_T_TfR'\u001b[0m, \u001b[32m'mean_cov_effect_Subset_T_Treg'\u001b[0m, \u001b[32m'mean_cov_effect_Subset_VSMC'\u001b[0m, \u001b[32m'mean_sample_effectSample_4861STDY7135913'\u001b[0m, \u001b[32m'mean_sample_effectSample_4861STDY7135914'\u001b[0m, \u001b[32m'mean_sample_effectSample_4861STDY7208412'\u001b[0m, \u001b[32m'mean_sample_effectSample_4861STDY7208413'\u001b[0m, \u001b[32m'mean_sample_effectSample_4861STDY7462253'\u001b[0m, \u001b[32m'mean_sample_effectSample_4861STDY7462254'\u001b[0m, \u001b[32m'mean_sample_effectSample_4861STDY7462255'\u001b[0m, \u001b[32m'mean_sample_effectSample_4861STDY7462256'\u001b[0m, \u001b[32m'mean_sample_effectSample_4861STDY7528597'\u001b[0m, \u001b[32m'mean_sample_effectSample_4861STDY7528598'\u001b[0m, \u001b[32m'mean_sample_effectSample_4861STDY7528599'\u001b[0m, \u001b[32m'mean_sample_effectSample_4861STDY7528600'\u001b[0m, \u001b[32m'mean_sample_effectSample_BCP002_Total'\u001b[0m, \u001b[32m'mean_sample_effectSample_BCP003_Total'\u001b[0m, \u001b[32m'mean_sample_effectSample_BCP004_Total'\u001b[0m, \u001b[32m'mean_sample_effectSample_BCP005_Total'\u001b[0m, \u001b[32m'mean_sample_effectSample_BCP006_Total'\u001b[0m, \u001b[32m'mean_sample_effectSample_BCP008_Total'\u001b[0m, \u001b[32m'mean_sample_effectSample_BCP009_Total'\u001b[0m, \u001b[32m'mean_sample_effectSample_Human_colon_16S7255677'\u001b[0m, \u001b[32m'mean_sample_effectSample_Human_colon_16S7255678'\u001b[0m, \u001b[32m'mean_sample_effectSample_Human_colon_16S8000484'\u001b[0m, \u001b[32m'mean_sample_effectSample_Pan_T7935494'\u001b[0m, \u001b[32m'SYMBOL'\u001b[0m\n",
       "    uns: \u001b[32m'Age_colors'\u001b[0m, \u001b[32m'Donor_colors'\u001b[0m, \u001b[32m'LibraryID_colors'\u001b[0m, \u001b[32m'Method_colors'\u001b[0m, \u001b[32m'Study_colors'\u001b[0m, \u001b[32m'Subset_Broad_colors'\u001b[0m, \u001b[32m'Subset_colors'\u001b[0m, \u001b[32m'Tissue_colors'\u001b[0m, \u001b[32m'_scvi_manager_uuid'\u001b[0m, \u001b[32m'_scvi_uuid'\u001b[0m, \u001b[32m'leiden'\u001b[0m, \u001b[32m'mod'\u001b[0m, \u001b[32m'neighbors'\u001b[0m, \u001b[32m'pca'\u001b[0m, \u001b[32m'phase_colors'\u001b[0m, \u001b[32m'regression_mod'\u001b[0m, \u001b[32m'umap'\u001b[0m\n",
       "    obsm: \u001b[32m'X_pca'\u001b[0m, \u001b[32m'X_umap'\u001b[0m, \u001b[32m'_scvi_extra_categorical_covs'\u001b[0m\n",
       "    varm: \u001b[32m'means_per_cluster_mu_fg'\u001b[0m, \u001b[32m'q05_per_cluster_mu_fg'\u001b[0m, \u001b[32m'q95_per_cluster_mu_fg'\u001b[0m, \u001b[32m'stds_per_cluster_mu_fg'\u001b[0m\n",
       "    obsp: \u001b[32m'connectivities'\u001b[0m, \u001b[32m'distances'\u001b[0m"
      ]
     },
     "execution_count": 59,
     "metadata": {},
     "output_type": "execute_result"
    }
   ],
   "source": [
    "adata_ref"
   ]
  },
  {
   "cell_type": "code",
   "execution_count": 60,
   "id": "adb25f85-c6d4-4915-a4ef-c9194468b050",
   "metadata": {},
   "outputs": [],
   "source": [
    "inf_aver = adata_ref.varm['means_per_cluster_mu_fg'][[f'means_per_cluster_mu_fg_{i}' \\\n",
    "                                           for i in adata_ref.uns['mod']['factor_names']]]\n",
    "inf_aver.columns = adata_ref.uns['mod']['factor_names']"
   ]
  },
  {
   "cell_type": "code",
   "execution_count": 62,
   "id": "873267a6-dd60-4fd0-b804-1c0881b25761",
   "metadata": {},
   "outputs": [
    {
     "data": {
      "text/html": [
       "<pre style=\"white-space:pre;overflow-x:auto;line-height:normal;font-family:Menlo,'DejaVu Sans Mono',consolas,'Courier New',monospace\"><span style=\"color: #7fbfbf; text-decoration-color: #7fbfbf\">[03/08/25 19:55:51] </span><span style=\"color: #808000; text-decoration-color: #808000\">WARNING </span> <span style=\"color: #800080; text-decoration-color: #800080\">/tmp/ipykernel_3797297/</span><span style=\"color: #ff00ff; text-decoration-color: #ff00ff\">3521166600.py</span>:<span style=\"color: #008080; text-decoration-color: #008080; font-weight: bold\">3</span>: FutureWarning: Use             <a href=\"file:///home/biosis-gpu/anaconda3/lib/python3.12/warnings.py\" target=\"_blank\"><span style=\"color: #7f7f7f; text-decoration-color: #7f7f7f\">warnings.py</span></a><span style=\"color: #7f7f7f; text-decoration-color: #7f7f7f\">:</span><a href=\"file:///home/biosis-gpu/anaconda3/lib/python3.12/warnings.py#112\" target=\"_blank\"><span style=\"color: #7f7f7f; text-decoration-color: #7f7f7f\">112</span></a>\n",
       "<span style=\"color: #7fbfbf; text-decoration-color: #7fbfbf\">                    </span>         `squidpy.datasets.visium` instead.                                     <span style=\"color: #7f7f7f; text-decoration-color: #7f7f7f\">               </span>\n",
       "<span style=\"color: #7fbfbf; text-decoration-color: #7fbfbf\">                    </span>           adata_vis = <span style=\"color: #800080; text-decoration-color: #800080; font-weight: bold\">sc.datasets.visium_sge</span><span style=\"font-weight: bold\">(</span><span style=\"color: #808000; text-decoration-color: #808000\">sample_id</span>=<span style=\"color: #008000; text-decoration-color: #008000\">\"V1_Human_Lymph_Node\"</span><span style=\"font-weight: bold\">)</span>  <span style=\"color: #7f7f7f; text-decoration-color: #7f7f7f\">               </span>\n",
       "<span style=\"color: #7fbfbf; text-decoration-color: #7fbfbf\">                    </span>                                                                                <span style=\"color: #7f7f7f; text-decoration-color: #7f7f7f\">               </span>\n",
       "</pre>\n"
      ],
      "text/plain": [
       "\u001b[2;36m[03/08/25 19:55:51]\u001b[0m\u001b[2;36m \u001b[0m\u001b[33mWARNING \u001b[0m \u001b[35m/tmp/ipykernel_3797297/\u001b[0m\u001b[95m3521166600.py\u001b[0m:\u001b[1;36m3\u001b[0m: FutureWarning: Use             \u001b]8;id=212209;file:///home/biosis-gpu/anaconda3/lib/python3.12/warnings.py\u001b\\\u001b[2mwarnings.py\u001b[0m\u001b]8;;\u001b\\\u001b[2m:\u001b[0m\u001b]8;id=496186;file:///home/biosis-gpu/anaconda3/lib/python3.12/warnings.py#112\u001b\\\u001b[2m112\u001b[0m\u001b]8;;\u001b\\\n",
       "\u001b[2;36m                    \u001b[0m         `squidpy.datasets.visium` instead.                                     \u001b[2m               \u001b[0m\n",
       "\u001b[2;36m                    \u001b[0m           adata_vis = \u001b[1;35msc.datasets.visium_sge\u001b[0m\u001b[1m(\u001b[0m\u001b[33msample_id\u001b[0m=\u001b[32m\"V1_Human_Lymph_Node\"\u001b[0m\u001b[1m)\u001b[0m  \u001b[2m               \u001b[0m\n",
       "\u001b[2;36m                    \u001b[0m                                                                                \u001b[2m               \u001b[0m\n"
      ]
     },
     "metadata": {},
     "output_type": "display_data"
    },
    {
     "data": {
      "text/html": [
       "<pre style=\"white-space:pre;overflow-x:auto;line-height:normal;font-family:Menlo,'DejaVu Sans Mono',consolas,'Courier New',monospace\"><span style=\"color: #7fbfbf; text-decoration-color: #7fbfbf\">                    </span><span style=\"color: #808000; text-decoration-color: #808000\">WARNING </span> <span style=\"color: #800080; text-decoration-color: #800080\">/storage-a/users_data/jupyter/vapolonio/hexcore-project/hexcore-projec</span> <a href=\"file:///home/biosis-gpu/anaconda3/lib/python3.12/warnings.py\" target=\"_blank\"><span style=\"color: #7f7f7f; text-decoration-color: #7f7f7f\">warnings.py</span></a><span style=\"color: #7f7f7f; text-decoration-color: #7f7f7f\">:</span><a href=\"file:///home/biosis-gpu/anaconda3/lib/python3.12/warnings.py#112\" target=\"_blank\"><span style=\"color: #7f7f7f; text-decoration-color: #7f7f7f\">112</span></a>\n",
       "<span style=\"color: #7fbfbf; text-decoration-color: #7fbfbf\">                    </span>         <span style=\"color: #800080; text-decoration-color: #800080\">t-env/lib/python3.12/site-packages/scanpy/datasets/</span><span style=\"color: #ff00ff; text-decoration-color: #ff00ff\">_datasets.py</span>:<span style=\"color: #008080; text-decoration-color: #008080; font-weight: bold\">558</span>:   <span style=\"color: #7f7f7f; text-decoration-color: #7f7f7f\">               </span>\n",
       "<span style=\"color: #7fbfbf; text-decoration-color: #7fbfbf\">                    </span>         FutureWarning: Use `squidpy.read.visium` instead.                      <span style=\"color: #7f7f7f; text-decoration-color: #7f7f7f\">               </span>\n",
       "<span style=\"color: #7fbfbf; text-decoration-color: #7fbfbf\">                    </span>           return <span style=\"color: #800080; text-decoration-color: #800080; font-weight: bold\">read_visium</span><span style=\"font-weight: bold\">(</span>sample_dir, <span style=\"color: #808000; text-decoration-color: #808000\">source_image_path</span>=<span style=\"color: #800080; text-decoration-color: #800080\">source_image_path</span><span style=\"font-weight: bold\">)</span>  <span style=\"color: #7f7f7f; text-decoration-color: #7f7f7f\">               </span>\n",
       "<span style=\"color: #7fbfbf; text-decoration-color: #7fbfbf\">                    </span>                                                                                <span style=\"color: #7f7f7f; text-decoration-color: #7f7f7f\">               </span>\n",
       "</pre>\n"
      ],
      "text/plain": [
       "\u001b[2;36m                   \u001b[0m\u001b[2;36m \u001b[0m\u001b[33mWARNING \u001b[0m \u001b[35m/storage-a/users_data/jupyter/vapolonio/hexcore-project/hexcore-projec\u001b[0m \u001b]8;id=599992;file:///home/biosis-gpu/anaconda3/lib/python3.12/warnings.py\u001b\\\u001b[2mwarnings.py\u001b[0m\u001b]8;;\u001b\\\u001b[2m:\u001b[0m\u001b]8;id=665029;file:///home/biosis-gpu/anaconda3/lib/python3.12/warnings.py#112\u001b\\\u001b[2m112\u001b[0m\u001b]8;;\u001b\\\n",
       "\u001b[2;36m                    \u001b[0m         \u001b[35mt-env/lib/python3.12/site-packages/scanpy/datasets/\u001b[0m\u001b[95m_datasets.py\u001b[0m:\u001b[1;36m558\u001b[0m:   \u001b[2m               \u001b[0m\n",
       "\u001b[2;36m                    \u001b[0m         FutureWarning: Use `squidpy.read.visium` instead.                      \u001b[2m               \u001b[0m\n",
       "\u001b[2;36m                    \u001b[0m           return \u001b[1;35mread_visium\u001b[0m\u001b[1m(\u001b[0msample_dir, \u001b[33msource_image_path\u001b[0m=\u001b[35msource_image_path\u001b[0m\u001b[1m)\u001b[0m  \u001b[2m               \u001b[0m\n",
       "\u001b[2;36m                    \u001b[0m                                                                                \u001b[2m               \u001b[0m\n"
      ]
     },
     "metadata": {},
     "output_type": "display_data"
    },
    {
     "data": {
      "text/html": [
       "<pre style=\"white-space:pre;overflow-x:auto;line-height:normal;font-family:Menlo,'DejaVu Sans Mono',consolas,'Courier New',monospace\"><span style=\"color: #7fbfbf; text-decoration-color: #7fbfbf\">[03/08/25 19:55:52] </span><span style=\"color: #808000; text-decoration-color: #808000\">WARNING </span> <span style=\"color: #800080; text-decoration-color: #800080\">/storage-a/users_data/jupyter/vapolonio/hexcore-project/hexcore-projec</span> <a href=\"file:///home/biosis-gpu/anaconda3/lib/python3.12/warnings.py\" target=\"_blank\"><span style=\"color: #7f7f7f; text-decoration-color: #7f7f7f\">warnings.py</span></a><span style=\"color: #7f7f7f; text-decoration-color: #7f7f7f\">:</span><a href=\"file:///home/biosis-gpu/anaconda3/lib/python3.12/warnings.py#112\" target=\"_blank\"><span style=\"color: #7f7f7f; text-decoration-color: #7f7f7f\">112</span></a>\n",
       "<span style=\"color: #7fbfbf; text-decoration-color: #7fbfbf\">                    </span>         <span style=\"color: #800080; text-decoration-color: #800080\">t-env/lib/python3.12/site-packages/anndata/_core/</span><span style=\"color: #ff00ff; text-decoration-color: #ff00ff\">anndata.py</span>:<span style=\"color: #008080; text-decoration-color: #008080; font-weight: bold\">1758</span>:      <span style=\"color: #7f7f7f; text-decoration-color: #7f7f7f\">               </span>\n",
       "<span style=\"color: #7fbfbf; text-decoration-color: #7fbfbf\">                    </span>         UserWarning: Variable names are not unique. To make them unique, call  <span style=\"color: #7f7f7f; text-decoration-color: #7f7f7f\">               </span>\n",
       "<span style=\"color: #7fbfbf; text-decoration-color: #7fbfbf\">                    </span>         `.var_names_make_unique`.                                              <span style=\"color: #7f7f7f; text-decoration-color: #7f7f7f\">               </span>\n",
       "<span style=\"color: #7fbfbf; text-decoration-color: #7fbfbf\">                    </span>           <span style=\"color: #800080; text-decoration-color: #800080; font-weight: bold\">utils.warn_names_duplicates</span><span style=\"font-weight: bold\">(</span><span style=\"color: #008000; text-decoration-color: #008000\">\"var\"</span><span style=\"font-weight: bold\">)</span>                                   <span style=\"color: #7f7f7f; text-decoration-color: #7f7f7f\">               </span>\n",
       "<span style=\"color: #7fbfbf; text-decoration-color: #7fbfbf\">                    </span>                                                                                <span style=\"color: #7f7f7f; text-decoration-color: #7f7f7f\">               </span>\n",
       "</pre>\n"
      ],
      "text/plain": [
       "\u001b[2;36m[03/08/25 19:55:52]\u001b[0m\u001b[2;36m \u001b[0m\u001b[33mWARNING \u001b[0m \u001b[35m/storage-a/users_data/jupyter/vapolonio/hexcore-project/hexcore-projec\u001b[0m \u001b]8;id=832283;file:///home/biosis-gpu/anaconda3/lib/python3.12/warnings.py\u001b\\\u001b[2mwarnings.py\u001b[0m\u001b]8;;\u001b\\\u001b[2m:\u001b[0m\u001b]8;id=853474;file:///home/biosis-gpu/anaconda3/lib/python3.12/warnings.py#112\u001b\\\u001b[2m112\u001b[0m\u001b]8;;\u001b\\\n",
       "\u001b[2;36m                    \u001b[0m         \u001b[35mt-env/lib/python3.12/site-packages/anndata/_core/\u001b[0m\u001b[95manndata.py\u001b[0m:\u001b[1;36m1758\u001b[0m:      \u001b[2m               \u001b[0m\n",
       "\u001b[2;36m                    \u001b[0m         UserWarning: Variable names are not unique. To make them unique, call  \u001b[2m               \u001b[0m\n",
       "\u001b[2;36m                    \u001b[0m         `.var_names_make_unique`.                                              \u001b[2m               \u001b[0m\n",
       "\u001b[2;36m                    \u001b[0m           \u001b[1;35mutils.warn_names_duplicates\u001b[0m\u001b[1m(\u001b[0m\u001b[32m\"var\"\u001b[0m\u001b[1m)\u001b[0m                                   \u001b[2m               \u001b[0m\n",
       "\u001b[2;36m                    \u001b[0m                                                                                \u001b[2m               \u001b[0m\n"
      ]
     },
     "metadata": {},
     "output_type": "display_data"
    },
    {
     "data": {
      "text/html": [
       "<pre style=\"white-space:pre;overflow-x:auto;line-height:normal;font-family:Menlo,'DejaVu Sans Mono',consolas,'Courier New',monospace\"><span style=\"color: #7fbfbf; text-decoration-color: #7fbfbf\">[03/08/25 19:55:53] </span><span style=\"color: #808000; text-decoration-color: #808000\">WARNING </span> <span style=\"color: #800080; text-decoration-color: #800080\">/storage-a/users_data/jupyter/vapolonio/hexcore-project/hexcore-projec</span> <a href=\"file:///home/biosis-gpu/anaconda3/lib/python3.12/warnings.py\" target=\"_blank\"><span style=\"color: #7f7f7f; text-decoration-color: #7f7f7f\">warnings.py</span></a><span style=\"color: #7f7f7f; text-decoration-color: #7f7f7f\">:</span><a href=\"file:///home/biosis-gpu/anaconda3/lib/python3.12/warnings.py#112\" target=\"_blank\"><span style=\"color: #7f7f7f; text-decoration-color: #7f7f7f\">112</span></a>\n",
       "<span style=\"color: #7fbfbf; text-decoration-color: #7fbfbf\">                    </span>         <span style=\"color: #800080; text-decoration-color: #800080\">t-env/lib/python3.12/site-packages/anndata/_core/</span><span style=\"color: #ff00ff; text-decoration-color: #ff00ff\">anndata.py</span>:<span style=\"color: #008080; text-decoration-color: #008080; font-weight: bold\">1758</span>:      <span style=\"color: #7f7f7f; text-decoration-color: #7f7f7f\">               </span>\n",
       "<span style=\"color: #7fbfbf; text-decoration-color: #7fbfbf\">                    </span>         UserWarning: Variable names are not unique. To make them unique, call  <span style=\"color: #7f7f7f; text-decoration-color: #7f7f7f\">               </span>\n",
       "<span style=\"color: #7fbfbf; text-decoration-color: #7fbfbf\">                    </span>         `.var_names_make_unique`.                                              <span style=\"color: #7f7f7f; text-decoration-color: #7f7f7f\">               </span>\n",
       "<span style=\"color: #7fbfbf; text-decoration-color: #7fbfbf\">                    </span>           <span style=\"color: #800080; text-decoration-color: #800080; font-weight: bold\">utils.warn_names_duplicates</span><span style=\"font-weight: bold\">(</span><span style=\"color: #008000; text-decoration-color: #008000\">\"var\"</span><span style=\"font-weight: bold\">)</span>                                   <span style=\"color: #7f7f7f; text-decoration-color: #7f7f7f\">               </span>\n",
       "<span style=\"color: #7fbfbf; text-decoration-color: #7fbfbf\">                    </span>                                                                                <span style=\"color: #7f7f7f; text-decoration-color: #7f7f7f\">               </span>\n",
       "</pre>\n"
      ],
      "text/plain": [
       "\u001b[2;36m[03/08/25 19:55:53]\u001b[0m\u001b[2;36m \u001b[0m\u001b[33mWARNING \u001b[0m \u001b[35m/storage-a/users_data/jupyter/vapolonio/hexcore-project/hexcore-projec\u001b[0m \u001b]8;id=497149;file:///home/biosis-gpu/anaconda3/lib/python3.12/warnings.py\u001b\\\u001b[2mwarnings.py\u001b[0m\u001b]8;;\u001b\\\u001b[2m:\u001b[0m\u001b]8;id=251121;file:///home/biosis-gpu/anaconda3/lib/python3.12/warnings.py#112\u001b\\\u001b[2m112\u001b[0m\u001b]8;;\u001b\\\n",
       "\u001b[2;36m                    \u001b[0m         \u001b[35mt-env/lib/python3.12/site-packages/anndata/_core/\u001b[0m\u001b[95manndata.py\u001b[0m:\u001b[1;36m1758\u001b[0m:      \u001b[2m               \u001b[0m\n",
       "\u001b[2;36m                    \u001b[0m         UserWarning: Variable names are not unique. To make them unique, call  \u001b[2m               \u001b[0m\n",
       "\u001b[2;36m                    \u001b[0m         `.var_names_make_unique`.                                              \u001b[2m               \u001b[0m\n",
       "\u001b[2;36m                    \u001b[0m           \u001b[1;35mutils.warn_names_duplicates\u001b[0m\u001b[1m(\u001b[0m\u001b[32m\"var\"\u001b[0m\u001b[1m)\u001b[0m                                   \u001b[2m               \u001b[0m\n",
       "\u001b[2;36m                    \u001b[0m                                                                                \u001b[2m               \u001b[0m\n"
      ]
     },
     "metadata": {},
     "output_type": "display_data"
    }
   ],
   "source": [
    "#prepare visium data\n",
    "\n",
    "adata_vis = sc.datasets.visium_sge(sample_id=\"V1_Human_Lymph_Node\")\n",
    "adata_vis.obs['sample'] = list(adata_vis.uns['spatial'].keys())[0]\n",
    "\n",
    "adata_vis.var['SYMBOL'] = adata_vis.var_names\n",
    "adata_vis.var.set_index('gene_ids', drop=True, inplace=True)\n",
    "\n",
    "# find mitochondria-encoded (MT) genes\n",
    "adata_vis.var['MT_gene'] = [gene.startswith('MT-') for gene in adata_vis.var['SYMBOL']]\n",
    "\n",
    "# remove MT genes for spatial mapping (keeping their counts in the object)\n",
    "adata_vis.obsm['MT'] = adata_vis[:, adata_vis.var['MT_gene'].values].X.toarray()\n",
    "adata_vis = adata_vis[:, ~adata_vis.var['MT_gene'].values]"
   ]
  },
  {
   "cell_type": "code",
   "execution_count": 63,
   "id": "9f79a8c7-9636-471e-9b03-81d4e0cd22a5",
   "metadata": {},
   "outputs": [
    {
     "data": {
      "text/html": [
       "<pre style=\"white-space:pre;overflow-x:auto;line-height:normal;font-family:Menlo,'DejaVu Sans Mono',consolas,'Courier New',monospace\"></pre>\n"
      ],
      "text/plain": []
     },
     "metadata": {},
     "output_type": "display_data"
    },
    {
     "data": {
      "text/plain": [
       "\n",
       "\u001b[1;35marray\u001b[0m\u001b[1m(\u001b[0m\u001b[1m[\u001b[0m\u001b[32m'ENSG00000000419'\u001b[0m, \u001b[32m'ENSG00000000457'\u001b[0m, \u001b[32m'ENSG00000000938'\u001b[0m, \u001b[33m...\u001b[0m,\n",
       "       \u001b[32m'ENSG00000281103'\u001b[0m, \u001b[32m'ENSG00000282608'\u001b[0m, \u001b[32m'ENSG00000282851'\u001b[0m\u001b[1m]\u001b[0m,\n",
       "      \u001b[33mdtype\u001b[0m=\u001b[35mobject\u001b[0m\u001b[1m)\u001b[0m"
      ]
     },
     "execution_count": 63,
     "metadata": {},
     "output_type": "execute_result"
    }
   ],
   "source": [
    "np.intersect1d(adata_vis.var_names, inf_aver.index)"
   ]
  },
  {
   "cell_type": "code",
   "execution_count": 64,
   "id": "ffffd46a-4f2d-4166-9ce0-d5c293f64d4a",
   "metadata": {},
   "outputs": [],
   "source": [
    "# find shared genes and subset both anndata and reference signatures\n",
    "intersect = np.intersect1d(adata_vis.var_names, inf_aver.index)\n",
    "adata_vis = adata_vis[:, intersect].copy()\n",
    "inf_aver = inf_aver.loc[intersect, :].copy()"
   ]
  },
  {
   "cell_type": "code",
   "execution_count": 65,
   "id": "4ab01e94-f0e4-4a0a-bac5-3dbce13e7b1d",
   "metadata": {},
   "outputs": [
    {
     "data": {
      "text/html": [
       "<pre style=\"white-space:pre;overflow-x:auto;line-height:normal;font-family:Menlo,'DejaVu Sans Mono',consolas,'Courier New',monospace\"></pre>\n"
      ],
      "text/plain": []
     },
     "metadata": {},
     "output_type": "display_data"
    },
    {
     "data": {
      "text/html": [
       "<div>\n",
       "<style scoped>\n",
       "    .dataframe tbody tr th:only-of-type {\n",
       "        vertical-align: middle;\n",
       "    }\n",
       "\n",
       "    .dataframe tbody tr th {\n",
       "        vertical-align: top;\n",
       "    }\n",
       "\n",
       "    .dataframe thead th {\n",
       "        text-align: right;\n",
       "    }\n",
       "</style>\n",
       "<table border=\"1\" class=\"dataframe\">\n",
       "  <thead>\n",
       "    <tr style=\"text-align: right;\">\n",
       "      <th></th>\n",
       "      <th>B_Cycling</th>\n",
       "      <th>B_GC_DZ</th>\n",
       "      <th>B_GC_LZ</th>\n",
       "      <th>B_GC_prePB</th>\n",
       "      <th>B_IFN</th>\n",
       "      <th>B_activated</th>\n",
       "      <th>B_mem</th>\n",
       "      <th>B_naive</th>\n",
       "      <th>B_plasma</th>\n",
       "      <th>B_preGC</th>\n",
       "      <th>...</th>\n",
       "      <th>T_CD4+_TfH</th>\n",
       "      <th>T_CD4+_TfH_GC</th>\n",
       "      <th>T_CD4+_naive</th>\n",
       "      <th>T_CD8+_CD161+</th>\n",
       "      <th>T_CD8+_cytotoxic</th>\n",
       "      <th>T_CD8+_naive</th>\n",
       "      <th>T_TIM3+</th>\n",
       "      <th>T_TfR</th>\n",
       "      <th>T_Treg</th>\n",
       "      <th>VSMC</th>\n",
       "    </tr>\n",
       "    <tr>\n",
       "      <th>GeneID-2</th>\n",
       "      <th></th>\n",
       "      <th></th>\n",
       "      <th></th>\n",
       "      <th></th>\n",
       "      <th></th>\n",
       "      <th></th>\n",
       "      <th></th>\n",
       "      <th></th>\n",
       "      <th></th>\n",
       "      <th></th>\n",
       "      <th></th>\n",
       "      <th></th>\n",
       "      <th></th>\n",
       "      <th></th>\n",
       "      <th></th>\n",
       "      <th></th>\n",
       "      <th></th>\n",
       "      <th></th>\n",
       "      <th></th>\n",
       "      <th></th>\n",
       "      <th></th>\n",
       "    </tr>\n",
       "  </thead>\n",
       "  <tbody>\n",
       "    <tr>\n",
       "      <th>ENSG00000000419</th>\n",
       "      <td>0.680595</td>\n",
       "      <td>0.225834</td>\n",
       "      <td>0.222059</td>\n",
       "      <td>0.111049</td>\n",
       "      <td>0.228663</td>\n",
       "      <td>0.113318</td>\n",
       "      <td>0.157451</td>\n",
       "      <td>0.113736</td>\n",
       "      <td>0.364837</td>\n",
       "      <td>0.273586</td>\n",
       "      <td>...</td>\n",
       "      <td>0.139133</td>\n",
       "      <td>0.173750</td>\n",
       "      <td>0.139851</td>\n",
       "      <td>0.131074</td>\n",
       "      <td>0.119653</td>\n",
       "      <td>0.156032</td>\n",
       "      <td>0.419716</td>\n",
       "      <td>0.209521</td>\n",
       "      <td>0.139526</td>\n",
       "      <td>0.363798</td>\n",
       "    </tr>\n",
       "    <tr>\n",
       "      <th>ENSG00000000457</th>\n",
       "      <td>0.095710</td>\n",
       "      <td>0.042541</td>\n",
       "      <td>0.047159</td>\n",
       "      <td>0.029583</td>\n",
       "      <td>0.027289</td>\n",
       "      <td>0.035180</td>\n",
       "      <td>0.039225</td>\n",
       "      <td>0.041430</td>\n",
       "      <td>0.056336</td>\n",
       "      <td>0.033733</td>\n",
       "      <td>...</td>\n",
       "      <td>0.024357</td>\n",
       "      <td>0.033483</td>\n",
       "      <td>0.036753</td>\n",
       "      <td>0.045978</td>\n",
       "      <td>0.027793</td>\n",
       "      <td>0.049613</td>\n",
       "      <td>0.105447</td>\n",
       "      <td>0.044706</td>\n",
       "      <td>0.039189</td>\n",
       "      <td>0.064216</td>\n",
       "    </tr>\n",
       "    <tr>\n",
       "      <th>ENSG00000000938</th>\n",
       "      <td>0.020163</td>\n",
       "      <td>0.005927</td>\n",
       "      <td>0.013104</td>\n",
       "      <td>0.016794</td>\n",
       "      <td>0.095655</td>\n",
       "      <td>0.095637</td>\n",
       "      <td>0.100731</td>\n",
       "      <td>0.090042</td>\n",
       "      <td>0.006116</td>\n",
       "      <td>0.044610</td>\n",
       "      <td>...</td>\n",
       "      <td>0.000333</td>\n",
       "      <td>0.000602</td>\n",
       "      <td>0.000797</td>\n",
       "      <td>0.012508</td>\n",
       "      <td>0.091333</td>\n",
       "      <td>0.000819</td>\n",
       "      <td>0.016427</td>\n",
       "      <td>0.001266</td>\n",
       "      <td>0.001059</td>\n",
       "      <td>0.206652</td>\n",
       "    </tr>\n",
       "    <tr>\n",
       "      <th>ENSG00000000971</th>\n",
       "      <td>0.000664</td>\n",
       "      <td>0.000640</td>\n",
       "      <td>0.000516</td>\n",
       "      <td>0.021975</td>\n",
       "      <td>0.007457</td>\n",
       "      <td>0.000549</td>\n",
       "      <td>0.000138</td>\n",
       "      <td>0.000259</td>\n",
       "      <td>0.002892</td>\n",
       "      <td>0.003874</td>\n",
       "      <td>...</td>\n",
       "      <td>0.004954</td>\n",
       "      <td>0.000465</td>\n",
       "      <td>0.000434</td>\n",
       "      <td>0.021812</td>\n",
       "      <td>0.005699</td>\n",
       "      <td>0.000600</td>\n",
       "      <td>0.004104</td>\n",
       "      <td>0.001561</td>\n",
       "      <td>0.000748</td>\n",
       "      <td>1.130937</td>\n",
       "    </tr>\n",
       "    <tr>\n",
       "      <th>ENSG00000001036</th>\n",
       "      <td>0.122272</td>\n",
       "      <td>0.076028</td>\n",
       "      <td>0.063999</td>\n",
       "      <td>0.032270</td>\n",
       "      <td>0.063946</td>\n",
       "      <td>0.018944</td>\n",
       "      <td>0.055911</td>\n",
       "      <td>0.021128</td>\n",
       "      <td>0.325037</td>\n",
       "      <td>0.029322</td>\n",
       "      <td>...</td>\n",
       "      <td>0.029117</td>\n",
       "      <td>0.057052</td>\n",
       "      <td>0.012465</td>\n",
       "      <td>0.041732</td>\n",
       "      <td>0.023787</td>\n",
       "      <td>0.009179</td>\n",
       "      <td>0.146583</td>\n",
       "      <td>0.055862</td>\n",
       "      <td>0.049691</td>\n",
       "      <td>0.482235</td>\n",
       "    </tr>\n",
       "    <tr>\n",
       "      <th>...</th>\n",
       "      <td>...</td>\n",
       "      <td>...</td>\n",
       "      <td>...</td>\n",
       "      <td>...</td>\n",
       "      <td>...</td>\n",
       "      <td>...</td>\n",
       "      <td>...</td>\n",
       "      <td>...</td>\n",
       "      <td>...</td>\n",
       "      <td>...</td>\n",
       "      <td>...</td>\n",
       "      <td>...</td>\n",
       "      <td>...</td>\n",
       "      <td>...</td>\n",
       "      <td>...</td>\n",
       "      <td>...</td>\n",
       "      <td>...</td>\n",
       "      <td>...</td>\n",
       "      <td>...</td>\n",
       "      <td>...</td>\n",
       "      <td>...</td>\n",
       "    </tr>\n",
       "    <tr>\n",
       "      <th>ENSG00000280789</th>\n",
       "      <td>0.294225</td>\n",
       "      <td>0.088748</td>\n",
       "      <td>0.087329</td>\n",
       "      <td>0.129524</td>\n",
       "      <td>0.026389</td>\n",
       "      <td>0.036788</td>\n",
       "      <td>0.056316</td>\n",
       "      <td>0.050018</td>\n",
       "      <td>0.302446</td>\n",
       "      <td>0.071419</td>\n",
       "      <td>...</td>\n",
       "      <td>0.047453</td>\n",
       "      <td>0.087376</td>\n",
       "      <td>0.073427</td>\n",
       "      <td>0.056915</td>\n",
       "      <td>0.049412</td>\n",
       "      <td>0.084863</td>\n",
       "      <td>0.211162</td>\n",
       "      <td>0.076255</td>\n",
       "      <td>0.057672</td>\n",
       "      <td>0.178922</td>\n",
       "    </tr>\n",
       "    <tr>\n",
       "      <th>ENSG00000280987</th>\n",
       "      <td>0.353758</td>\n",
       "      <td>0.093274</td>\n",
       "      <td>0.093508</td>\n",
       "      <td>0.096117</td>\n",
       "      <td>0.011828</td>\n",
       "      <td>0.014193</td>\n",
       "      <td>0.026611</td>\n",
       "      <td>0.016420</td>\n",
       "      <td>0.023343</td>\n",
       "      <td>0.082898</td>\n",
       "      <td>...</td>\n",
       "      <td>0.005093</td>\n",
       "      <td>0.034051</td>\n",
       "      <td>0.012138</td>\n",
       "      <td>0.006403</td>\n",
       "      <td>0.004766</td>\n",
       "      <td>0.019663</td>\n",
       "      <td>0.057881</td>\n",
       "      <td>0.055837</td>\n",
       "      <td>0.006547</td>\n",
       "      <td>0.059392</td>\n",
       "    </tr>\n",
       "    <tr>\n",
       "      <th>ENSG00000281103</th>\n",
       "      <td>0.012923</td>\n",
       "      <td>0.002546</td>\n",
       "      <td>0.009120</td>\n",
       "      <td>0.049486</td>\n",
       "      <td>0.029375</td>\n",
       "      <td>0.002970</td>\n",
       "      <td>0.012192</td>\n",
       "      <td>0.001448</td>\n",
       "      <td>0.029933</td>\n",
       "      <td>0.005487</td>\n",
       "      <td>...</td>\n",
       "      <td>0.060792</td>\n",
       "      <td>0.208459</td>\n",
       "      <td>0.050520</td>\n",
       "      <td>0.189168</td>\n",
       "      <td>0.226103</td>\n",
       "      <td>0.082702</td>\n",
       "      <td>0.350554</td>\n",
       "      <td>0.182871</td>\n",
       "      <td>0.060829</td>\n",
       "      <td>0.035904</td>\n",
       "    </tr>\n",
       "    <tr>\n",
       "      <th>ENSG00000282608</th>\n",
       "      <td>0.000797</td>\n",
       "      <td>0.000628</td>\n",
       "      <td>0.000692</td>\n",
       "      <td>0.065308</td>\n",
       "      <td>0.010509</td>\n",
       "      <td>0.000349</td>\n",
       "      <td>0.000131</td>\n",
       "      <td>0.000225</td>\n",
       "      <td>0.001640</td>\n",
       "      <td>0.005124</td>\n",
       "      <td>...</td>\n",
       "      <td>0.000324</td>\n",
       "      <td>0.000360</td>\n",
       "      <td>0.000249</td>\n",
       "      <td>0.000621</td>\n",
       "      <td>0.000320</td>\n",
       "      <td>0.000652</td>\n",
       "      <td>0.005707</td>\n",
       "      <td>0.001658</td>\n",
       "      <td>0.000425</td>\n",
       "      <td>0.213957</td>\n",
       "    </tr>\n",
       "    <tr>\n",
       "      <th>ENSG00000282851</th>\n",
       "      <td>0.137802</td>\n",
       "      <td>0.117954</td>\n",
       "      <td>0.108945</td>\n",
       "      <td>0.417497</td>\n",
       "      <td>0.196525</td>\n",
       "      <td>0.040513</td>\n",
       "      <td>0.050246</td>\n",
       "      <td>0.041153</td>\n",
       "      <td>0.146504</td>\n",
       "      <td>0.067159</td>\n",
       "      <td>...</td>\n",
       "      <td>0.036525</td>\n",
       "      <td>0.051909</td>\n",
       "      <td>0.032650</td>\n",
       "      <td>0.043607</td>\n",
       "      <td>0.056305</td>\n",
       "      <td>0.044263</td>\n",
       "      <td>0.179677</td>\n",
       "      <td>0.072279</td>\n",
       "      <td>0.057405</td>\n",
       "      <td>0.056855</td>\n",
       "    </tr>\n",
       "  </tbody>\n",
       "</table>\n",
       "<p>10217 rows × 34 columns</p>\n",
       "</div>"
      ],
      "text/plain": [
       "\n",
       "                 B_Cycling   B_GC_DZ   B_GC_LZ  B_GC_prePB     B_IFN  \\\n",
       "GeneID-\u001b[1;36m2\u001b[0m                                                               \n",
       "ENSG00000000419   \u001b[1;36m0.680595\u001b[0m  \u001b[1;36m0.225834\u001b[0m  \u001b[1;36m0.222059\u001b[0m    \u001b[1;36m0.111049\u001b[0m  \u001b[1;36m0.228663\u001b[0m   \n",
       "ENSG00000000457   \u001b[1;36m0.095710\u001b[0m  \u001b[1;36m0.042541\u001b[0m  \u001b[1;36m0.047159\u001b[0m    \u001b[1;36m0.029583\u001b[0m  \u001b[1;36m0.027289\u001b[0m   \n",
       "ENSG00000000938   \u001b[1;36m0.020163\u001b[0m  \u001b[1;36m0.005927\u001b[0m  \u001b[1;36m0.013104\u001b[0m    \u001b[1;36m0.016794\u001b[0m  \u001b[1;36m0.095655\u001b[0m   \n",
       "ENSG00000000971   \u001b[1;36m0.000664\u001b[0m  \u001b[1;36m0.000640\u001b[0m  \u001b[1;36m0.000516\u001b[0m    \u001b[1;36m0.021975\u001b[0m  \u001b[1;36m0.007457\u001b[0m   \n",
       "ENSG00000001036   \u001b[1;36m0.122272\u001b[0m  \u001b[1;36m0.076028\u001b[0m  \u001b[1;36m0.063999\u001b[0m    \u001b[1;36m0.032270\u001b[0m  \u001b[1;36m0.063946\u001b[0m   \n",
       "\u001b[33m...\u001b[0m                    \u001b[33m...\u001b[0m       \u001b[33m...\u001b[0m       \u001b[33m...\u001b[0m         \u001b[33m...\u001b[0m       \u001b[33m...\u001b[0m   \n",
       "ENSG00000280789   \u001b[1;36m0.294225\u001b[0m  \u001b[1;36m0.088748\u001b[0m  \u001b[1;36m0.087329\u001b[0m    \u001b[1;36m0.129524\u001b[0m  \u001b[1;36m0.026389\u001b[0m   \n",
       "ENSG00000280987   \u001b[1;36m0.353758\u001b[0m  \u001b[1;36m0.093274\u001b[0m  \u001b[1;36m0.093508\u001b[0m    \u001b[1;36m0.096117\u001b[0m  \u001b[1;36m0.011828\u001b[0m   \n",
       "ENSG00000281103   \u001b[1;36m0.012923\u001b[0m  \u001b[1;36m0.002546\u001b[0m  \u001b[1;36m0.009120\u001b[0m    \u001b[1;36m0.049486\u001b[0m  \u001b[1;36m0.029375\u001b[0m   \n",
       "ENSG00000282608   \u001b[1;36m0.000797\u001b[0m  \u001b[1;36m0.000628\u001b[0m  \u001b[1;36m0.000692\u001b[0m    \u001b[1;36m0.065308\u001b[0m  \u001b[1;36m0.010509\u001b[0m   \n",
       "ENSG00000282851   \u001b[1;36m0.137802\u001b[0m  \u001b[1;36m0.117954\u001b[0m  \u001b[1;36m0.108945\u001b[0m    \u001b[1;36m0.417497\u001b[0m  \u001b[1;36m0.196525\u001b[0m   \n",
       "\n",
       "                 B_activated     B_mem   B_naive  B_plasma   B_preGC  \u001b[33m...\u001b[0m  \\\n",
       "GeneID-\u001b[1;36m2\u001b[0m                                                              \u001b[33m...\u001b[0m   \n",
       "ENSG00000000419     \u001b[1;36m0.113318\u001b[0m  \u001b[1;36m0.157451\u001b[0m  \u001b[1;36m0.113736\u001b[0m  \u001b[1;36m0.364837\u001b[0m  \u001b[1;36m0.273586\u001b[0m  \u001b[33m...\u001b[0m   \n",
       "ENSG00000000457     \u001b[1;36m0.035180\u001b[0m  \u001b[1;36m0.039225\u001b[0m  \u001b[1;36m0.041430\u001b[0m  \u001b[1;36m0.056336\u001b[0m  \u001b[1;36m0.033733\u001b[0m  \u001b[33m...\u001b[0m   \n",
       "ENSG00000000938     \u001b[1;36m0.095637\u001b[0m  \u001b[1;36m0.100731\u001b[0m  \u001b[1;36m0.090042\u001b[0m  \u001b[1;36m0.006116\u001b[0m  \u001b[1;36m0.044610\u001b[0m  \u001b[33m...\u001b[0m   \n",
       "ENSG00000000971     \u001b[1;36m0.000549\u001b[0m  \u001b[1;36m0.000138\u001b[0m  \u001b[1;36m0.000259\u001b[0m  \u001b[1;36m0.002892\u001b[0m  \u001b[1;36m0.003874\u001b[0m  \u001b[33m...\u001b[0m   \n",
       "ENSG00000001036     \u001b[1;36m0.018944\u001b[0m  \u001b[1;36m0.055911\u001b[0m  \u001b[1;36m0.021128\u001b[0m  \u001b[1;36m0.325037\u001b[0m  \u001b[1;36m0.029322\u001b[0m  \u001b[33m...\u001b[0m   \n",
       "\u001b[33m...\u001b[0m                      \u001b[33m...\u001b[0m       \u001b[33m...\u001b[0m       \u001b[33m...\u001b[0m       \u001b[33m...\u001b[0m       \u001b[33m...\u001b[0m  \u001b[33m...\u001b[0m   \n",
       "ENSG00000280789     \u001b[1;36m0.036788\u001b[0m  \u001b[1;36m0.056316\u001b[0m  \u001b[1;36m0.050018\u001b[0m  \u001b[1;36m0.302446\u001b[0m  \u001b[1;36m0.071419\u001b[0m  \u001b[33m...\u001b[0m   \n",
       "ENSG00000280987     \u001b[1;36m0.014193\u001b[0m  \u001b[1;36m0.026611\u001b[0m  \u001b[1;36m0.016420\u001b[0m  \u001b[1;36m0.023343\u001b[0m  \u001b[1;36m0.082898\u001b[0m  \u001b[33m...\u001b[0m   \n",
       "ENSG00000281103     \u001b[1;36m0.002970\u001b[0m  \u001b[1;36m0.012192\u001b[0m  \u001b[1;36m0.001448\u001b[0m  \u001b[1;36m0.029933\u001b[0m  \u001b[1;36m0.005487\u001b[0m  \u001b[33m...\u001b[0m   \n",
       "ENSG00000282608     \u001b[1;36m0.000349\u001b[0m  \u001b[1;36m0.000131\u001b[0m  \u001b[1;36m0.000225\u001b[0m  \u001b[1;36m0.001640\u001b[0m  \u001b[1;36m0.005124\u001b[0m  \u001b[33m...\u001b[0m   \n",
       "ENSG00000282851     \u001b[1;36m0.040513\u001b[0m  \u001b[1;36m0.050246\u001b[0m  \u001b[1;36m0.041153\u001b[0m  \u001b[1;36m0.146504\u001b[0m  \u001b[1;36m0.067159\u001b[0m  \u001b[33m...\u001b[0m   \n",
       "\n",
       "                 T_CD4+_TfH  T_CD4+_TfH_GC  T_CD4+_naive  T_CD8+_CD161+  \\\n",
       "GeneID-\u001b[1;36m2\u001b[0m                                                                  \n",
       "ENSG00000000419    \u001b[1;36m0.139133\u001b[0m       \u001b[1;36m0.173750\u001b[0m      \u001b[1;36m0.139851\u001b[0m       \u001b[1;36m0.131074\u001b[0m   \n",
       "ENSG00000000457    \u001b[1;36m0.024357\u001b[0m       \u001b[1;36m0.033483\u001b[0m      \u001b[1;36m0.036753\u001b[0m       \u001b[1;36m0.045978\u001b[0m   \n",
       "ENSG00000000938    \u001b[1;36m0.000333\u001b[0m       \u001b[1;36m0.000602\u001b[0m      \u001b[1;36m0.000797\u001b[0m       \u001b[1;36m0.012508\u001b[0m   \n",
       "ENSG00000000971    \u001b[1;36m0.004954\u001b[0m       \u001b[1;36m0.000465\u001b[0m      \u001b[1;36m0.000434\u001b[0m       \u001b[1;36m0.021812\u001b[0m   \n",
       "ENSG00000001036    \u001b[1;36m0.029117\u001b[0m       \u001b[1;36m0.057052\u001b[0m      \u001b[1;36m0.012465\u001b[0m       \u001b[1;36m0.041732\u001b[0m   \n",
       "\u001b[33m...\u001b[0m                     \u001b[33m...\u001b[0m            \u001b[33m...\u001b[0m           \u001b[33m...\u001b[0m            \u001b[33m...\u001b[0m   \n",
       "ENSG00000280789    \u001b[1;36m0.047453\u001b[0m       \u001b[1;36m0.087376\u001b[0m      \u001b[1;36m0.073427\u001b[0m       \u001b[1;36m0.056915\u001b[0m   \n",
       "ENSG00000280987    \u001b[1;36m0.005093\u001b[0m       \u001b[1;36m0.034051\u001b[0m      \u001b[1;36m0.012138\u001b[0m       \u001b[1;36m0.006403\u001b[0m   \n",
       "ENSG00000281103    \u001b[1;36m0.060792\u001b[0m       \u001b[1;36m0.208459\u001b[0m      \u001b[1;36m0.050520\u001b[0m       \u001b[1;36m0.189168\u001b[0m   \n",
       "ENSG00000282608    \u001b[1;36m0.000324\u001b[0m       \u001b[1;36m0.000360\u001b[0m      \u001b[1;36m0.000249\u001b[0m       \u001b[1;36m0.000621\u001b[0m   \n",
       "ENSG00000282851    \u001b[1;36m0.036525\u001b[0m       \u001b[1;36m0.051909\u001b[0m      \u001b[1;36m0.032650\u001b[0m       \u001b[1;36m0.043607\u001b[0m   \n",
       "\n",
       "                 T_CD8+_cytotoxic  T_CD8+_naive   T_TIM3+     T_TfR    T_Treg  \\\n",
       "GeneID-\u001b[1;36m2\u001b[0m                                                                        \n",
       "ENSG00000000419          \u001b[1;36m0.119653\u001b[0m      \u001b[1;36m0.156032\u001b[0m  \u001b[1;36m0.419716\u001b[0m  \u001b[1;36m0.209521\u001b[0m  \u001b[1;36m0.139526\u001b[0m   \n",
       "ENSG00000000457          \u001b[1;36m0.027793\u001b[0m      \u001b[1;36m0.049613\u001b[0m  \u001b[1;36m0.105447\u001b[0m  \u001b[1;36m0.044706\u001b[0m  \u001b[1;36m0.039189\u001b[0m   \n",
       "ENSG00000000938          \u001b[1;36m0.091333\u001b[0m      \u001b[1;36m0.000819\u001b[0m  \u001b[1;36m0.016427\u001b[0m  \u001b[1;36m0.001266\u001b[0m  \u001b[1;36m0.001059\u001b[0m   \n",
       "ENSG00000000971          \u001b[1;36m0.005699\u001b[0m      \u001b[1;36m0.000600\u001b[0m  \u001b[1;36m0.004104\u001b[0m  \u001b[1;36m0.001561\u001b[0m  \u001b[1;36m0.000748\u001b[0m   \n",
       "ENSG00000001036          \u001b[1;36m0.023787\u001b[0m      \u001b[1;36m0.009179\u001b[0m  \u001b[1;36m0.146583\u001b[0m  \u001b[1;36m0.055862\u001b[0m  \u001b[1;36m0.049691\u001b[0m   \n",
       "\u001b[33m...\u001b[0m                           \u001b[33m...\u001b[0m           \u001b[33m...\u001b[0m       \u001b[33m...\u001b[0m       \u001b[33m...\u001b[0m       \u001b[33m...\u001b[0m   \n",
       "ENSG00000280789          \u001b[1;36m0.049412\u001b[0m      \u001b[1;36m0.084863\u001b[0m  \u001b[1;36m0.211162\u001b[0m  \u001b[1;36m0.076255\u001b[0m  \u001b[1;36m0.057672\u001b[0m   \n",
       "ENSG00000280987          \u001b[1;36m0.004766\u001b[0m      \u001b[1;36m0.019663\u001b[0m  \u001b[1;36m0.057881\u001b[0m  \u001b[1;36m0.055837\u001b[0m  \u001b[1;36m0.006547\u001b[0m   \n",
       "ENSG00000281103          \u001b[1;36m0.226103\u001b[0m      \u001b[1;36m0.082702\u001b[0m  \u001b[1;36m0.350554\u001b[0m  \u001b[1;36m0.182871\u001b[0m  \u001b[1;36m0.060829\u001b[0m   \n",
       "ENSG00000282608          \u001b[1;36m0.000320\u001b[0m      \u001b[1;36m0.000652\u001b[0m  \u001b[1;36m0.005707\u001b[0m  \u001b[1;36m0.001658\u001b[0m  \u001b[1;36m0.000425\u001b[0m   \n",
       "ENSG00000282851          \u001b[1;36m0.056305\u001b[0m      \u001b[1;36m0.044263\u001b[0m  \u001b[1;36m0.179677\u001b[0m  \u001b[1;36m0.072279\u001b[0m  \u001b[1;36m0.057405\u001b[0m   \n",
       "\n",
       "                     VSMC  \n",
       "GeneID-\u001b[1;36m2\u001b[0m                   \n",
       "ENSG00000000419  \u001b[1;36m0.363798\u001b[0m  \n",
       "ENSG00000000457  \u001b[1;36m0.064216\u001b[0m  \n",
       "ENSG00000000938  \u001b[1;36m0.206652\u001b[0m  \n",
       "ENSG00000000971  \u001b[1;36m1.130937\u001b[0m  \n",
       "ENSG00000001036  \u001b[1;36m0.482235\u001b[0m  \n",
       "\u001b[33m...\u001b[0m                   \u001b[33m...\u001b[0m  \n",
       "ENSG00000280789  \u001b[1;36m0.178922\u001b[0m  \n",
       "ENSG00000280987  \u001b[1;36m0.059392\u001b[0m  \n",
       "ENSG00000281103  \u001b[1;36m0.035904\u001b[0m  \n",
       "ENSG00000282608  \u001b[1;36m0.213957\u001b[0m  \n",
       "ENSG00000282851  \u001b[1;36m0.056855\u001b[0m  \n",
       "\n",
       "\u001b[1m[\u001b[0m\u001b[1;36m10217\u001b[0m rows x \u001b[1;36m34\u001b[0m columns\u001b[1m]\u001b[0m"
      ]
     },
     "execution_count": 65,
     "metadata": {},
     "output_type": "execute_result"
    }
   ],
   "source": [
    "inf_aver"
   ]
  },
  {
   "cell_type": "code",
   "execution_count": 66,
   "id": "2cbce133-f1fb-420d-a43d-6184c00cadce",
   "metadata": {},
   "outputs": [],
   "source": [
    "# prepare anndata for cell2location model\n",
    "cell2location.models.Cell2location.setup_anndata(adata=adata_vis, batch_key=\"sample\")"
   ]
  },
  {
   "cell_type": "code",
   "execution_count": 67,
   "id": "988ec22a-b8ac-4ade-80be-f922a83266a5",
   "metadata": {},
   "outputs": [],
   "source": [
    "# create and train the model\n",
    "model_cell2location = cell2location.models.Cell2location(\n",
    "    adata_vis, cell_state_df=inf_aver,\n",
    "    # the expected average cell abundance: tissue-dependent\n",
    "    # hyper-prior which can be estimated from paired histology:\n",
    "    N_cells_per_location=30,\n",
    "    # hyperparameter controlling normalisation of\n",
    "    # within-experiment variation in RNA detection:\n",
    "    detection_alpha=20\n",
    ")"
   ]
  },
  {
   "cell_type": "code",
   "execution_count": 2,
   "id": "aa5e87f5-78e8-4033-a34c-a62aa177400c",
   "metadata": {},
   "outputs": [
    {
     "name": "stdout",
     "output_type": "stream",
     "text": [
      "Help on method setup_anndata in module cell2location.models._cell2location_model:\n",
      "\n",
      "setup_anndata(\n",
      "    adata: anndata._core.anndata.AnnData,\n",
      "    layer: Optional[str] = None,\n",
      "    batch_key: Optional[str] = None,\n",
      "    labels_key: Optional[str] = None,\n",
      "    categorical_covariate_keys: Optional[List[str]] = None,\n",
      "    continuous_covariate_keys: Optional[List[str]] = None,\n",
      "    **kwargs\n",
      ") class method of cell2location.models._cell2location_model.Cell2location\n",
      "    Sets up the :class:`~anndata.AnnData` object for this model.\n",
      "\n",
      "    A mapping will be created between data fields used by this model to their respective locations in\n",
      "    adata. None of the data in adata are modified. Only adds fields to adata.\n",
      "\n",
      "    Parameters\n",
      "    ----------\n",
      "    layer\n",
      "        if not `None`, uses this as the key in `adata.layers` for raw count data.\n",
      "    batch_key\n",
      "        key in `adata.obs` for batch information. Categories will automatically be converted into\n",
      "        integer categories and saved to `adata.obs['_scvi_batch']`. If `None`, assigns the same batch\n",
      "        to all the data.\n",
      "    labels_key\n",
      "        key in `adata.obs` for label information. Categories will automatically be converted into\n",
      "        integer categories and saved to `adata.obs['_scvi_labels']`. If `None`, assigns the same label\n",
      "        to all the data.\n",
      "    categorical_covariate_keys\n",
      "        keys in `adata.obs` that correspond to categorical data.\n",
      "        These covariates can be added in addition to the batch covariate and are also treated as\n",
      "        nuisance factors (i.e., the model tries to minimize their effects on the latent space). Thus,\n",
      "        these should not be used for biologically-relevant factors that you do _not_ want to correct\n",
      "        for.\n",
      "    continuous_covariate_keys\n",
      "        keys in `adata.obs` that correspond to continuous data.\n",
      "        These covariates can be added in addition to the batch covariate and are also treated as\n",
      "        nuisance factors (i.e., the model tries to minimize their effects on the latent space). Thus,\n",
      "        these should not be used for biologically-relevant factors that you do _not_ want to correct\n",
      "        for.\n",
      "\n"
     ]
    }
   ],
   "source": [
    "import cell2location\n",
    "help(cell2location.models.Cell2location.setup_anndata)"
   ]
  },
  {
   "cell_type": "code",
   "execution_count": 68,
   "id": "d61deabc-c881-4d22-bcb9-e6824d9ad199",
   "metadata": {},
   "outputs": [
    {
     "data": {
      "text/html": [
       "<pre style=\"white-space:pre;overflow-x:auto;line-height:normal;font-family:Menlo,'DejaVu Sans Mono',consolas,'Courier New',monospace\">Anndata setup with scvi-tools version <span style=\"color: #008080; text-decoration-color: #008080; font-weight: bold\">1.2</span>.<span style=\"color: #008080; text-decoration-color: #008080; font-weight: bold\">2.</span>post2.\n",
       "</pre>\n"
      ],
      "text/plain": [
       "Anndata setup with scvi-tools version \u001b[1;36m1.2\u001b[0m.\u001b[1;36m2.\u001b[0mpost2.\n"
      ]
     },
     "metadata": {},
     "output_type": "display_data"
    },
    {
     "data": {
      "text/html": [
       "<pre style=\"white-space:pre;overflow-x:auto;line-height:normal;font-family:Menlo,'DejaVu Sans Mono',consolas,'Courier New',monospace\">\n",
       "</pre>\n"
      ],
      "text/plain": [
       "\n"
      ]
     },
     "metadata": {},
     "output_type": "display_data"
    },
    {
     "data": {
      "text/html": [
       "<pre style=\"white-space:pre;overflow-x:auto;line-height:normal;font-family:Menlo,'DejaVu Sans Mono',consolas,'Courier New',monospace\">Setup via `Cell2location.setup_anndata` with arguments:\n",
       "</pre>\n"
      ],
      "text/plain": [
       "Setup via `Cell2location.setup_anndata` with arguments:\n"
      ]
     },
     "metadata": {},
     "output_type": "display_data"
    },
    {
     "data": {
      "text/html": [
       "<pre style=\"white-space:pre;overflow-x:auto;line-height:normal;font-family:Menlo,'DejaVu Sans Mono',consolas,'Courier New',monospace\"><span style=\"font-weight: bold\">{</span>\n",
       "<span style=\"color: #7fbf7f; text-decoration-color: #7fbf7f\">│   </span><span style=\"color: #008000; text-decoration-color: #008000\">'layer'</span>: <span style=\"color: #800080; text-decoration-color: #800080; font-style: italic\">None</span>,\n",
       "<span style=\"color: #7fbf7f; text-decoration-color: #7fbf7f\">│   </span><span style=\"color: #008000; text-decoration-color: #008000\">'batch_key'</span>: <span style=\"color: #008000; text-decoration-color: #008000\">'sample'</span>,\n",
       "<span style=\"color: #7fbf7f; text-decoration-color: #7fbf7f\">│   </span><span style=\"color: #008000; text-decoration-color: #008000\">'labels_key'</span>: <span style=\"color: #800080; text-decoration-color: #800080; font-style: italic\">None</span>,\n",
       "<span style=\"color: #7fbf7f; text-decoration-color: #7fbf7f\">│   </span><span style=\"color: #008000; text-decoration-color: #008000\">'categorical_covariate_keys'</span>: <span style=\"color: #800080; text-decoration-color: #800080; font-style: italic\">None</span>,\n",
       "<span style=\"color: #7fbf7f; text-decoration-color: #7fbf7f\">│   </span><span style=\"color: #008000; text-decoration-color: #008000\">'continuous_covariate_keys'</span>: <span style=\"color: #800080; text-decoration-color: #800080; font-style: italic\">None</span>\n",
       "<span style=\"font-weight: bold\">}</span>\n",
       "</pre>\n"
      ],
      "text/plain": [
       "\u001b[1m{\u001b[0m\n",
       "\u001b[2;32m│   \u001b[0m\u001b[32m'layer'\u001b[0m: \u001b[3;35mNone\u001b[0m,\n",
       "\u001b[2;32m│   \u001b[0m\u001b[32m'batch_key'\u001b[0m: \u001b[32m'sample'\u001b[0m,\n",
       "\u001b[2;32m│   \u001b[0m\u001b[32m'labels_key'\u001b[0m: \u001b[3;35mNone\u001b[0m,\n",
       "\u001b[2;32m│   \u001b[0m\u001b[32m'categorical_covariate_keys'\u001b[0m: \u001b[3;35mNone\u001b[0m,\n",
       "\u001b[2;32m│   \u001b[0m\u001b[32m'continuous_covariate_keys'\u001b[0m: \u001b[3;35mNone\u001b[0m\n",
       "\u001b[1m}\u001b[0m\n"
      ]
     },
     "metadata": {},
     "output_type": "display_data"
    },
    {
     "data": {
      "text/html": [
       "<pre style=\"white-space:pre;overflow-x:auto;line-height:normal;font-family:Menlo,'DejaVu Sans Mono',consolas,'Courier New',monospace\">\n",
       "</pre>\n"
      ],
      "text/plain": [
       "\n"
      ]
     },
     "metadata": {},
     "output_type": "display_data"
    },
    {
     "data": {
      "text/html": [
       "<pre style=\"white-space:pre;overflow-x:auto;line-height:normal;font-family:Menlo,'DejaVu Sans Mono',consolas,'Courier New',monospace\"><span style=\"font-style: italic\">         Summary Statistics         </span>\n",
       "┏━━━━━━━━━━━━━━━━━━━━━━━━━━┳━━━━━━━┓\n",
       "┃<span style=\"font-weight: bold\">     Summary Stat Key     </span>┃<span style=\"font-weight: bold\"> Value </span>┃\n",
       "┡━━━━━━━━━━━━━━━━━━━━━━━━━━╇━━━━━━━┩\n",
       "│<span style=\"color: #0087ff; text-decoration-color: #0087ff\">         n_batch          </span>│<span style=\"color: #af00d7; text-decoration-color: #af00d7\">   1   </span>│\n",
       "│<span style=\"color: #0087ff; text-decoration-color: #0087ff\">         n_cells          </span>│<span style=\"color: #af00d7; text-decoration-color: #af00d7\"> 4035  </span>│\n",
       "│<span style=\"color: #0087ff; text-decoration-color: #0087ff\"> n_extra_categorical_covs </span>│<span style=\"color: #af00d7; text-decoration-color: #af00d7\">   0   </span>│\n",
       "│<span style=\"color: #0087ff; text-decoration-color: #0087ff\"> n_extra_continuous_covs  </span>│<span style=\"color: #af00d7; text-decoration-color: #af00d7\">   0   </span>│\n",
       "│<span style=\"color: #0087ff; text-decoration-color: #0087ff\">         n_labels         </span>│<span style=\"color: #af00d7; text-decoration-color: #af00d7\">   1   </span>│\n",
       "│<span style=\"color: #0087ff; text-decoration-color: #0087ff\">          n_vars          </span>│<span style=\"color: #af00d7; text-decoration-color: #af00d7\">   0   </span>│\n",
       "└──────────────────────────┴───────┘\n",
       "</pre>\n"
      ],
      "text/plain": [
       "\u001b[3m         Summary Statistics         \u001b[0m\n",
       "┏━━━━━━━━━━━━━━━━━━━━━━━━━━┳━━━━━━━┓\n",
       "┃\u001b[1m \u001b[0m\u001b[1m    Summary Stat Key    \u001b[0m\u001b[1m \u001b[0m┃\u001b[1m \u001b[0m\u001b[1mValue\u001b[0m\u001b[1m \u001b[0m┃\n",
       "┡━━━━━━━━━━━━━━━━━━━━━━━━━━╇━━━━━━━┩\n",
       "│\u001b[38;5;33m \u001b[0m\u001b[38;5;33m        n_batch         \u001b[0m\u001b[38;5;33m \u001b[0m│\u001b[38;5;128m \u001b[0m\u001b[38;5;128m  1  \u001b[0m\u001b[38;5;128m \u001b[0m│\n",
       "│\u001b[38;5;33m \u001b[0m\u001b[38;5;33m        n_cells         \u001b[0m\u001b[38;5;33m \u001b[0m│\u001b[38;5;128m \u001b[0m\u001b[38;5;128m4035 \u001b[0m\u001b[38;5;128m \u001b[0m│\n",
       "│\u001b[38;5;33m \u001b[0m\u001b[38;5;33mn_extra_categorical_covs\u001b[0m\u001b[38;5;33m \u001b[0m│\u001b[38;5;128m \u001b[0m\u001b[38;5;128m  0  \u001b[0m\u001b[38;5;128m \u001b[0m│\n",
       "│\u001b[38;5;33m \u001b[0m\u001b[38;5;33mn_extra_continuous_covs \u001b[0m\u001b[38;5;33m \u001b[0m│\u001b[38;5;128m \u001b[0m\u001b[38;5;128m  0  \u001b[0m\u001b[38;5;128m \u001b[0m│\n",
       "│\u001b[38;5;33m \u001b[0m\u001b[38;5;33m        n_labels        \u001b[0m\u001b[38;5;33m \u001b[0m│\u001b[38;5;128m \u001b[0m\u001b[38;5;128m  1  \u001b[0m\u001b[38;5;128m \u001b[0m│\n",
       "│\u001b[38;5;33m \u001b[0m\u001b[38;5;33m         n_vars         \u001b[0m\u001b[38;5;33m \u001b[0m│\u001b[38;5;128m \u001b[0m\u001b[38;5;128m  0  \u001b[0m\u001b[38;5;128m \u001b[0m│\n",
       "└──────────────────────────┴───────┘\n"
      ]
     },
     "metadata": {},
     "output_type": "display_data"
    },
    {
     "data": {
      "text/html": [
       "<pre style=\"white-space:pre;overflow-x:auto;line-height:normal;font-family:Menlo,'DejaVu Sans Mono',consolas,'Courier New',monospace\"><span style=\"font-style: italic\">               Data Registry                </span>\n",
       "┏━━━━━━━━━━━━━━┳━━━━━━━━━━━━━━━━━━━━━━━━━━━┓\n",
       "┃<span style=\"font-weight: bold\"> Registry Key </span>┃<span style=\"font-weight: bold\">    scvi-tools Location    </span>┃\n",
       "┡━━━━━━━━━━━━━━╇━━━━━━━━━━━━━━━━━━━━━━━━━━━┩\n",
       "│<span style=\"color: #0087ff; text-decoration-color: #0087ff\">      X       </span>│<span style=\"color: #af00d7; text-decoration-color: #af00d7\">          adata.X          </span>│\n",
       "│<span style=\"color: #0087ff; text-decoration-color: #0087ff\">    batch     </span>│<span style=\"color: #af00d7; text-decoration-color: #af00d7\"> adata.obs['_scvi_batch']  </span>│\n",
       "│<span style=\"color: #0087ff; text-decoration-color: #0087ff\">    ind_x     </span>│<span style=\"color: #af00d7; text-decoration-color: #af00d7\">   adata.obs['_indices']   </span>│\n",
       "│<span style=\"color: #0087ff; text-decoration-color: #0087ff\">    labels    </span>│<span style=\"color: #af00d7; text-decoration-color: #af00d7\"> adata.obs['_scvi_labels'] </span>│\n",
       "└──────────────┴───────────────────────────┘\n",
       "</pre>\n"
      ],
      "text/plain": [
       "\u001b[3m               Data Registry                \u001b[0m\n",
       "┏━━━━━━━━━━━━━━┳━━━━━━━━━━━━━━━━━━━━━━━━━━━┓\n",
       "┃\u001b[1m \u001b[0m\u001b[1mRegistry Key\u001b[0m\u001b[1m \u001b[0m┃\u001b[1m \u001b[0m\u001b[1m   scvi-tools Location   \u001b[0m\u001b[1m \u001b[0m┃\n",
       "┡━━━━━━━━━━━━━━╇━━━━━━━━━━━━━━━━━━━━━━━━━━━┩\n",
       "│\u001b[38;5;33m \u001b[0m\u001b[38;5;33m     X      \u001b[0m\u001b[38;5;33m \u001b[0m│\u001b[38;5;128m \u001b[0m\u001b[38;5;128m         adata.X         \u001b[0m\u001b[38;5;128m \u001b[0m│\n",
       "│\u001b[38;5;33m \u001b[0m\u001b[38;5;33m   batch    \u001b[0m\u001b[38;5;33m \u001b[0m│\u001b[38;5;128m \u001b[0m\u001b[38;5;128madata.obs['_scvi_batch'] \u001b[0m\u001b[38;5;128m \u001b[0m│\n",
       "│\u001b[38;5;33m \u001b[0m\u001b[38;5;33m   ind_x    \u001b[0m\u001b[38;5;33m \u001b[0m│\u001b[38;5;128m \u001b[0m\u001b[38;5;128m  adata.obs['_indices']  \u001b[0m\u001b[38;5;128m \u001b[0m│\n",
       "│\u001b[38;5;33m \u001b[0m\u001b[38;5;33m   labels   \u001b[0m\u001b[38;5;33m \u001b[0m│\u001b[38;5;128m \u001b[0m\u001b[38;5;128madata.obs['_scvi_labels']\u001b[0m\u001b[38;5;128m \u001b[0m│\n",
       "└──────────────┴───────────────────────────┘\n"
      ]
     },
     "metadata": {},
     "output_type": "display_data"
    },
    {
     "data": {
      "text/html": [
       "<pre style=\"white-space:pre;overflow-x:auto;line-height:normal;font-family:Menlo,'DejaVu Sans Mono',consolas,'Courier New',monospace\"><span style=\"font-style: italic\">                       batch State Registry                        </span>\n",
       "┏━━━━━━━━━━━━━━━━━━━━━┳━━━━━━━━━━━━━━━━━━━━━┳━━━━━━━━━━━━━━━━━━━━━┓\n",
       "┃<span style=\"font-weight: bold\">   Source Location   </span>┃<span style=\"font-weight: bold\">     Categories      </span>┃<span style=\"font-weight: bold\"> scvi-tools Encoding </span>┃\n",
       "┡━━━━━━━━━━━━━━━━━━━━━╇━━━━━━━━━━━━━━━━━━━━━╇━━━━━━━━━━━━━━━━━━━━━┩\n",
       "│<span style=\"color: #0087ff; text-decoration-color: #0087ff\"> adata.obs['sample'] </span>│<span style=\"color: #008000; text-decoration-color: #008000\"> V1_Human_Lymph_Node </span>│<span style=\"color: #af00d7; text-decoration-color: #af00d7\">          0          </span>│\n",
       "└─────────────────────┴─────────────────────┴─────────────────────┘\n",
       "</pre>\n"
      ],
      "text/plain": [
       "\u001b[3m                       batch State Registry                        \u001b[0m\n",
       "┏━━━━━━━━━━━━━━━━━━━━━┳━━━━━━━━━━━━━━━━━━━━━┳━━━━━━━━━━━━━━━━━━━━━┓\n",
       "┃\u001b[1m \u001b[0m\u001b[1m  Source Location  \u001b[0m\u001b[1m \u001b[0m┃\u001b[1m \u001b[0m\u001b[1m    Categories     \u001b[0m\u001b[1m \u001b[0m┃\u001b[1m \u001b[0m\u001b[1mscvi-tools Encoding\u001b[0m\u001b[1m \u001b[0m┃\n",
       "┡━━━━━━━━━━━━━━━━━━━━━╇━━━━━━━━━━━━━━━━━━━━━╇━━━━━━━━━━━━━━━━━━━━━┩\n",
       "│\u001b[38;5;33m \u001b[0m\u001b[38;5;33madata.obs['sample']\u001b[0m\u001b[38;5;33m \u001b[0m│\u001b[32m \u001b[0m\u001b[32mV1_Human_Lymph_Node\u001b[0m\u001b[32m \u001b[0m│\u001b[38;5;128m \u001b[0m\u001b[38;5;128m         0         \u001b[0m\u001b[38;5;128m \u001b[0m│\n",
       "└─────────────────────┴─────────────────────┴─────────────────────┘\n"
      ]
     },
     "metadata": {},
     "output_type": "display_data"
    },
    {
     "data": {
      "text/html": [
       "<pre style=\"white-space:pre;overflow-x:auto;line-height:normal;font-family:Menlo,'DejaVu Sans Mono',consolas,'Courier New',monospace\"><span style=\"font-style: italic\">                     labels State Registry                      </span>\n",
       "┏━━━━━━━━━━━━━━━━━━━━━━━━━━━┳━━━━━━━━━━━━┳━━━━━━━━━━━━━━━━━━━━━┓\n",
       "┃<span style=\"font-weight: bold\">      Source Location      </span>┃<span style=\"font-weight: bold\"> Categories </span>┃<span style=\"font-weight: bold\"> scvi-tools Encoding </span>┃\n",
       "┡━━━━━━━━━━━━━━━━━━━━━━━━━━━╇━━━━━━━━━━━━╇━━━━━━━━━━━━━━━━━━━━━┩\n",
       "│<span style=\"color: #0087ff; text-decoration-color: #0087ff\"> adata.obs['_scvi_labels'] </span>│<span style=\"color: #008000; text-decoration-color: #008000\">     0      </span>│<span style=\"color: #af00d7; text-decoration-color: #af00d7\">          0          </span>│\n",
       "└───────────────────────────┴────────────┴─────────────────────┘\n",
       "</pre>\n"
      ],
      "text/plain": [
       "\u001b[3m                     labels State Registry                      \u001b[0m\n",
       "┏━━━━━━━━━━━━━━━━━━━━━━━━━━━┳━━━━━━━━━━━━┳━━━━━━━━━━━━━━━━━━━━━┓\n",
       "┃\u001b[1m \u001b[0m\u001b[1m     Source Location     \u001b[0m\u001b[1m \u001b[0m┃\u001b[1m \u001b[0m\u001b[1mCategories\u001b[0m\u001b[1m \u001b[0m┃\u001b[1m \u001b[0m\u001b[1mscvi-tools Encoding\u001b[0m\u001b[1m \u001b[0m┃\n",
       "┡━━━━━━━━━━━━━━━━━━━━━━━━━━━╇━━━━━━━━━━━━╇━━━━━━━━━━━━━━━━━━━━━┩\n",
       "│\u001b[38;5;33m \u001b[0m\u001b[38;5;33madata.obs['_scvi_labels']\u001b[0m\u001b[38;5;33m \u001b[0m│\u001b[32m \u001b[0m\u001b[32m    0     \u001b[0m\u001b[32m \u001b[0m│\u001b[38;5;128m \u001b[0m\u001b[38;5;128m         0         \u001b[0m\u001b[38;5;128m \u001b[0m│\n",
       "└───────────────────────────┴────────────┴─────────────────────┘\n"
      ]
     },
     "metadata": {},
     "output_type": "display_data"
    }
   ],
   "source": [
    "mod.view_anndata_setup()"
   ]
  },
  {
   "cell_type": "code",
   "execution_count": 69,
   "id": "8e3da64a-73cc-471a-9410-35aaa663d315",
   "metadata": {},
   "outputs": [
    {
     "name": "stderr",
     "output_type": "stream",
     "text": [
      "INFO: GPU available: True (cuda), used: True\n"
     ]
    },
    {
     "data": {
      "text/html": [
       "<pre style=\"white-space:pre;overflow-x:auto;line-height:normal;font-family:Menlo,'DejaVu Sans Mono',consolas,'Courier New',monospace\"><span style=\"color: #7fbfbf; text-decoration-color: #7fbfbf\">[03/08/25 19:56:31] </span><span style=\"color: #000080; text-decoration-color: #000080\">INFO    </span> GPU available: <span style=\"color: #00ff00; text-decoration-color: #00ff00; font-style: italic\">True</span> <span style=\"font-weight: bold\">(</span>cuda<span style=\"font-weight: bold\">)</span>, used: <span style=\"color: #00ff00; text-decoration-color: #00ff00; font-style: italic\">True</span>                                 <a href=\"file:///storage-a/users_data/jupyter/vapolonio/hexcore-project/hexcore-project-env/lib/python3.12/site-packages/lightning_utilities/core/rank_zero.py\" target=\"_blank\"><span style=\"color: #7f7f7f; text-decoration-color: #7f7f7f\">rank_zero.py</span></a><span style=\"color: #7f7f7f; text-decoration-color: #7f7f7f\">:</span><a href=\"file:///storage-a/users_data/jupyter/vapolonio/hexcore-project/hexcore-project-env/lib/python3.12/site-packages/lightning_utilities/core/rank_zero.py#63\" target=\"_blank\"><span style=\"color: #7f7f7f; text-decoration-color: #7f7f7f\">63</span></a>\n",
       "</pre>\n"
      ],
      "text/plain": [
       "\u001b[2;36m[03/08/25 19:56:31]\u001b[0m\u001b[2;36m \u001b[0m\u001b[34mINFO    \u001b[0m GPU available: \u001b[3;92mTrue\u001b[0m \u001b[1m(\u001b[0mcuda\u001b[1m)\u001b[0m, used: \u001b[3;92mTrue\u001b[0m                                 \u001b]8;id=791564;file:///storage-a/users_data/jupyter/vapolonio/hexcore-project/hexcore-project-env/lib/python3.12/site-packages/lightning_utilities/core/rank_zero.py\u001b\\\u001b[2mrank_zero.py\u001b[0m\u001b]8;;\u001b\\\u001b[2m:\u001b[0m\u001b]8;id=619814;file:///storage-a/users_data/jupyter/vapolonio/hexcore-project/hexcore-project-env/lib/python3.12/site-packages/lightning_utilities/core/rank_zero.py#63\u001b\\\u001b[2m63\u001b[0m\u001b]8;;\u001b\\\n"
      ]
     },
     "metadata": {},
     "output_type": "display_data"
    },
    {
     "name": "stderr",
     "output_type": "stream",
     "text": [
      "INFO: TPU available: False, using: 0 TPU cores\n"
     ]
    },
    {
     "data": {
      "text/html": [
       "<pre style=\"white-space:pre;overflow-x:auto;line-height:normal;font-family:Menlo,'DejaVu Sans Mono',consolas,'Courier New',monospace\"><span style=\"color: #7fbfbf; text-decoration-color: #7fbfbf\">                    </span><span style=\"color: #000080; text-decoration-color: #000080\">INFO    </span> TPU available: <span style=\"color: #ff0000; text-decoration-color: #ff0000; font-style: italic\">False</span>, using: <span style=\"color: #008080; text-decoration-color: #008080; font-weight: bold\">0</span> TPU cores                               <a href=\"file:///storage-a/users_data/jupyter/vapolonio/hexcore-project/hexcore-project-env/lib/python3.12/site-packages/lightning_utilities/core/rank_zero.py\" target=\"_blank\"><span style=\"color: #7f7f7f; text-decoration-color: #7f7f7f\">rank_zero.py</span></a><span style=\"color: #7f7f7f; text-decoration-color: #7f7f7f\">:</span><a href=\"file:///storage-a/users_data/jupyter/vapolonio/hexcore-project/hexcore-project-env/lib/python3.12/site-packages/lightning_utilities/core/rank_zero.py#63\" target=\"_blank\"><span style=\"color: #7f7f7f; text-decoration-color: #7f7f7f\">63</span></a>\n",
       "</pre>\n"
      ],
      "text/plain": [
       "\u001b[2;36m                   \u001b[0m\u001b[2;36m \u001b[0m\u001b[34mINFO    \u001b[0m TPU available: \u001b[3;91mFalse\u001b[0m, using: \u001b[1;36m0\u001b[0m TPU cores                               \u001b]8;id=463258;file:///storage-a/users_data/jupyter/vapolonio/hexcore-project/hexcore-project-env/lib/python3.12/site-packages/lightning_utilities/core/rank_zero.py\u001b\\\u001b[2mrank_zero.py\u001b[0m\u001b]8;;\u001b\\\u001b[2m:\u001b[0m\u001b]8;id=233075;file:///storage-a/users_data/jupyter/vapolonio/hexcore-project/hexcore-project-env/lib/python3.12/site-packages/lightning_utilities/core/rank_zero.py#63\u001b\\\u001b[2m63\u001b[0m\u001b]8;;\u001b\\\n"
      ]
     },
     "metadata": {},
     "output_type": "display_data"
    },
    {
     "name": "stderr",
     "output_type": "stream",
     "text": [
      "INFO: HPU available: False, using: 0 HPUs\n"
     ]
    },
    {
     "data": {
      "text/html": [
       "<pre style=\"white-space:pre;overflow-x:auto;line-height:normal;font-family:Menlo,'DejaVu Sans Mono',consolas,'Courier New',monospace\"><span style=\"color: #7fbfbf; text-decoration-color: #7fbfbf\">                    </span><span style=\"color: #000080; text-decoration-color: #000080\">INFO    </span> HPU available: <span style=\"color: #ff0000; text-decoration-color: #ff0000; font-style: italic\">False</span>, using: <span style=\"color: #008080; text-decoration-color: #008080; font-weight: bold\">0</span> HPUs                                    <a href=\"file:///storage-a/users_data/jupyter/vapolonio/hexcore-project/hexcore-project-env/lib/python3.12/site-packages/lightning_utilities/core/rank_zero.py\" target=\"_blank\"><span style=\"color: #7f7f7f; text-decoration-color: #7f7f7f\">rank_zero.py</span></a><span style=\"color: #7f7f7f; text-decoration-color: #7f7f7f\">:</span><a href=\"file:///storage-a/users_data/jupyter/vapolonio/hexcore-project/hexcore-project-env/lib/python3.12/site-packages/lightning_utilities/core/rank_zero.py#63\" target=\"_blank\"><span style=\"color: #7f7f7f; text-decoration-color: #7f7f7f\">63</span></a>\n",
       "</pre>\n"
      ],
      "text/plain": [
       "\u001b[2;36m                   \u001b[0m\u001b[2;36m \u001b[0m\u001b[34mINFO    \u001b[0m HPU available: \u001b[3;91mFalse\u001b[0m, using: \u001b[1;36m0\u001b[0m HPUs                                    \u001b]8;id=941285;file:///storage-a/users_data/jupyter/vapolonio/hexcore-project/hexcore-project-env/lib/python3.12/site-packages/lightning_utilities/core/rank_zero.py\u001b\\\u001b[2mrank_zero.py\u001b[0m\u001b]8;;\u001b\\\u001b[2m:\u001b[0m\u001b]8;id=498365;file:///storage-a/users_data/jupyter/vapolonio/hexcore-project/hexcore-project-env/lib/python3.12/site-packages/lightning_utilities/core/rank_zero.py#63\u001b\\\u001b[2m63\u001b[0m\u001b]8;;\u001b\\\n"
      ]
     },
     "metadata": {},
     "output_type": "display_data"
    },
    {
     "data": {
      "text/html": [
       "<pre style=\"white-space:pre;overflow-x:auto;line-height:normal;font-family:Menlo,'DejaVu Sans Mono',consolas,'Courier New',monospace\"><span style=\"color: #7fbfbf; text-decoration-color: #7fbfbf\">                    </span><span style=\"color: #808000; text-decoration-color: #808000\">WARNING </span> <span style=\"color: #800080; text-decoration-color: #800080\">/storage-a/users_data/jupyter/vapolonio/hexcore-project/hexcore-projec</span> <a href=\"file:///home/biosis-gpu/anaconda3/lib/python3.12/warnings.py\" target=\"_blank\"><span style=\"color: #7f7f7f; text-decoration-color: #7f7f7f\">warnings.py</span></a><span style=\"color: #7f7f7f; text-decoration-color: #7f7f7f\">:</span><a href=\"file:///home/biosis-gpu/anaconda3/lib/python3.12/warnings.py#112\" target=\"_blank\"><span style=\"color: #7f7f7f; text-decoration-color: #7f7f7f\">112</span></a>\n",
       "<span style=\"color: #7fbfbf; text-decoration-color: #7fbfbf\">                    </span>         <span style=\"color: #800080; text-decoration-color: #800080\">t-env/lib/python3.12/site-packages/lightning/pytorch/trainer/</span><span style=\"color: #ff00ff; text-decoration-color: #ff00ff\">configura</span> <span style=\"color: #7f7f7f; text-decoration-color: #7f7f7f\">               </span>\n",
       "<span style=\"color: #7fbfbf; text-decoration-color: #7fbfbf\">                    </span>         <span style=\"color: #ff00ff; text-decoration-color: #ff00ff\">tion_validator.py</span>:<span style=\"color: #008080; text-decoration-color: #008080; font-weight: bold\">68</span>: You passed in a `val_dataloader` but have no     <span style=\"color: #7f7f7f; text-decoration-color: #7f7f7f\">               </span>\n",
       "<span style=\"color: #7fbfbf; text-decoration-color: #7fbfbf\">                    </span>         `validation_step`. Skipping val loop.                                  <span style=\"color: #7f7f7f; text-decoration-color: #7f7f7f\">               </span>\n",
       "<span style=\"color: #7fbfbf; text-decoration-color: #7fbfbf\">                    </span>                                                                                <span style=\"color: #7f7f7f; text-decoration-color: #7f7f7f\">               </span>\n",
       "</pre>\n"
      ],
      "text/plain": [
       "\u001b[2;36m                   \u001b[0m\u001b[2;36m \u001b[0m\u001b[33mWARNING \u001b[0m \u001b[35m/storage-a/users_data/jupyter/vapolonio/hexcore-project/hexcore-projec\u001b[0m \u001b]8;id=659937;file:///home/biosis-gpu/anaconda3/lib/python3.12/warnings.py\u001b\\\u001b[2mwarnings.py\u001b[0m\u001b]8;;\u001b\\\u001b[2m:\u001b[0m\u001b]8;id=272635;file:///home/biosis-gpu/anaconda3/lib/python3.12/warnings.py#112\u001b\\\u001b[2m112\u001b[0m\u001b]8;;\u001b\\\n",
       "\u001b[2;36m                    \u001b[0m         \u001b[35mt-env/lib/python3.12/site-packages/lightning/pytorch/trainer/\u001b[0m\u001b[95mconfigura\u001b[0m \u001b[2m               \u001b[0m\n",
       "\u001b[2;36m                    \u001b[0m         \u001b[95mtion_validator.py\u001b[0m:\u001b[1;36m68\u001b[0m: You passed in a `val_dataloader` but have no     \u001b[2m               \u001b[0m\n",
       "\u001b[2;36m                    \u001b[0m         `validation_step`. Skipping val loop.                                  \u001b[2m               \u001b[0m\n",
       "\u001b[2;36m                    \u001b[0m                                                                                \u001b[2m               \u001b[0m\n"
      ]
     },
     "metadata": {},
     "output_type": "display_data"
    },
    {
     "name": "stderr",
     "output_type": "stream",
     "text": [
      "INFO: LOCAL_RANK: 0 - CUDA_VISIBLE_DEVICES: [0]\n"
     ]
    },
    {
     "data": {
      "text/html": [
       "<pre style=\"white-space:pre;overflow-x:auto;line-height:normal;font-family:Menlo,'DejaVu Sans Mono',consolas,'Courier New',monospace\"><span style=\"color: #7fbfbf; text-decoration-color: #7fbfbf\">                    </span><span style=\"color: #000080; text-decoration-color: #000080\">INFO    </span> LOCAL_RANK: <span style=\"color: #008080; text-decoration-color: #008080; font-weight: bold\">0</span> - CUDA_VISIBLE_DEVICES: <span style=\"font-weight: bold\">[</span><span style=\"color: #008080; text-decoration-color: #008080; font-weight: bold\">0</span><span style=\"font-weight: bold\">]</span>                                   <a href=\"file:///storage-a/users_data/jupyter/vapolonio/hexcore-project/hexcore-project-env/lib/python3.12/site-packages/lightning/pytorch/accelerators/cuda.py\" target=\"_blank\"><span style=\"color: #7f7f7f; text-decoration-color: #7f7f7f\">cuda.py</span></a><span style=\"color: #7f7f7f; text-decoration-color: #7f7f7f\">:</span><a href=\"file:///storage-a/users_data/jupyter/vapolonio/hexcore-project/hexcore-project-env/lib/python3.12/site-packages/lightning/pytorch/accelerators/cuda.py#61\" target=\"_blank\"><span style=\"color: #7f7f7f; text-decoration-color: #7f7f7f\">61</span></a>\n",
       "</pre>\n"
      ],
      "text/plain": [
       "\u001b[2;36m                   \u001b[0m\u001b[2;36m \u001b[0m\u001b[34mINFO    \u001b[0m LOCAL_RANK: \u001b[1;36m0\u001b[0m - CUDA_VISIBLE_DEVICES: \u001b[1m[\u001b[0m\u001b[1;36m0\u001b[0m\u001b[1m]\u001b[0m                                   \u001b]8;id=376911;file:///storage-a/users_data/jupyter/vapolonio/hexcore-project/hexcore-project-env/lib/python3.12/site-packages/lightning/pytorch/accelerators/cuda.py\u001b\\\u001b[2mcuda.py\u001b[0m\u001b]8;;\u001b\\\u001b[2m:\u001b[0m\u001b]8;id=611132;file:///storage-a/users_data/jupyter/vapolonio/hexcore-project/hexcore-project-env/lib/python3.12/site-packages/lightning/pytorch/accelerators/cuda.py#61\u001b\\\u001b[2m61\u001b[0m\u001b]8;;\u001b\\\n"
      ]
     },
     "metadata": {},
     "output_type": "display_data"
    },
    {
     "data": {
      "text/html": [
       "<pre style=\"white-space:pre;overflow-x:auto;line-height:normal;font-family:Menlo,'DejaVu Sans Mono',consolas,'Courier New',monospace\"><span style=\"color: #7fbfbf; text-decoration-color: #7fbfbf\">                    </span><span style=\"color: #808000; text-decoration-color: #808000\">WARNING </span> <span style=\"color: #800080; text-decoration-color: #800080\">/storage-a/users_data/jupyter/vapolonio/hexcore-project/hexcore-projec</span> <a href=\"file:///home/biosis-gpu/anaconda3/lib/python3.12/warnings.py\" target=\"_blank\"><span style=\"color: #7f7f7f; text-decoration-color: #7f7f7f\">warnings.py</span></a><span style=\"color: #7f7f7f; text-decoration-color: #7f7f7f\">:</span><a href=\"file:///home/biosis-gpu/anaconda3/lib/python3.12/warnings.py#112\" target=\"_blank\"><span style=\"color: #7f7f7f; text-decoration-color: #7f7f7f\">112</span></a>\n",
       "<span style=\"color: #7fbfbf; text-decoration-color: #7fbfbf\">                    </span>         <span style=\"color: #800080; text-decoration-color: #800080\">t-env/lib/python3.12/site-packages/lightning/pytorch/trainer/connector</span> <span style=\"color: #7f7f7f; text-decoration-color: #7f7f7f\">               </span>\n",
       "<span style=\"color: #7fbfbf; text-decoration-color: #7fbfbf\">                    </span>         <span style=\"color: #800080; text-decoration-color: #800080\">s/</span><span style=\"color: #ff00ff; text-decoration-color: #ff00ff\">data_connector.py</span>:<span style=\"color: #008080; text-decoration-color: #008080; font-weight: bold\">425</span>: The <span style=\"color: #008000; text-decoration-color: #008000\">'train_dataloader'</span> does not have many     <span style=\"color: #7f7f7f; text-decoration-color: #7f7f7f\">               </span>\n",
       "<span style=\"color: #7fbfbf; text-decoration-color: #7fbfbf\">                    </span>         workers which may be a bottleneck. Consider increasing the value of    <span style=\"color: #7f7f7f; text-decoration-color: #7f7f7f\">               </span>\n",
       "<span style=\"color: #7fbfbf; text-decoration-color: #7fbfbf\">                    </span>         the `num_workers` argument` to `<span style=\"color: #808000; text-decoration-color: #808000\">num_workers</span>=<span style=\"color: #008080; text-decoration-color: #008080; font-weight: bold\">31</span>` in the `DataLoader` to <span style=\"color: #7f7f7f; text-decoration-color: #7f7f7f\">               </span>\n",
       "<span style=\"color: #7fbfbf; text-decoration-color: #7fbfbf\">                    </span>         improve performance.                                                   <span style=\"color: #7f7f7f; text-decoration-color: #7f7f7f\">               </span>\n",
       "<span style=\"color: #7fbfbf; text-decoration-color: #7fbfbf\">                    </span>                                                                                <span style=\"color: #7f7f7f; text-decoration-color: #7f7f7f\">               </span>\n",
       "</pre>\n"
      ],
      "text/plain": [
       "\u001b[2;36m                   \u001b[0m\u001b[2;36m \u001b[0m\u001b[33mWARNING \u001b[0m \u001b[35m/storage-a/users_data/jupyter/vapolonio/hexcore-project/hexcore-projec\u001b[0m \u001b]8;id=964827;file:///home/biosis-gpu/anaconda3/lib/python3.12/warnings.py\u001b\\\u001b[2mwarnings.py\u001b[0m\u001b]8;;\u001b\\\u001b[2m:\u001b[0m\u001b]8;id=146253;file:///home/biosis-gpu/anaconda3/lib/python3.12/warnings.py#112\u001b\\\u001b[2m112\u001b[0m\u001b]8;;\u001b\\\n",
       "\u001b[2;36m                    \u001b[0m         \u001b[35mt-env/lib/python3.12/site-packages/lightning/pytorch/trainer/connector\u001b[0m \u001b[2m               \u001b[0m\n",
       "\u001b[2;36m                    \u001b[0m         \u001b[35ms/\u001b[0m\u001b[95mdata_connector.py\u001b[0m:\u001b[1;36m425\u001b[0m: The \u001b[32m'train_dataloader'\u001b[0m does not have many     \u001b[2m               \u001b[0m\n",
       "\u001b[2;36m                    \u001b[0m         workers which may be a bottleneck. Consider increasing the value of    \u001b[2m               \u001b[0m\n",
       "\u001b[2;36m                    \u001b[0m         the `num_workers` argument` to `\u001b[33mnum_workers\u001b[0m=\u001b[1;36m31\u001b[0m` in the `DataLoader` to \u001b[2m               \u001b[0m\n",
       "\u001b[2;36m                    \u001b[0m         improve performance.                                                   \u001b[2m               \u001b[0m\n",
       "\u001b[2;36m                    \u001b[0m                                                                                \u001b[2m               \u001b[0m\n"
      ]
     },
     "metadata": {},
     "output_type": "display_data"
    },
    {
     "data": {
      "text/html": [
       "<pre style=\"white-space:pre;overflow-x:auto;line-height:normal;font-family:Menlo,'DejaVu Sans Mono',consolas,'Courier New',monospace\"><span style=\"color: #7fbfbf; text-decoration-color: #7fbfbf\">                    </span><span style=\"color: #808000; text-decoration-color: #808000\">WARNING </span> <span style=\"color: #800080; text-decoration-color: #800080\">/storage-a/users_data/jupyter/vapolonio/hexcore-project/hexcore-projec</span> <a href=\"file:///home/biosis-gpu/anaconda3/lib/python3.12/warnings.py\" target=\"_blank\"><span style=\"color: #7f7f7f; text-decoration-color: #7f7f7f\">warnings.py</span></a><span style=\"color: #7f7f7f; text-decoration-color: #7f7f7f\">:</span><a href=\"file:///home/biosis-gpu/anaconda3/lib/python3.12/warnings.py#112\" target=\"_blank\"><span style=\"color: #7f7f7f; text-decoration-color: #7f7f7f\">112</span></a>\n",
       "<span style=\"color: #7fbfbf; text-decoration-color: #7fbfbf\">                    </span>         <span style=\"color: #800080; text-decoration-color: #800080\">t-env/lib/python3.12/site-packages/lightning/pytorch/loops/</span><span style=\"color: #ff00ff; text-decoration-color: #ff00ff\">fit_loop.py</span> <span style=\"color: #7f7f7f; text-decoration-color: #7f7f7f\">               </span>\n",
       "<span style=\"color: #7fbfbf; text-decoration-color: #7fbfbf\">                    </span>         :<span style=\"color: #008080; text-decoration-color: #008080; font-weight: bold\">310</span>: The number of training batches <span style=\"font-weight: bold\">(</span><span style=\"color: #008080; text-decoration-color: #008080; font-weight: bold\">1</span><span style=\"font-weight: bold\">)</span> is smaller than the logging   <span style=\"color: #7f7f7f; text-decoration-color: #7f7f7f\">               </span>\n",
       "<span style=\"color: #7fbfbf; text-decoration-color: #7fbfbf\">                    </span>         interval <span style=\"color: #800080; text-decoration-color: #800080; font-weight: bold\">Trainer</span><span style=\"font-weight: bold\">(</span><span style=\"color: #808000; text-decoration-color: #808000\">log_every_n_steps</span>=<span style=\"color: #008080; text-decoration-color: #008080; font-weight: bold\">10</span><span style=\"font-weight: bold\">)</span>. Set a lower value for          <span style=\"color: #7f7f7f; text-decoration-color: #7f7f7f\">               </span>\n",
       "<span style=\"color: #7fbfbf; text-decoration-color: #7fbfbf\">                    </span>         log_every_n_steps if you want to see logs for the training epoch.      <span style=\"color: #7f7f7f; text-decoration-color: #7f7f7f\">               </span>\n",
       "<span style=\"color: #7fbfbf; text-decoration-color: #7fbfbf\">                    </span>                                                                                <span style=\"color: #7f7f7f; text-decoration-color: #7f7f7f\">               </span>\n",
       "</pre>\n"
      ],
      "text/plain": [
       "\u001b[2;36m                   \u001b[0m\u001b[2;36m \u001b[0m\u001b[33mWARNING \u001b[0m \u001b[35m/storage-a/users_data/jupyter/vapolonio/hexcore-project/hexcore-projec\u001b[0m \u001b]8;id=462454;file:///home/biosis-gpu/anaconda3/lib/python3.12/warnings.py\u001b\\\u001b[2mwarnings.py\u001b[0m\u001b]8;;\u001b\\\u001b[2m:\u001b[0m\u001b]8;id=655175;file:///home/biosis-gpu/anaconda3/lib/python3.12/warnings.py#112\u001b\\\u001b[2m112\u001b[0m\u001b]8;;\u001b\\\n",
       "\u001b[2;36m                    \u001b[0m         \u001b[35mt-env/lib/python3.12/site-packages/lightning/pytorch/loops/\u001b[0m\u001b[95mfit_loop.py\u001b[0m \u001b[2m               \u001b[0m\n",
       "\u001b[2;36m                    \u001b[0m         :\u001b[1;36m310\u001b[0m: The number of training batches \u001b[1m(\u001b[0m\u001b[1;36m1\u001b[0m\u001b[1m)\u001b[0m is smaller than the logging   \u001b[2m               \u001b[0m\n",
       "\u001b[2;36m                    \u001b[0m         interval \u001b[1;35mTrainer\u001b[0m\u001b[1m(\u001b[0m\u001b[33mlog_every_n_steps\u001b[0m=\u001b[1;36m10\u001b[0m\u001b[1m)\u001b[0m. Set a lower value for          \u001b[2m               \u001b[0m\n",
       "\u001b[2;36m                    \u001b[0m         log_every_n_steps if you want to see logs for the training epoch.      \u001b[2m               \u001b[0m\n",
       "\u001b[2;36m                    \u001b[0m                                                                                \u001b[2m               \u001b[0m\n"
      ]
     },
     "metadata": {},
     "output_type": "display_data"
    },
    {
     "data": {
      "application/vnd.jupyter.widget-view+json": {
       "model_id": "f376b74b550b4e1696c9fd3cb4cb8d33",
       "version_major": 2,
       "version_minor": 0
      },
      "text/plain": [
       "Training:   0%|          | 0/30000 [00:00<?, ?it/s]"
      ]
     },
     "metadata": {},
     "output_type": "display_data"
    },
    {
     "name": "stderr",
     "output_type": "stream",
     "text": [
      "INFO: `Trainer.fit` stopped: `max_epochs=30000` reached.\n"
     ]
    },
    {
     "data": {
      "text/html": [
       "<pre style=\"white-space:pre;overflow-x:auto;line-height:normal;font-family:Menlo,'DejaVu Sans Mono',consolas,'Courier New',monospace\"><span style=\"color: #7fbfbf; text-decoration-color: #7fbfbf\">[03/08/25 20:47:54] </span><span style=\"color: #000080; text-decoration-color: #000080\">INFO    </span> `Trainer.fit` stopped: `<span style=\"color: #808000; text-decoration-color: #808000\">max_epochs</span>=<span style=\"color: #008080; text-decoration-color: #008080; font-weight: bold\">30000</span>` reached.                     <a href=\"file:///storage-a/users_data/jupyter/vapolonio/hexcore-project/hexcore-project-env/lib/python3.12/site-packages/lightning_utilities/core/rank_zero.py\" target=\"_blank\"><span style=\"color: #7f7f7f; text-decoration-color: #7f7f7f\">rank_zero.py</span></a><span style=\"color: #7f7f7f; text-decoration-color: #7f7f7f\">:</span><a href=\"file:///storage-a/users_data/jupyter/vapolonio/hexcore-project/hexcore-project-env/lib/python3.12/site-packages/lightning_utilities/core/rank_zero.py#63\" target=\"_blank\"><span style=\"color: #7f7f7f; text-decoration-color: #7f7f7f\">63</span></a>\n",
       "</pre>\n"
      ],
      "text/plain": [
       "\u001b[2;36m[03/08/25 20:47:54]\u001b[0m\u001b[2;36m \u001b[0m\u001b[34mINFO    \u001b[0m `Trainer.fit` stopped: `\u001b[33mmax_epochs\u001b[0m=\u001b[1;36m30000\u001b[0m` reached.                     \u001b]8;id=894765;file:///storage-a/users_data/jupyter/vapolonio/hexcore-project/hexcore-project-env/lib/python3.12/site-packages/lightning_utilities/core/rank_zero.py\u001b\\\u001b[2mrank_zero.py\u001b[0m\u001b]8;;\u001b\\\u001b[2m:\u001b[0m\u001b]8;id=873133;file:///storage-a/users_data/jupyter/vapolonio/hexcore-project/hexcore-project-env/lib/python3.12/site-packages/lightning_utilities/core/rank_zero.py#63\u001b\\\u001b[2m63\u001b[0m\u001b]8;;\u001b\\\n"
      ]
     },
     "metadata": {},
     "output_type": "display_data"
    }
   ],
   "source": [
    "model_cell2location.train(max_epochs=30000,\n",
    "          # train using full data (batch_size=None)\n",
    "          batch_size=None,\n",
    "          # use all data points in training because\n",
    "          # we need to estimate cell abundance at all locations\n",
    "          train_size=1\n",
    "         )"
   ]
  },
  {
   "cell_type": "code",
   "execution_count": 85,
   "id": "ad22afe0-3638-408f-b6bb-fc36a74e8e69",
   "metadata": {},
   "outputs": [
    {
     "data": {
      "text/html": [
       "<pre style=\"white-space:pre;overflow-x:auto;line-height:normal;font-family:Menlo,'DejaVu Sans Mono',consolas,'Courier New',monospace\"></pre>\n"
      ],
      "text/plain": []
     },
     "metadata": {},
     "output_type": "display_data"
    },
    {
     "data": {
      "text/plain": [
       "cell2location model with the following params: \n",
       "n_factors: \u001b[1;36m34\u001b[0m \n",
       "n_batch: \u001b[1;36m1\u001b[0m \n",
       "Training status: Trained\n",
       "\u001b[2;3m<class 'cell2location.models._cell2location_model.Cell2location'>.__repr__ returned empty string\u001b[0m"
      ]
     },
     "execution_count": 85,
     "metadata": {},
     "output_type": "execute_result"
    }
   ],
   "source": [
    "model_cell2location"
   ]
  },
  {
   "cell_type": "code",
   "execution_count": 86,
   "id": "35e1ca20-3499-4d91-bb76-a57b1359dfb9",
   "metadata": {},
   "outputs": [
    {
     "data": {
      "text/html": [
       "<pre style=\"white-space:pre;overflow-x:auto;line-height:normal;font-family:Menlo,'DejaVu Sans Mono',consolas,'Courier New',monospace\"></pre>\n"
      ],
      "text/plain": []
     },
     "metadata": {},
     "output_type": "display_data"
    },
    {
     "data": {
      "image/png": "[encoded data removed]",
      "text/plain": [
       "\u001b[1m<\u001b[0m\u001b[1;95mFigure\u001b[0m\u001b[39m size 64\u001b[0m\u001b[1;36m0x480\u001b[0m\u001b[39m with \u001b[0m\u001b[1;36m1\u001b[0m\u001b[39m Axes\u001b[0m\u001b[1m>\u001b[0m"
      ]
     },
     "metadata": {},
     "output_type": "display_data"
    }
   ],
   "source": [
    "model_cell2location.plot_history(1000)\n",
    "plt.legend(labels=['full data training']);"
   ]
  },
  {
   "cell_type": "code",
   "execution_count": 89,
   "id": "6b98c42a-474a-4e26-99c1-77210c84f90b",
   "metadata": {},
   "outputs": [
    {
     "data": {
      "application/vnd.jupyter.widget-view+json": {
       "model_id": "4175888c622d4c7fa815b71c3a3755b6",
       "version_major": 2,
       "version_minor": 0
      },
      "text/plain": [
       "Sampling local variables, batch:   0%|          | 0/1 [00:00<?, ?it/s]"
      ]
     },
     "metadata": {},
     "output_type": "display_data"
    },
    {
     "data": {
      "application/vnd.jupyter.widget-view+json": {
       "model_id": "4998f36cad18442aae7f2ad9498fc7d0",
       "version_major": 2,
       "version_minor": 0
      },
      "text/plain": [
       "Sampling global variables, sample:   0%|          | 0/999 [00:00<?, ?it/s]"
      ]
     },
     "metadata": {},
     "output_type": "display_data"
    }
   ],
   "source": [
    "# In this section, we export the estimated cell abundance (summary of the posterior distribution).\n",
    "adata_vis_export_posterior = model_cell2location.export_posterior(\n",
    "    adata_vis, sample_kwargs={'num_samples': 1000, 'batch_size': model_cell2location.adata.n_obs}\n",
    ")"
   ]
  },
  {
   "cell_type": "code",
   "execution_count": 88,
   "id": "74cd2a87-785f-41e8-8731-17a08d18f44b",
   "metadata": {},
   "outputs": [
    {
     "data": {
      "text/html": [
       "<pre style=\"white-space:pre;overflow-x:auto;line-height:normal;font-family:Menlo,'DejaVu Sans Mono',consolas,'Courier New',monospace\"></pre>\n"
      ],
      "text/plain": []
     },
     "metadata": {},
     "output_type": "display_data"
    },
    {
     "data": {
      "text/plain": [
       "\n",
       "AnnData object with n_obs × n_vars = \u001b[1;36m4035\u001b[0m × \u001b[1;36m10217\u001b[0m\n",
       "    obs: \u001b[32m'in_tissue'\u001b[0m, \u001b[32m'array_row'\u001b[0m, \u001b[32m'array_col'\u001b[0m, \u001b[32m'sample'\u001b[0m, \u001b[32m'_indices'\u001b[0m, \u001b[32m'_scvi_batch'\u001b[0m, \u001b[32m'_scvi_labels'\u001b[0m\n",
       "    var: \u001b[32m'feature_types'\u001b[0m, \u001b[32m'genome'\u001b[0m, \u001b[32m'SYMBOL'\u001b[0m, \u001b[32m'MT_gene'\u001b[0m\n",
       "    uns: \u001b[32m'spatial'\u001b[0m, \u001b[32m'_scvi_uuid'\u001b[0m, \u001b[32m'_scvi_manager_uuid'\u001b[0m, \u001b[32m'mod'\u001b[0m\n",
       "    obsm: \u001b[32m'spatial'\u001b[0m, \u001b[32m'MT'\u001b[0m, \u001b[32m'means_cell_abundance_w_sf'\u001b[0m, \u001b[32m'stds_cell_abundance_w_sf'\u001b[0m, \u001b[32m'q05_cell_abundance_w_sf'\u001b[0m, \u001b[32m'q95_cell_abundance_w_sf'\u001b[0m"
      ]
     },
     "execution_count": 88,
     "metadata": {},
     "output_type": "execute_result"
    }
   ],
   "source": [
    "adata_vis"
   ]
  },
  {
   "cell_type": "code",
   "execution_count": 90,
   "id": "72da8c35-e0fe-4c72-a617-a28a39710de8",
   "metadata": {},
   "outputs": [
    {
     "data": {
      "text/html": [
       "<pre style=\"white-space:pre;overflow-x:auto;line-height:normal;font-family:Menlo,'DejaVu Sans Mono',consolas,'Courier New',monospace\"></pre>\n"
      ],
      "text/plain": []
     },
     "metadata": {},
     "output_type": "display_data"
    },
    {
     "data": {
      "text/plain": [
       "\n",
       "AnnData object with n_obs × n_vars = \u001b[1;36m4035\u001b[0m × \u001b[1;36m10217\u001b[0m\n",
       "    obs: \u001b[32m'in_tissue'\u001b[0m, \u001b[32m'array_row'\u001b[0m, \u001b[32m'array_col'\u001b[0m, \u001b[32m'sample'\u001b[0m, \u001b[32m'_indices'\u001b[0m, \u001b[32m'_scvi_batch'\u001b[0m, \u001b[32m'_scvi_labels'\u001b[0m\n",
       "    var: \u001b[32m'feature_types'\u001b[0m, \u001b[32m'genome'\u001b[0m, \u001b[32m'SYMBOL'\u001b[0m, \u001b[32m'MT_gene'\u001b[0m\n",
       "    uns: \u001b[32m'spatial'\u001b[0m, \u001b[32m'_scvi_uuid'\u001b[0m, \u001b[32m'_scvi_manager_uuid'\u001b[0m, \u001b[32m'mod'\u001b[0m\n",
       "    obsm: \u001b[32m'spatial'\u001b[0m, \u001b[32m'MT'\u001b[0m, \u001b[32m'means_cell_abundance_w_sf'\u001b[0m, \u001b[32m'stds_cell_abundance_w_sf'\u001b[0m, \u001b[32m'q05_cell_abundance_w_sf'\u001b[0m, \u001b[32m'q95_cell_abundance_w_sf'\u001b[0m"
      ]
     },
     "execution_count": 90,
     "metadata": {},
     "output_type": "execute_result"
    }
   ],
   "source": [
    "adata_vis_export_posterior"
   ]
  },
  {
   "cell_type": "code",
   "execution_count": 91,
   "id": "31575167-80fe-451d-8ad4-1bd2d074ec87",
   "metadata": {},
   "outputs": [],
   "source": [
    "# Save model\n",
    "model_cell2location.save(f\"{run_name}\", overwrite=True)\n",
    "# Save anndata object with results\n",
    "adata_file = f\"{run_name}/sp_map.h5ad\"\n",
    "adata_vis_export_posterior.write(adata_file)"
   ]
  },
  {
   "cell_type": "code",
   "execution_count": null,
   "id": "bb0bd6a2-1a3d-4992-9619-87fd6947764f",
   "metadata": {},
   "outputs": [],
   "source": []
  },
  {
   "cell_type": "code",
   "execution_count": null,
   "id": "a1460dfe-46a2-4c5d-90da-6d1e0960715e",
   "metadata": {},
   "outputs": [],
   "source": []
  }
 ],
 "metadata": {
  "kernelspec": {
   "display_name": "Kedro (hexcore_project)",
   "language": "python",
   "name": "kedro_hexcore_project"
  },
  "language_info": {
   "codemirror_mode": {
    "name": "ipython",
    "version": 3
   },
   "file_extension": ".py",
   "mimetype": "text/x-python",
   "name": "python",
   "nbconvert_exporter": "python",
   "pygments_lexer": "ipython3",
   "version": "3.13.1"
  }
 },
 "nbformat": 4,
 "nbformat_minor": 5
}
